{
  "nbformat": 4,
  "nbformat_minor": 0,
  "metadata": {
    "kernelspec": {
      "display_name": "Python 3",
      "language": "python",
      "name": "python3"
    },
    "language_info": {
      "codemirror_mode": {
        "name": "ipython",
        "version": 3
      },
      "file_extension": ".py",
      "mimetype": "text/x-python",
      "name": "python",
      "nbconvert_exporter": "python",
      "pygments_lexer": "ipython3",
      "version": "3.7.3"
    },
    "colab": {
      "name": "Car_Price_Prediction_assignment.ipynb",
      "provenance": [],
      "collapsed_sections": []
    }
  },
  "cells": [
    {
      "cell_type": "markdown",
      "metadata": {
        "id": "4ZF46s9JbAIm"
      },
      "source": [
        "# Car Price Prediction::"
      ]
    },
    {
      "cell_type": "markdown",
      "metadata": {
        "id": "kxr50wgjbAIw"
      },
      "source": [
        "Download dataset from this link:\n",
        "\n",
        "https://www.kaggle.com/hellbuoy/car-price-prediction"
      ]
    },
    {
      "cell_type": "markdown",
      "metadata": {
        "id": "rwFzZ5yhbAIx"
      },
      "source": [
        "# Problem Statement::"
      ]
    },
    {
      "cell_type": "markdown",
      "metadata": {
        "id": "NFSfeMvLbAIy"
      },
      "source": [
        "A Chinese automobile company Geely Auto aspires to enter the US market by setting up their manufacturing unit there and producing cars locally to give competition to their US and European counterparts.\n",
        "\n",
        "They have contracted an automobile consulting company to understand the factors on which the pricing of cars depends. Specifically, they want to understand the factors affecting the pricing of cars in the American market, since those may be very different from the Chinese market. The company wants to know:\n",
        "\n",
        "Which variables are significant in predicting the price of a car\n",
        "How well those variables describe the price of a car\n",
        "Based on various market surveys, the consulting firm has gathered a large data set of different types of cars across the America market.\n",
        "\n",
        "# task::\n",
        "We are required to model the price of cars with the available independent variables. It will be used by the management to understand how exactly the prices vary with the independent variables. They can accordingly manipulate the design of the cars, the business strategy etc. to meet certain price levels. Further, the model will be a good way for management to understand the pricing dynamics of a new market."
      ]
    },
    {
      "cell_type": "markdown",
      "metadata": {
        "id": "iNvsprgbbAIz"
      },
      "source": [
        "# WORKFLOW ::"
      ]
    },
    {
      "cell_type": "markdown",
      "metadata": {
        "id": "uMvuNx2tbAIz"
      },
      "source": [
        "1.Load Data\n",
        "\n",
        "2.Check Missing Values ( If Exist ; Fill each record with mean of its feature )\n",
        "\n",
        "3.Split into 50% Training(Samples,Labels) , 30% Test(Samples,Labels) and 20% Validation Data(Samples,Labels).\n",
        "\n",
        "4.Model : input Layer (No. of features ), 3 hidden layers including 10,8,6 unit & Output Layer with activation function relu/tanh (check by experiment).\n",
        "\n",
        "5.Compilation Step (Note : Its a Regression problem , select loss , metrics according to it)\n",
        "6.Train the Model with Epochs (100) and validate it\n",
        "\n",
        "7.If the model gets overfit tune your model by changing the units , No. of layers , activation function , epochs , add dropout layer or add Regularizer according to the need .\n",
        "\n",
        "8.Evaluation Step\n",
        "\n",
        "9.Prediction"
      ]
    },
    {
      "cell_type": "code",
      "metadata": {
        "colab": {
          "base_uri": "https://localhost:8080/",
          "height": 35
        },
        "id": "x_W52nXobAI0",
        "outputId": "a9d70837-e3ca-45ce-f12c-e1338e28deb0"
      },
      "source": [
        "import numpy as np\n",
        "import pandas as pd\n",
        "import tensorflow as tf\n",
        "tf.__version__"
      ],
      "execution_count": 61,
      "outputs": [
        {
          "output_type": "execute_result",
          "data": {
            "application/vnd.google.colaboratory.intrinsic+json": {
              "type": "string"
            },
            "text/plain": [
              "'2.4.1'"
            ]
          },
          "metadata": {
            "tags": []
          },
          "execution_count": 61
        }
      ]
    },
    {
      "cell_type": "code",
      "metadata": {
        "id": "BUQV-c8gbAI1"
      },
      "source": [
        "%matplotlib inline\n",
        "import matplotlib.pyplot as plt\n"
      ],
      "execution_count": 62,
      "outputs": []
    },
    {
      "cell_type": "code",
      "metadata": {
        "colab": {
          "resources": {
            "http://localhost:8080/nbextensions/google.colab/files.js": {
              "data": "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",
              "ok": true,
              "headers": [
                [
                  "content-type",
                  "application/javascript"
                ]
              ],
              "status": 200,
              "status_text": ""
            }
          },
          "base_uri": "https://localhost:8080/",
          "height": 73
        },
        "id": "V_p8VX36bAI1",
        "outputId": "e3373dae-e180-47dd-c199-9411d2249d95"
      },
      "source": [
        "import io\n",
        "from google.colab import files\n",
        "upoaded = files.upload()"
      ],
      "execution_count": 63,
      "outputs": [
        {
          "output_type": "display_data",
          "data": {
            "text/html": [
              "\n",
              "     <input type=\"file\" id=\"files-6f972e3b-36f1-4d23-9706-3755411614df\" name=\"files[]\" multiple disabled\n",
              "        style=\"border:none\" />\n",
              "     <output id=\"result-6f972e3b-36f1-4d23-9706-3755411614df\">\n",
              "      Upload widget is only available when the cell has been executed in the\n",
              "      current browser session. Please rerun this cell to enable.\n",
              "      </output>\n",
              "      <script src=\"/nbextensions/google.colab/files.js\"></script> "
            ],
            "text/plain": [
              "<IPython.core.display.HTML object>"
            ]
          },
          "metadata": {
            "tags": []
          }
        },
        {
          "output_type": "stream",
          "text": [
            "Saving CarPrice_Assignment.csv to CarPrice_Assignment (1).csv\n"
          ],
          "name": "stdout"
        }
      ]
    },
    {
      "cell_type": "code",
      "metadata": {
        "colab": {
          "base_uri": "https://localhost:8080/"
        },
        "id": "EgZtIw_ebAI1",
        "outputId": "fa3ad02c-9277-491c-fe99-9966f9d43ed1"
      },
      "source": [
        "df=pd.read_csv('CarPrice_Assignment.csv')\n",
        "df.head"
      ],
      "execution_count": 64,
      "outputs": [
        {
          "output_type": "execute_result",
          "data": {
            "text/plain": [
              "<bound method NDFrame.head of      car_ID  symboling                   CarName  ... citympg highwaympg    price\n",
              "0         1          3        alfa-romero giulia  ...      21         27  13495.0\n",
              "1         2          3       alfa-romero stelvio  ...      21         27  16500.0\n",
              "2         3          1  alfa-romero Quadrifoglio  ...      19         26  16500.0\n",
              "3         4          2               audi 100 ls  ...      24         30  13950.0\n",
              "4         5          2                audi 100ls  ...      18         22  17450.0\n",
              "..      ...        ...                       ...  ...     ...        ...      ...\n",
              "200     201         -1           volvo 145e (sw)  ...      23         28  16845.0\n",
              "201     202         -1               volvo 144ea  ...      19         25  19045.0\n",
              "202     203         -1               volvo 244dl  ...      18         23  21485.0\n",
              "203     204         -1                 volvo 246  ...      26         27  22470.0\n",
              "204     205         -1               volvo 264gl  ...      19         25  22625.0\n",
              "\n",
              "[205 rows x 26 columns]>"
            ]
          },
          "metadata": {
            "tags": []
          },
          "execution_count": 64
        }
      ]
    },
    {
      "cell_type": "code",
      "metadata": {
        "colab": {
          "base_uri": "https://localhost:8080/"
        },
        "id": "i0K_HXJLpYW5",
        "outputId": "a830bc8b-e54f-41fc-c0e4-dd2618616341"
      },
      "source": [
        "df.isnull().sum()"
      ],
      "execution_count": 65,
      "outputs": [
        {
          "output_type": "execute_result",
          "data": {
            "text/plain": [
              "car_ID              0\n",
              "symboling           0\n",
              "CarName             0\n",
              "fueltype            0\n",
              "aspiration          0\n",
              "doornumber          0\n",
              "carbody             0\n",
              "drivewheel          0\n",
              "enginelocation      0\n",
              "wheelbase           0\n",
              "carlength           0\n",
              "carwidth            0\n",
              "carheight           0\n",
              "curbweight          0\n",
              "enginetype          0\n",
              "cylindernumber      0\n",
              "enginesize          0\n",
              "fuelsystem          0\n",
              "boreratio           0\n",
              "stroke              0\n",
              "compressionratio    0\n",
              "horsepower          0\n",
              "peakrpm             0\n",
              "citympg             0\n",
              "highwaympg          0\n",
              "price               0\n",
              "dtype: int64"
            ]
          },
          "metadata": {
            "tags": []
          },
          "execution_count": 65
        }
      ]
    },
    {
      "cell_type": "code",
      "metadata": {
        "id": "eXYvysm8ey4O",
        "colab": {
          "base_uri": "https://localhost:8080/"
        },
        "outputId": "de6489f2-c00b-4d8d-9c17-6c1ecf3ff4ce"
      },
      "source": [
        "df.dtypes"
      ],
      "execution_count": 66,
      "outputs": [
        {
          "output_type": "execute_result",
          "data": {
            "text/plain": [
              "car_ID                int64\n",
              "symboling             int64\n",
              "CarName              object\n",
              "fueltype             object\n",
              "aspiration           object\n",
              "doornumber           object\n",
              "carbody              object\n",
              "drivewheel           object\n",
              "enginelocation       object\n",
              "wheelbase           float64\n",
              "carlength           float64\n",
              "carwidth            float64\n",
              "carheight           float64\n",
              "curbweight            int64\n",
              "enginetype           object\n",
              "cylindernumber       object\n",
              "enginesize            int64\n",
              "fuelsystem           object\n",
              "boreratio           float64\n",
              "stroke              float64\n",
              "compressionratio    float64\n",
              "horsepower            int64\n",
              "peakrpm               int64\n",
              "citympg               int64\n",
              "highwaympg            int64\n",
              "price               float64\n",
              "dtype: object"
            ]
          },
          "metadata": {
            "tags": []
          },
          "execution_count": 66
        }
      ]
    },
    {
      "cell_type": "code",
      "metadata": {
        "id": "H8PFQsylpu6f"
      },
      "source": [
        "x = df[['symboling','wheelbase','carlength','carwidth','carheight','curbweight','enginesize','boreratio','stroke','compressionratio','horsepower','peakrpm','citympg','highwaympg']].values"
      ],
      "execution_count": 67,
      "outputs": []
    },
    {
      "cell_type": "code",
      "metadata": {
        "colab": {
          "base_uri": "https://localhost:8080/"
        },
        "id": "O_LAFI9mGBht",
        "outputId": "183a4e8a-8486-4d3d-b99b-7bd98aba1ed0"
      },
      "source": [
        "x.astype('float32')"
      ],
      "execution_count": 68,
      "outputs": [
        {
          "output_type": "execute_result",
          "data": {
            "text/plain": [
              "array([[ 3.000e+00,  8.860e+01,  1.688e+02, ...,  5.000e+03,  2.100e+01,\n",
              "         2.700e+01],\n",
              "       [ 3.000e+00,  8.860e+01,  1.688e+02, ...,  5.000e+03,  2.100e+01,\n",
              "         2.700e+01],\n",
              "       [ 1.000e+00,  9.450e+01,  1.712e+02, ...,  5.000e+03,  1.900e+01,\n",
              "         2.600e+01],\n",
              "       ...,\n",
              "       [-1.000e+00,  1.091e+02,  1.888e+02, ...,  5.500e+03,  1.800e+01,\n",
              "         2.300e+01],\n",
              "       [-1.000e+00,  1.091e+02,  1.888e+02, ...,  4.800e+03,  2.600e+01,\n",
              "         2.700e+01],\n",
              "       [-1.000e+00,  1.091e+02,  1.888e+02, ...,  5.400e+03,  1.900e+01,\n",
              "         2.500e+01]], dtype=float32)"
            ]
          },
          "metadata": {
            "tags": []
          },
          "execution_count": 68
        }
      ]
    },
    {
      "cell_type": "code",
      "metadata": {
        "id": "jGr2UQ22ioz5"
      },
      "source": [
        "y= df[['price']].values"
      ],
      "execution_count": 69,
      "outputs": []
    },
    {
      "cell_type": "code",
      "metadata": {
        "colab": {
          "base_uri": "https://localhost:8080/"
        },
        "id": "tCwKzbxfGIs0",
        "outputId": "31d13a92-f6d2-4367-cfe2-90f1d8a686c7"
      },
      "source": [
        "y.astype('float32')"
      ],
      "execution_count": 70,
      "outputs": [
        {
          "output_type": "execute_result",
          "data": {
            "text/plain": [
              "array([[13495.   ],\n",
              "       [16500.   ],\n",
              "       [16500.   ],\n",
              "       [13950.   ],\n",
              "       [17450.   ],\n",
              "       [15250.   ],\n",
              "       [17710.   ],\n",
              "       [18920.   ],\n",
              "       [23875.   ],\n",
              "       [17859.168],\n",
              "       [16430.   ],\n",
              "       [16925.   ],\n",
              "       [20970.   ],\n",
              "       [21105.   ],\n",
              "       [24565.   ],\n",
              "       [30760.   ],\n",
              "       [41315.   ],\n",
              "       [36880.   ],\n",
              "       [ 5151.   ],\n",
              "       [ 6295.   ],\n",
              "       [ 6575.   ],\n",
              "       [ 5572.   ],\n",
              "       [ 6377.   ],\n",
              "       [ 7957.   ],\n",
              "       [ 6229.   ],\n",
              "       [ 6692.   ],\n",
              "       [ 7609.   ],\n",
              "       [ 8558.   ],\n",
              "       [ 8921.   ],\n",
              "       [12964.   ],\n",
              "       [ 6479.   ],\n",
              "       [ 6855.   ],\n",
              "       [ 5399.   ],\n",
              "       [ 6529.   ],\n",
              "       [ 7129.   ],\n",
              "       [ 7295.   ],\n",
              "       [ 7295.   ],\n",
              "       [ 7895.   ],\n",
              "       [ 9095.   ],\n",
              "       [ 8845.   ],\n",
              "       [10295.   ],\n",
              "       [12945.   ],\n",
              "       [10345.   ],\n",
              "       [ 6785.   ],\n",
              "       [ 8916.5  ],\n",
              "       [ 8916.5  ],\n",
              "       [11048.   ],\n",
              "       [32250.   ],\n",
              "       [35550.   ],\n",
              "       [36000.   ],\n",
              "       [ 5195.   ],\n",
              "       [ 6095.   ],\n",
              "       [ 6795.   ],\n",
              "       [ 6695.   ],\n",
              "       [ 7395.   ],\n",
              "       [10945.   ],\n",
              "       [11845.   ],\n",
              "       [13645.   ],\n",
              "       [15645.   ],\n",
              "       [ 8845.   ],\n",
              "       [ 8495.   ],\n",
              "       [10595.   ],\n",
              "       [10245.   ],\n",
              "       [10795.   ],\n",
              "       [11245.   ],\n",
              "       [18280.   ],\n",
              "       [18344.   ],\n",
              "       [25552.   ],\n",
              "       [28248.   ],\n",
              "       [28176.   ],\n",
              "       [31600.   ],\n",
              "       [34184.   ],\n",
              "       [35056.   ],\n",
              "       [40960.   ],\n",
              "       [45400.   ],\n",
              "       [16503.   ],\n",
              "       [ 5389.   ],\n",
              "       [ 6189.   ],\n",
              "       [ 6669.   ],\n",
              "       [ 7689.   ],\n",
              "       [ 9959.   ],\n",
              "       [ 8499.   ],\n",
              "       [12629.   ],\n",
              "       [14869.   ],\n",
              "       [14489.   ],\n",
              "       [ 6989.   ],\n",
              "       [ 8189.   ],\n",
              "       [ 9279.   ],\n",
              "       [ 9279.   ],\n",
              "       [ 5499.   ],\n",
              "       [ 7099.   ],\n",
              "       [ 6649.   ],\n",
              "       [ 6849.   ],\n",
              "       [ 7349.   ],\n",
              "       [ 7299.   ],\n",
              "       [ 7799.   ],\n",
              "       [ 7499.   ],\n",
              "       [ 7999.   ],\n",
              "       [ 8249.   ],\n",
              "       [ 8949.   ],\n",
              "       [ 9549.   ],\n",
              "       [13499.   ],\n",
              "       [14399.   ],\n",
              "       [13499.   ],\n",
              "       [17199.   ],\n",
              "       [19699.   ],\n",
              "       [18399.   ],\n",
              "       [11900.   ],\n",
              "       [13200.   ],\n",
              "       [12440.   ],\n",
              "       [13860.   ],\n",
              "       [15580.   ],\n",
              "       [16900.   ],\n",
              "       [16695.   ],\n",
              "       [17075.   ],\n",
              "       [16630.   ],\n",
              "       [17950.   ],\n",
              "       [18150.   ],\n",
              "       [ 5572.   ],\n",
              "       [ 7957.   ],\n",
              "       [ 6229.   ],\n",
              "       [ 6692.   ],\n",
              "       [ 7609.   ],\n",
              "       [ 8921.   ],\n",
              "       [12764.   ],\n",
              "       [22018.   ],\n",
              "       [32528.   ],\n",
              "       [34028.   ],\n",
              "       [37028.   ],\n",
              "       [31400.5  ],\n",
              "       [ 9295.   ],\n",
              "       [ 9895.   ],\n",
              "       [11850.   ],\n",
              "       [12170.   ],\n",
              "       [15040.   ],\n",
              "       [15510.   ],\n",
              "       [18150.   ],\n",
              "       [18620.   ],\n",
              "       [ 5118.   ],\n",
              "       [ 7053.   ],\n",
              "       [ 7603.   ],\n",
              "       [ 7126.   ],\n",
              "       [ 7775.   ],\n",
              "       [ 9960.   ],\n",
              "       [ 9233.   ],\n",
              "       [11259.   ],\n",
              "       [ 7463.   ],\n",
              "       [10198.   ],\n",
              "       [ 8013.   ],\n",
              "       [11694.   ],\n",
              "       [ 5348.   ],\n",
              "       [ 6338.   ],\n",
              "       [ 6488.   ],\n",
              "       [ 6918.   ],\n",
              "       [ 7898.   ],\n",
              "       [ 8778.   ],\n",
              "       [ 6938.   ],\n",
              "       [ 7198.   ],\n",
              "       [ 7898.   ],\n",
              "       [ 7788.   ],\n",
              "       [ 7738.   ],\n",
              "       [ 8358.   ],\n",
              "       [ 9258.   ],\n",
              "       [ 8058.   ],\n",
              "       [ 8238.   ],\n",
              "       [ 9298.   ],\n",
              "       [ 9538.   ],\n",
              "       [ 8449.   ],\n",
              "       [ 9639.   ],\n",
              "       [ 9989.   ],\n",
              "       [11199.   ],\n",
              "       [11549.   ],\n",
              "       [17669.   ],\n",
              "       [ 8948.   ],\n",
              "       [10698.   ],\n",
              "       [ 9988.   ],\n",
              "       [10898.   ],\n",
              "       [11248.   ],\n",
              "       [16558.   ],\n",
              "       [15998.   ],\n",
              "       [15690.   ],\n",
              "       [15750.   ],\n",
              "       [ 7775.   ],\n",
              "       [ 7975.   ],\n",
              "       [ 7995.   ],\n",
              "       [ 8195.   ],\n",
              "       [ 8495.   ],\n",
              "       [ 9495.   ],\n",
              "       [ 9995.   ],\n",
              "       [11595.   ],\n",
              "       [ 9980.   ],\n",
              "       [13295.   ],\n",
              "       [13845.   ],\n",
              "       [12290.   ],\n",
              "       [12940.   ],\n",
              "       [13415.   ],\n",
              "       [15985.   ],\n",
              "       [16515.   ],\n",
              "       [18420.   ],\n",
              "       [18950.   ],\n",
              "       [16845.   ],\n",
              "       [19045.   ],\n",
              "       [21485.   ],\n",
              "       [22470.   ],\n",
              "       [22625.   ]], dtype=float32)"
            ]
          },
          "metadata": {
            "tags": []
          },
          "execution_count": 70
        }
      ]
    },
    {
      "cell_type": "code",
      "metadata": {
        "id": "FsIw3gBf0HWv",
        "colab": {
          "base_uri": "https://localhost:8080/"
        },
        "outputId": "000f7734-242b-44ad-cb74-50796e76e1b5"
      },
      "source": [
        "x.shape"
      ],
      "execution_count": 71,
      "outputs": [
        {
          "output_type": "execute_result",
          "data": {
            "text/plain": [
              "(205, 14)"
            ]
          },
          "metadata": {
            "tags": []
          },
          "execution_count": 71
        }
      ]
    },
    {
      "cell_type": "code",
      "metadata": {
        "id": "WU7K1Selu-OF"
      },
      "source": [
        "from sklearn.model_selection import train_test_split\n",
        "train_x, test_x, train_label, test_label = train_test_split(x, y, test_size=0.30, random_state=42)"
      ],
      "execution_count": 72,
      "outputs": []
    },
    {
      "cell_type": "code",
      "metadata": {
        "id": "3Pt-bI7rsyDV",
        "colab": {
          "base_uri": "https://localhost:8080/"
        },
        "outputId": "f29f5c51-0a84-4c46-fd1b-d155c77cb837"
      },
      "source": [
        "train_label"
      ],
      "execution_count": 73,
      "outputs": [
        {
          "output_type": "execute_result",
          "data": {
            "text/plain": [
              "array([[11248. ],\n",
              "       [16503. ],\n",
              "       [10698. ],\n",
              "       [ 6855. ],\n",
              "       [20970. ],\n",
              "       [ 7295. ],\n",
              "       [22018. ],\n",
              "       [10345. ],\n",
              "       [ 6938. ],\n",
              "       [18150. ],\n",
              "       [ 7603. ],\n",
              "       [ 6095. ],\n",
              "       [16695. ],\n",
              "       [ 9538. ],\n",
              "       [12945. ],\n",
              "       [12764. ],\n",
              "       [ 6669. ],\n",
              "       [ 7957. ],\n",
              "       [ 7609. ],\n",
              "       [18620. ],\n",
              "       [16845. ],\n",
              "       [18150. ],\n",
              "       [16500. ],\n",
              "       [ 6189. ],\n",
              "       [11048. ],\n",
              "       [ 7609. ],\n",
              "       [34028. ],\n",
              "       [ 6989. ],\n",
              "       [ 5118. ],\n",
              "       [ 7295. ],\n",
              "       [17075. ],\n",
              "       [10595. ],\n",
              "       [ 6377. ],\n",
              "       [15510. ],\n",
              "       [13845. ],\n",
              "       [ 6529. ],\n",
              "       [16925. ],\n",
              "       [18950. ],\n",
              "       [ 8058. ],\n",
              "       [17710. ],\n",
              "       [ 8558. ],\n",
              "       [32528. ],\n",
              "       [15985. ],\n",
              "       [ 7126. ],\n",
              "       [17450. ],\n",
              "       [ 5399. ],\n",
              "       [12440. ],\n",
              "       [ 9495. ],\n",
              "       [16630. ],\n",
              "       [ 8013. ],\n",
              "       [16430. ],\n",
              "       [10245. ],\n",
              "       [ 5572. ],\n",
              "       [ 5348. ],\n",
              "       [11199. ],\n",
              "       [13495. ],\n",
              "       [ 7995. ],\n",
              "       [ 7975. ],\n",
              "       [31600. ],\n",
              "       [22470. ],\n",
              "       [11245. ],\n",
              "       [ 8916.5],\n",
              "       [ 9298. ],\n",
              "       [ 8921. ],\n",
              "       [10295. ],\n",
              "       [13200. ],\n",
              "       [ 8921. ],\n",
              "       [ 7957. ],\n",
              "       [ 8778. ],\n",
              "       [11595. ],\n",
              "       [ 8499. ],\n",
              "       [ 8845. ],\n",
              "       [17669. ],\n",
              "       [32250. ],\n",
              "       [ 7299. ],\n",
              "       [ 7898. ],\n",
              "       [ 6785. ],\n",
              "       [ 7775. ],\n",
              "       [13950. ],\n",
              "       [19699. ],\n",
              "       [ 6695. ],\n",
              "       [12170. ],\n",
              "       [ 8195. ],\n",
              "       [ 8358. ],\n",
              "       [ 9980. ],\n",
              "       [36000. ],\n",
              "       [ 9959. ],\n",
              "       [ 7129. ],\n",
              "       [18920. ],\n",
              "       [13860. ],\n",
              "       [ 6649. ],\n",
              "       [14869. ],\n",
              "       [15750. ],\n",
              "       [ 8495. ],\n",
              "       [ 5499. ],\n",
              "       [23875. ],\n",
              "       [21105. ],\n",
              "       [ 8845. ],\n",
              "       [10898. ],\n",
              "       [ 9895. ],\n",
              "       [36880. ],\n",
              "       [35056. ],\n",
              "       [15690. ],\n",
              "       [15040. ],\n",
              "       [11549. ],\n",
              "       [18420. ],\n",
              "       [10795. ],\n",
              "       [ 7395. ],\n",
              "       [11900. ],\n",
              "       [ 5195. ],\n",
              "       [19045. ],\n",
              "       [ 9989. ],\n",
              "       [15645. ],\n",
              "       [35550. ],\n",
              "       [ 9279. ],\n",
              "       [ 5572. ],\n",
              "       [13645. ],\n",
              "       [ 7738. ],\n",
              "       [16515. ],\n",
              "       [31400.5],\n",
              "       [ 7895. ],\n",
              "       [ 7198. ],\n",
              "       [12290. ],\n",
              "       [16500. ],\n",
              "       [ 6795. ],\n",
              "       [11694. ],\n",
              "       [ 9295. ],\n",
              "       [ 6338. ],\n",
              "       [13499. ],\n",
              "       [ 8949. ],\n",
              "       [17950. ],\n",
              "       [ 9279. ],\n",
              "       [45400. ],\n",
              "       [ 6692. ],\n",
              "       [22625. ],\n",
              "       [ 6575. ],\n",
              "       [ 9995. ],\n",
              "       [34184. ],\n",
              "       [18399. ],\n",
              "       [24565. ],\n",
              "       [ 6849. ],\n",
              "       [15998. ],\n",
              "       [14399. ]])"
            ]
          },
          "metadata": {
            "tags": []
          },
          "execution_count": 73
        }
      ]
    },
    {
      "cell_type": "code",
      "metadata": {
        "colab": {
          "base_uri": "https://localhost:8080/"
        },
        "id": "5fffeSLaxDFB",
        "outputId": "cae61bc8-e923-4a8c-93eb-2cec713d1696"
      },
      "source": [
        "train_x.shape"
      ],
      "execution_count": 74,
      "outputs": [
        {
          "output_type": "execute_result",
          "data": {
            "text/plain": [
              "(143, 14)"
            ]
          },
          "metadata": {
            "tags": []
          },
          "execution_count": 74
        }
      ]
    },
    {
      "cell_type": "code",
      "metadata": {
        "colab": {
          "base_uri": "https://localhost:8080/"
        },
        "id": "NrhxVzPhyVNm",
        "outputId": "16884a8a-07ae-4eda-9de8-0e91a58b5cbd"
      },
      "source": [
        "test_label.shape"
      ],
      "execution_count": 75,
      "outputs": [
        {
          "output_type": "execute_result",
          "data": {
            "text/plain": [
              "(62, 1)"
            ]
          },
          "metadata": {
            "tags": []
          },
          "execution_count": 75
        }
      ]
    },
    {
      "cell_type": "code",
      "metadata": {
        "colab": {
          "base_uri": "https://localhost:8080/"
        },
        "id": "0zhTxArGx4Wj",
        "outputId": "a7e06cba-00b1-40e1-93f7-16e4e09b0ea8"
      },
      "source": [
        "test_x.shape"
      ],
      "execution_count": 76,
      "outputs": [
        {
          "output_type": "execute_result",
          "data": {
            "text/plain": [
              "(62, 14)"
            ]
          },
          "metadata": {
            "tags": []
          },
          "execution_count": 76
        }
      ]
    },
    {
      "cell_type": "code",
      "metadata": {
        "colab": {
          "base_uri": "https://localhost:8080/"
        },
        "id": "FB17qfbEzuZ6",
        "outputId": "fdc39eda-4b9a-4471-bf86-0900f32e6efa"
      },
      "source": [
        "train_label.shape"
      ],
      "execution_count": 77,
      "outputs": [
        {
          "output_type": "execute_result",
          "data": {
            "text/plain": [
              "(143, 1)"
            ]
          },
          "metadata": {
            "tags": []
          },
          "execution_count": 77
        }
      ]
    },
    {
      "cell_type": "code",
      "metadata": {
        "id": "cTQWfrlNzucj"
      },
      "source": [
        "mean=train_x.mean(axis=0)\n",
        "train_x-=mean\n",
        "std=train_x.std(axis=0)\n",
        "train_x/=std\n",
        "test_x-=mean\n",
        "test_x/=std\n"
      ],
      "execution_count": 78,
      "outputs": []
    },
    {
      "cell_type": "code",
      "metadata": {
        "colab": {
          "base_uri": "https://localhost:8080/"
        },
        "id": "zktJAPc9zufB",
        "outputId": "e97bc9fa-5135-4445-935b-6107b3dcc877"
      },
      "source": [
        "train_x.shape"
      ],
      "execution_count": 79,
      "outputs": [
        {
          "output_type": "execute_result",
          "data": {
            "text/plain": [
              "(143, 14)"
            ]
          },
          "metadata": {
            "tags": []
          },
          "execution_count": 79
        }
      ]
    },
    {
      "cell_type": "code",
      "metadata": {
        "id": "0lzwnPS414Xr"
      },
      "source": [
        "from keras import models\n",
        "from keras import layers\n",
        "from keras import regularizers\n",
        "def build_model():\n",
        "  model=models.Sequential()\n",
        "  model.add(layers.Dense(10,kernel_regularizer=regularizers.l1_l2(l1=0.001,l2=0.001),activation='relu',input_shape=(train_x.shape[1],)))\n",
        "  model.add(layers.Dense(8,kernel_regularizer=regularizers.l1_l2(l1=0.001,l2=0.001),activation='relu'))\n",
        "  model.add(layers.Dense(6,kernel_regularizer=regularizers.l1_l2(l1=0.001,l2=0.001),activation='relu'))\n",
        "  model.add(layers.Dense(1))\n",
        "  model.compile(optimizer='rmsprop',loss='mse',metrics=['mae'])\n",
        "  return model"
      ],
      "execution_count": 80,
      "outputs": []
    },
    {
      "cell_type": "code",
      "metadata": {
        "colab": {
          "base_uri": "https://localhost:8080/"
        },
        "id": "9i1Jb2Y0vqI1",
        "outputId": "5868f826-a9a7-40ff-8549-2e475c610bf2"
      },
      "source": [
        "k=4\n",
        "samples=len(train_x)//k\n",
        "num_epochs=500\n",
        "all_scores=[]\n",
        "all_mae_history=[]\n",
        "for i in range (k):\n",
        "  print('proccessing fold #',i)\n",
        "  validation_x=train_x[i*samples:(i+1)*samples]\n",
        "  validation_label=train_label[i*samples:(i+1)*samples]\n",
        "  partial_train_x=np.concatenate([train_x[:i*samples],train_x[(i+1)*samples:]],axis=0)\n",
        "  partial_train_label=np.concatenate([train_label[:i*samples],train_label[(i+1)*samples:]],axis=0)\n",
        "  model= build_model()\n",
        "  history=model.fit(partial_train_x, partial_train_label, epochs=num_epochs, batch_size=1,verbose=0)\n",
        "  validation_mse, validation_mae=model.evaluate(validation_x,validation_label,verbose=0)\n",
        "  all_scores.append(validation_mae)\n",
        "  mae_history=history.history['mae']\n",
        "  all_mae_history.append(mae_history)"
      ],
      "execution_count": 81,
      "outputs": [
        {
          "output_type": "stream",
          "text": [
            "proccessing fold # 0\n",
            "WARNING:tensorflow:6 out of the last 11 calls to <function Model.make_test_function.<locals>.test_function at 0x7fb3e9c5d950> triggered tf.function retracing. Tracing is expensive and the excessive number of tracings could be due to (1) creating @tf.function repeatedly in a loop, (2) passing tensors with different shapes, (3) passing Python objects instead of tensors. For (1), please define your @tf.function outside of the loop. For (2), @tf.function has experimental_relax_shapes=True option that relaxes argument shapes that can avoid unnecessary retracing. For (3), please refer to https://www.tensorflow.org/guide/function#controlling_retracing and https://www.tensorflow.org/api_docs/python/tf/function for  more details.\n",
            "proccessing fold # 1\n",
            "WARNING:tensorflow:6 out of the last 11 calls to <function Model.make_test_function.<locals>.test_function at 0x7fb3d766fe60> triggered tf.function retracing. Tracing is expensive and the excessive number of tracings could be due to (1) creating @tf.function repeatedly in a loop, (2) passing tensors with different shapes, (3) passing Python objects instead of tensors. For (1), please define your @tf.function outside of the loop. For (2), @tf.function has experimental_relax_shapes=True option that relaxes argument shapes that can avoid unnecessary retracing. For (3), please refer to https://www.tensorflow.org/guide/function#controlling_retracing and https://www.tensorflow.org/api_docs/python/tf/function for  more details.\n",
            "proccessing fold # 2\n",
            "WARNING:tensorflow:6 out of the last 11 calls to <function Model.make_test_function.<locals>.test_function at 0x7fb3e9cb10e0> triggered tf.function retracing. Tracing is expensive and the excessive number of tracings could be due to (1) creating @tf.function repeatedly in a loop, (2) passing tensors with different shapes, (3) passing Python objects instead of tensors. For (1), please define your @tf.function outside of the loop. For (2), @tf.function has experimental_relax_shapes=True option that relaxes argument shapes that can avoid unnecessary retracing. For (3), please refer to https://www.tensorflow.org/guide/function#controlling_retracing and https://www.tensorflow.org/api_docs/python/tf/function for  more details.\n",
            "proccessing fold # 3\n",
            "WARNING:tensorflow:6 out of the last 11 calls to <function Model.make_test_function.<locals>.test_function at 0x7fb3ed4537a0> triggered tf.function retracing. Tracing is expensive and the excessive number of tracings could be due to (1) creating @tf.function repeatedly in a loop, (2) passing tensors with different shapes, (3) passing Python objects instead of tensors. For (1), please define your @tf.function outside of the loop. For (2), @tf.function has experimental_relax_shapes=True option that relaxes argument shapes that can avoid unnecessary retracing. For (3), please refer to https://www.tensorflow.org/guide/function#controlling_retracing and https://www.tensorflow.org/api_docs/python/tf/function for  more details.\n"
          ],
          "name": "stdout"
        }
      ]
    },
    {
      "cell_type": "code",
      "metadata": {
        "colab": {
          "base_uri": "https://localhost:8080/"
        },
        "id": "2pDv16fb14c3",
        "outputId": "2b15526e-5075-4496-c511-1fa78a70fbca"
      },
      "source": [
        "average_mae_history=[np.mean([x[i] for x in all_mae_history]) for i in range(num_epochs)]\n",
        "print('All fold validation Errors:', all_scores)\n",
        "print('Mean of all fold Validation Errors:', np.mean(all_scores))\n",
        "print('Average_mae_histories: ', all_mae_history)"
      ],
      "execution_count": 82,
      "outputs": [
        {
          "output_type": "stream",
          "text": [
            "All fold validation Errors: [1734.9615478515625, 2414.328369140625, 2628.300048828125, 1883.5921630859375]\n",
            "Mean of all fold Validation Errors: 2165.2955322265625\n",
            "Average_mae_histories:  [[13765.8525390625, 13765.412109375, 13764.529296875, 13762.80078125, 13759.6982421875, 13754.6953125, 13746.2802734375, 13734.056640625, 13715.076171875, 13689.1884765625, 13653.216796875, 13604.443359375, 13541.26171875, 13461.35546875, 13365.2587890625, 13241.2353515625, 13098.720703125, 12925.4501953125, 12723.3876953125, 12489.3955078125, 12214.0791015625, 11897.7021484375, 11538.3349609375, 11144.94921875, 10660.5458984375, 10144.5517578125, 9539.4326171875, 8947.236328125, 8302.4130859375, 7683.234375, 7042.998046875, 6424.4697265625, 5818.19970703125, 5183.9072265625, 4636.28955078125, 4137.58984375, 3763.903564453125, 3582.035888671875, 3462.68603515625, 3398.408935546875, 3343.242431640625, 3290.088623046875, 3244.57861328125, 3193.668212890625, 3152.84521484375, 3112.562255859375, 3075.09521484375, 3032.39990234375, 2989.544921875, 2955.30908203125, 2933.83251953125, 2905.244873046875, 2880.03173828125, 2831.90576171875, 2819.613525390625, 2791.447265625, 2755.13916015625, 2740.5185546875, 2723.388671875, 2701.232421875, 2683.71044921875, 2659.947998046875, 2647.125244140625, 2637.837646484375, 2624.05615234375, 2605.5478515625, 2589.65576171875, 2611.4609375, 2575.4853515625, 2560.7216796875, 2546.450439453125, 2544.9375, 2532.527099609375, 2526.16748046875, 2505.46044921875, 2500.055908203125, 2502.019287109375, 2491.368408203125, 2485.2939453125, 2467.331787109375, 2466.8349609375, 2456.664306640625, 2450.2138671875, 2437.9580078125, 2436.296630859375, 2431.845947265625, 2418.712890625, 2412.2587890625, 2410.959716796875, 2402.408203125, 2400.937744140625, 2388.434814453125, 2381.62939453125, 2366.865478515625, 2373.623291015625, 2373.209716796875, 2359.78515625, 2354.21142578125, 2343.759521484375, 2335.70458984375, 2335.345947265625, 2339.387451171875, 2318.68310546875, 2320.754150390625, 2324.767333984375, 2307.053466796875, 2303.3662109375, 2300.22119140625, 2288.822509765625, 2298.6328125, 2277.87548828125, 2300.70166015625, 2289.396728515625, 2275.875244140625, 2271.372802734375, 2262.861328125, 2263.4462890625, 2256.607177734375, 2256.429931640625, 2254.941650390625, 2237.975341796875, 2249.944580078125, 2255.493408203125, 2238.775634765625, 2234.3408203125, 2227.206787109375, 2223.487060546875, 2218.059814453125, 2213.818603515625, 2219.076171875, 2204.86962890625, 2206.904052734375, 2191.591796875, 2194.10546875, 2193.079345703125, 2190.32373046875, 2184.964111328125, 2174.8388671875, 2175.344482421875, 2177.87939453125, 2170.237548828125, 2163.288818359375, 2167.862548828125, 2158.5703125, 2155.9658203125, 2157.37255859375, 2144.57080078125, 2141.36279296875, 2142.265625, 2121.360595703125, 2126.1689453125, 2115.351806640625, 2126.812255859375, 2114.10009765625, 2121.044677734375, 2116.7255859375, 2110.397216796875, 2099.92138671875, 2097.8193359375, 2091.008056640625, 2096.0205078125, 2094.156005859375, 2077.784423828125, 2071.447998046875, 2085.445068359375, 2070.96826171875, 2066.112548828125, 2060.18017578125, 2057.974853515625, 2054.764404296875, 2054.386474609375, 2054.1103515625, 2040.4256591796875, 2046.9664306640625, 2045.463134765625, 2040.758056640625, 2038.7572021484375, 2029.9639892578125, 2017.06689453125, 2027.53857421875, 2017.5938720703125, 2026.59033203125, 2010.18896484375, 2008.8836669921875, 1990.7216796875, 2007.421630859375, 2008.9024658203125, 1999.8961181640625, 2000.4000244140625, 1988.921875, 1985.193603515625, 1981.359619140625, 1978.1373291015625, 1987.7064208984375, 1958.76904296875, 1976.2958984375, 1973.027099609375, 1969.3885498046875, 1966.203857421875, 1954.91552734375, 1952.1243896484375, 1962.2733154296875, 1952.7061767578125, 1954.565673828125, 1951.8052978515625, 1948.69677734375, 1938.837646484375, 1945.1748046875, 1935.9364013671875, 1938.978759765625, 1929.8248291015625, 1934.2008056640625, 1935.34423828125, 1925.4481201171875, 1926.0245361328125, 1929.8076171875, 1920.986083984375, 1924.035888671875, 1917.91650390625, 1921.3934326171875, 1911.6431884765625, 1905.22314453125, 1904.320556640625, 1910.764892578125, 1902.9239501953125, 1896.7159423828125, 1907.0406494140625, 1897.8817138671875, 1892.75830078125, 1905.043701171875, 1896.2718505859375, 1880.0792236328125, 1896.7337646484375, 1893.5885009765625, 1889.9609375, 1882.6243896484375, 1895.854736328125, 1881.3873291015625, 1878.276611328125, 1879.9630126953125, 1884.6824951171875, 1878.5911865234375, 1877.46435546875, 1875.2259521484375, 1877.53173828125, 1874.25390625, 1867.1571044921875, 1868.249267578125, 1869.5126953125, 1868.3192138671875, 1863.4385986328125, 1864.201416015625, 1855.7969970703125, 1863.3868408203125, 1849.0372314453125, 1849.9598388671875, 1856.34814453125, 1855.2069091796875, 1861.26806640625, 1855.0838623046875, 1846.98095703125, 1846.8074951171875, 1851.890625, 1837.4898681640625, 1846.021240234375, 1844.11474609375, 1833.4671630859375, 1832.6279296875, 1829.3216552734375, 1836.976318359375, 1824.62646484375, 1828.40869140625, 1823.53076171875, 1819.51904296875, 1818.133056640625, 1815.902099609375, 1816.27099609375, 1817.5438232421875, 1809.625, 1811.1671142578125, 1805.966552734375, 1806.429931640625, 1801.7147216796875, 1804.351318359375, 1802.338134765625, 1808.47021484375, 1803.8687744140625, 1804.9249267578125, 1795.3643798828125, 1799.304931640625, 1793.586669921875, 1780.1865234375, 1791.739990234375, 1789.434326171875, 1776.809326171875, 1782.978759765625, 1780.2806396484375, 1778.688232421875, 1776.9306640625, 1781.9002685546875, 1771.33984375, 1781.7554931640625, 1773.77734375, 1772.01318359375, 1762.0947265625, 1771.4884033203125, 1766.109130859375, 1767.5992431640625, 1768.66552734375, 1766.6046142578125, 1742.785400390625, 1754.215576171875, 1764.32177734375, 1756.5693359375, 1756.1630859375, 1757.6689453125, 1760.651611328125, 1753.6669921875, 1747.3040771484375, 1750.007080078125, 1748.79052734375, 1744.7840576171875, 1751.0450439453125, 1745.6290283203125, 1749.3201904296875, 1741.0037841796875, 1748.2274169921875, 1746.5718994140625, 1734.7545166015625, 1742.4732666015625, 1734.296875, 1732.9993896484375, 1729.8861083984375, 1735.523193359375, 1741.4471435546875, 1732.6455078125, 1743.24267578125, 1729.2774658203125, 1749.729736328125, 1731.2076416015625, 1736.68994140625, 1731.88623046875, 1736.65966796875, 1726.6357421875, 1722.3514404296875, 1715.2039794921875, 1728.29248046875, 1716.5943603515625, 1727.7608642578125, 1721.1016845703125, 1720.400146484375, 1720.3388671875, 1724.9569091796875, 1723.2974853515625, 1720.1978759765625, 1721.2889404296875, 1717.1536865234375, 1718.575927734375, 1708.6304931640625, 1712.5008544921875, 1710.3741455078125, 1710.2728271484375, 1715.0506591796875, 1706.798583984375, 1708.9765625, 1710.982177734375, 1707.80419921875, 1712.3564453125, 1708.387451171875, 1706.1380615234375, 1706.7342529296875, 1702.0333251953125, 1703.669677734375, 1712.8260498046875, 1706.932861328125, 1699.9521484375, 1703.249755859375, 1690.241455078125, 1707.314208984375, 1692.60595703125, 1699.1231689453125, 1699.7232666015625, 1695.925537109375, 1693.5726318359375, 1683.99267578125, 1692.365478515625, 1688.4967041015625, 1688.1483154296875, 1691.5712890625, 1690.0831298828125, 1689.302490234375, 1681.4024658203125, 1689.312744140625, 1686.233642578125, 1678.727294921875, 1691.88916015625, 1687.4658203125, 1682.5760498046875, 1685.4678955078125, 1676.5914306640625, 1677.24609375, 1680.828369140625, 1666.17529296875, 1671.232177734375, 1673.8994140625, 1664.569580078125, 1670.5118408203125, 1663.94189453125, 1661.1412353515625, 1663.774169921875, 1663.8076171875, 1673.328125, 1666.304443359375, 1652.9849853515625, 1659.8812255859375, 1647.4276123046875, 1665.6900634765625, 1657.8416748046875, 1660.9876708984375, 1657.9774169921875, 1651.6356201171875, 1650.7303466796875, 1653.421142578125, 1657.1053466796875, 1638.1771240234375, 1650.239013671875, 1651.3123779296875, 1645.1070556640625, 1642.4403076171875, 1647.0125732421875, 1657.5955810546875, 1651.8428955078125, 1646.7060546875, 1647.60888671875, 1649.808349609375, 1641.3857421875, 1645.80615234375, 1636.8992919921875, 1646.230712890625, 1637.3614501953125, 1647.8446044921875, 1628.936767578125, 1639.691162109375, 1635.5640869140625, 1637.7032470703125, 1635.9171142578125, 1640.50634765625, 1634.788330078125, 1632.788330078125, 1636.004150390625, 1633.4866943359375, 1633.264892578125, 1635.5616455078125, 1635.29248046875, 1631.3961181640625, 1629.5556640625, 1631.354736328125, 1632.8731689453125, 1643.7203369140625, 1630.5557861328125, 1622.8782958984375, 1629.2840576171875, 1621.7822265625, 1629.3604736328125, 1617.46630859375, 1626.6629638671875, 1621.992431640625, 1612.62744140625, 1618.1553955078125, 1615.68701171875, 1623.675048828125, 1616.7794189453125, 1615.8311767578125, 1613.2576904296875, 1611.21044921875, 1612.6378173828125, 1614.1141357421875, 1617.503173828125, 1614.2188720703125, 1606.0208740234375, 1609.6116943359375, 1606.617919921875, 1615.729736328125, 1608.1827392578125, 1605.3826904296875, 1607.4283447265625, 1612.57666015625, 1605.9354248046875, 1601.9927978515625, 1603.281982421875, 1592.40478515625, 1607.2257080078125, 1604.2802734375, 1603.85791015625, 1613.8203125, 1598.154052734375, 1598.2391357421875, 1600.3226318359375, 1599.0291748046875, 1593.8292236328125], [13741.8671875, 13740.150390625, 13737.193359375, 13732.1181640625, 13724.126953125, 13711.9541015625, 13693.69921875, 13667.8759765625, 13631.779296875, 13584.0576171875, 13524.6943359375, 13445.7919921875, 13349.857421875, 13226.982421875, 13088.9765625, 12916.7509765625, 12714.4873046875, 12484.6767578125, 12196.3759765625, 11874.5009765625, 11507.4248046875, 11093.8193359375, 10635.1640625, 10101.4296875, 9507.08984375, 8871.2392578125, 8179.962890625, 7471.869140625, 6697.55517578125, 5957.58740234375, 5245.791015625, 4521.46533203125, 3978.00927734375, 3665.3125, 3579.427001953125, 3567.74853515625, 3525.9541015625, 3501.419189453125, 3476.4150390625, 3461.996826171875, 3419.630126953125, 3398.05126953125, 3371.325439453125, 3352.098876953125, 3317.47216796875, 3300.216064453125, 3275.998046875, 3240.03955078125, 3227.45263671875, 3207.341064453125, 3182.933837890625, 3159.13134765625, 3143.94580078125, 3118.166015625, 3095.976318359375, 3083.357666015625, 3057.3232421875, 3033.71435546875, 3007.39111328125, 2997.445068359375, 2968.863525390625, 2946.1416015625, 2925.47998046875, 2912.3515625, 2888.79541015625, 2869.520263671875, 2846.646240234375, 2843.277587890625, 2828.400390625, 2798.95361328125, 2784.059326171875, 2750.6015625, 2737.46240234375, 2718.27978515625, 2693.013427734375, 2681.224853515625, 2654.1845703125, 2649.794677734375, 2622.87841796875, 2607.73779296875, 2582.211181640625, 2567.589111328125, 2551.42822265625, 2541.212890625, 2521.523681640625, 2507.295166015625, 2494.99169921875, 2475.960693359375, 2452.666748046875, 2448.81201171875, 2440.0576171875, 2413.0009765625, 2406.115234375, 2384.39208984375, 2374.330078125, 2370.670654296875, 2336.851318359375, 2345.633544921875, 2324.708740234375, 2322.937255859375, 2297.531494140625, 2280.654052734375, 2279.127197265625, 2266.30126953125, 2264.3115234375, 2242.90771484375, 2240.376220703125, 2225.89794921875, 2209.393310546875, 2203.328369140625, 2189.170166015625, 2184.07080078125, 2171.91259765625, 2165.03271484375, 2148.107666015625, 2122.82470703125, 2137.0673828125, 2121.09521484375, 2112.35009765625, 2107.83251953125, 2096.55419921875, 2084.3759765625, 2081.1591796875, 2066.716796875, 2067.030029296875, 2050.8564453125, 2048.2578125, 2054.5224609375, 2029.340087890625, 2026.90234375, 2014.034423828125, 2027.0870361328125, 2010.2664794921875, 2009.9625244140625, 1997.97802734375, 2002.4913330078125, 1987.9700927734375, 1991.1119384765625, 1980.9718017578125, 1979.524169921875, 1983.3720703125, 1969.5833740234375, 1973.3409423828125, 1964.6041259765625, 1962.2122802734375, 1956.8798828125, 1953.1875, 1953.8408203125, 1948.281005859375, 1940.1529541015625, 1940.6533203125, 1939.0384521484375, 1929.982177734375, 1922.386962890625, 1925.5653076171875, 1916.3216552734375, 1914.131103515625, 1911.3577880859375, 1905.5001220703125, 1905.2344970703125, 1893.313232421875, 1896.4736328125, 1886.71826171875, 1882.4146728515625, 1881.3311767578125, 1878.93310546875, 1872.37646484375, 1864.05615234375, 1864.215087890625, 1863.48193359375, 1869.5423583984375, 1855.3533935546875, 1856.184326171875, 1857.58203125, 1844.7537841796875, 1838.2315673828125, 1849.80810546875, 1843.5045166015625, 1836.1439208984375, 1840.172607421875, 1827.5343017578125, 1833.8009033203125, 1827.8447265625, 1819.989013671875, 1816.1278076171875, 1811.9307861328125, 1816.9139404296875, 1798.6478271484375, 1811.104736328125, 1806.23974609375, 1809.6396484375, 1798.00341796875, 1796.2838134765625, 1798.087646484375, 1787.19287109375, 1794.10498046875, 1785.107666015625, 1781.7838134765625, 1781.3074951171875, 1782.1185302734375, 1775.9012451171875, 1770.597412109375, 1772.874267578125, 1757.5601806640625, 1761.0731201171875, 1755.06640625, 1757.5556640625, 1760.2421875, 1759.9041748046875, 1752.2762451171875, 1754.9005126953125, 1741.7166748046875, 1733.4508056640625, 1737.7830810546875, 1748.9639892578125, 1730.87841796875, 1734.2332763671875, 1734.722900390625, 1715.7562255859375, 1727.2052001953125, 1714.0616455078125, 1730.535888671875, 1722.6912841796875, 1721.4544677734375, 1720.9342041015625, 1711.4864501953125, 1716.5093994140625, 1711.6181640625, 1711.6226806640625, 1709.2164306640625, 1714.0762939453125, 1700.1177978515625, 1693.159423828125, 1704.35302734375, 1692.4727783203125, 1704.73779296875, 1701.1260986328125, 1698.81494140625, 1695.6278076171875, 1703.4990234375, 1693.5635986328125, 1687.4420166015625, 1682.042724609375, 1683.86572265625, 1685.9736328125, 1683.4857177734375, 1683.4208984375, 1678.539306640625, 1678.14794921875, 1694.9580078125, 1682.5791015625, 1685.307861328125, 1677.953125, 1676.5196533203125, 1670.5645751953125, 1669.7686767578125, 1677.0391845703125, 1676.8775634765625, 1670.4984130859375, 1667.508544921875, 1660.3624267578125, 1667.934326171875, 1666.4423828125, 1676.1973876953125, 1669.26318359375, 1652.1751708984375, 1669.6456298828125, 1660.445068359375, 1662.2427978515625, 1660.539306640625, 1661.43115234375, 1654.26708984375, 1658.2991943359375, 1650.7923583984375, 1655.718017578125, 1655.0223388671875, 1652.04541015625, 1652.3829345703125, 1654.465576171875, 1652.42578125, 1645.7071533203125, 1648.401611328125, 1635.333740234375, 1632.14306640625, 1648.5716552734375, 1640.4005126953125, 1639.9122314453125, 1647.5889892578125, 1632.148193359375, 1628.9693603515625, 1626.204833984375, 1633.9765625, 1642.595458984375, 1631.2568359375, 1635.8765869140625, 1627.6025390625, 1620.7999267578125, 1625.4595947265625, 1619.4552001953125, 1615.0162353515625, 1633.826416015625, 1633.1898193359375, 1624.3182373046875, 1631.3665771484375, 1614.6505126953125, 1630.4063720703125, 1614.632568359375, 1619.3399658203125, 1623.713134765625, 1617.6414794921875, 1613.74609375, 1622.6710205078125, 1596.8697509765625, 1622.3905029296875, 1607.3348388671875, 1617.98046875, 1609.28466796875, 1609.927978515625, 1611.9798583984375, 1602.4788818359375, 1618.8466796875, 1613.982177734375, 1603.2510986328125, 1606.19677734375, 1606.5477294921875, 1621.09375, 1601.7362060546875, 1598.126708984375, 1606.018798828125, 1600.498291015625, 1595.6478271484375, 1597.9678955078125, 1597.800537109375, 1593.7454833984375, 1590.7103271484375, 1597.989013671875, 1593.9930419921875, 1590.8935546875, 1600.0523681640625, 1597.7381591796875, 1595.637451171875, 1594.9873046875, 1587.384521484375, 1582.064208984375, 1590.225830078125, 1597.1199951171875, 1589.091552734375, 1590.7601318359375, 1601.6934814453125, 1589.3338623046875, 1586.9376220703125, 1582.7515869140625, 1577.8603515625, 1576.34716796875, 1583.4619140625, 1580.996826171875, 1576.1290283203125, 1592.53955078125, 1570.5775146484375, 1574.398681640625, 1581.79638671875, 1559.4451904296875, 1577.8076171875, 1577.976318359375, 1576.2760009765625, 1578.4620361328125, 1569.2498779296875, 1567.852294921875, 1567.4481201171875, 1566.8359375, 1564.8271484375, 1564.3165283203125, 1565.277099609375, 1554.4412841796875, 1561.9827880859375, 1559.4432373046875, 1570.8525390625, 1572.2740478515625, 1556.3809814453125, 1567.7008056640625, 1560.9476318359375, 1556.26611328125, 1556.0899658203125, 1558.3311767578125, 1560.5677490234375, 1557.1578369140625, 1544.51953125, 1556.3035888671875, 1557.95166015625, 1549.33056640625, 1553.569580078125, 1555.565673828125, 1551.2392578125, 1572.1470947265625, 1557.7344970703125, 1561.203125, 1554.0048828125, 1544.659912109375, 1547.288818359375, 1546.540771484375, 1550.4617919921875, 1558.607666015625, 1545.870361328125, 1544.3702392578125, 1543.8021240234375, 1558.1451416015625, 1542.9686279296875, 1543.757080078125, 1545.0665283203125, 1548.357666015625, 1542.12939453125, 1536.4940185546875, 1524.6461181640625, 1532.23779296875, 1547.114013671875, 1547.921875, 1540.6466064453125, 1539.69921875, 1533.7357177734375, 1540.743896484375, 1535.503173828125, 1536.02587890625, 1535.6220703125, 1530.078857421875, 1539.4891357421875, 1525.4466552734375, 1529.4595947265625, 1526.2158203125, 1530.00927734375, 1527.5750732421875, 1520.8970947265625, 1525.8193359375, 1527.0252685546875, 1524.4200439453125, 1519.9766845703125, 1521.8525390625, 1522.9820556640625, 1516.93505859375, 1515.8006591796875, 1527.4786376953125, 1522.1065673828125, 1519.34619140625, 1511.6866455078125, 1527.297119140625, 1495.85693359375, 1526.47705078125, 1516.8585205078125, 1510.7908935546875, 1522.6983642578125, 1510.7586669921875, 1517.017333984375, 1527.2705078125, 1526.9166259765625, 1524.3192138671875, 1508.4046630859375, 1514.953857421875, 1507.642333984375, 1504.03759765625, 1508.683837890625, 1512.68359375, 1505.2117919921875, 1505.9193115234375, 1502.8026123046875, 1519.1802978515625, 1513.34814453125, 1501.673583984375, 1496.5150146484375, 1505.1199951171875, 1506.2711181640625, 1518.13525390625, 1501.1689453125, 1501.6505126953125, 1493.2850341796875, 1503.864990234375, 1489.2493896484375, 1502.9442138671875, 1501.345458984375, 1504.4056396484375, 1494.9093017578125, 1500.8360595703125, 1503.5960693359375, 1493.8297119140625, 1481.796630859375, 1501.73779296875, 1498.8934326171875, 1498.2362060546875, 1492.0457763671875, 1500.651611328125, 1490.3094482421875, 1492.340087890625, 1483.4326171875, 1492.7369384765625, 1495.11865234375, 1488.293212890625, 1498.5401611328125, 1486.081787109375, 1492.0345458984375, 1494.1502685546875, 1489.604736328125, 1486.81640625], [13103.98828125, 13101.6650390625, 13097.2724609375, 13089.775390625, 13076.9482421875, 13055.75390625, 13020.7119140625, 12970.2724609375, 12897.375, 12798.255859375, 12667.9736328125, 12495.4326171875, 12275.2666015625, 11989.3525390625, 11642.1630859375, 11235.9267578125, 10759.1357421875, 10243.2900390625, 9793.3359375, 9423.1630859375, 9094.673828125, 8814.1640625, 8518.0751953125, 8216.3076171875, 7912.248046875, 7532.11181640625, 7151.900390625, 6749.2197265625, 6284.197265625, 5835.3310546875, 5415.5927734375, 4985.48486328125, 4609.2802734375, 4323.07568359375, 4078.970458984375, 3936.030029296875, 3828.494384765625, 3714.318115234375, 3625.041015625, 3550.799560546875, 3471.326416015625, 3403.36279296875, 3344.094970703125, 3272.338134765625, 3216.80517578125, 3159.800048828125, 3113.924072265625, 3063.37353515625, 3025.1279296875, 2968.39404296875, 2931.859130859375, 2892.96728515625, 2853.452880859375, 2818.385009765625, 2782.519775390625, 2746.376953125, 2708.4453125, 2680.14794921875, 2632.741943359375, 2588.34521484375, 2558.716796875, 2532.967529296875, 2493.535400390625, 2476.263916015625, 2437.3896484375, 2420.65576171875, 2387.900146484375, 2368.246337890625, 2338.027099609375, 2315.37841796875, 2305.275146484375, 2293.4814453125, 2263.7919921875, 2250.200927734375, 2240.312255859375, 2208.369140625, 2205.390869140625, 2189.606689453125, 2172.747314453125, 2156.453125, 2151.325439453125, 2127.66357421875, 2116.631591796875, 2114.1533203125, 2100.118896484375, 2081.2490234375, 2095.945556640625, 2075.85888671875, 2066.395751953125, 2064.553466796875, 2047.1630859375, 2046.6661376953125, 2042.8408203125, 2041.91552734375, 2022.3179931640625, 2021.488037109375, 2004.820068359375, 2008.736083984375, 2005.5284423828125, 1992.7049560546875, 1990.250732421875, 1985.4864501953125, 1976.1893310546875, 1970.3448486328125, 1954.7764892578125, 1954.5701904296875, 1950.3165283203125, 1949.055419921875, 1943.8880615234375, 1935.15673828125, 1934.5302734375, 1924.2366943359375, 1924.9073486328125, 1931.1611328125, 1906.125732421875, 1894.8333740234375, 1890.58251953125, 1903.7310791015625, 1891.0032958984375, 1888.880615234375, 1883.7130126953125, 1879.2667236328125, 1868.613037109375, 1855.4295654296875, 1849.527099609375, 1856.2064208984375, 1846.7220458984375, 1839.99365234375, 1829.824951171875, 1832.5235595703125, 1833.7227783203125, 1825.806884765625, 1825.1973876953125, 1821.61279296875, 1822.3502197265625, 1807.7720947265625, 1798.456787109375, 1796.3507080078125, 1792.79345703125, 1803.3416748046875, 1775.6507568359375, 1788.17529296875, 1785.167724609375, 1758.0213623046875, 1777.3038330078125, 1770.2432861328125, 1775.8294677734375, 1755.816650390625, 1751.4365234375, 1752.4161376953125, 1749.58837890625, 1756.5186767578125, 1744.3773193359375, 1741.8670654296875, 1738.724853515625, 1731.8807373046875, 1737.183837890625, 1722.086669921875, 1729.9100341796875, 1722.1553955078125, 1712.82568359375, 1716.1190185546875, 1703.78076171875, 1705.793701171875, 1696.2158203125, 1699.989013671875, 1691.5731201171875, 1695.51318359375, 1682.105712890625, 1686.0526123046875, 1684.6290283203125, 1670.5289306640625, 1679.0240478515625, 1674.8897705078125, 1658.06591796875, 1658.1903076171875, 1661.1744384765625, 1657.4869384765625, 1654.916259765625, 1649.3594970703125, 1652.28955078125, 1649.3028564453125, 1627.2374267578125, 1634.09423828125, 1629.01318359375, 1632.5267333984375, 1619.1494140625, 1618.2943115234375, 1613.80322265625, 1617.3604736328125, 1608.7415771484375, 1606.9552001953125, 1596.267333984375, 1597.9586181640625, 1604.715087890625, 1590.6114501953125, 1581.7713623046875, 1589.5462646484375, 1573.2373046875, 1570.1065673828125, 1569.03759765625, 1579.082275390625, 1576.9014892578125, 1566.9205322265625, 1560.3856201171875, 1562.3648681640625, 1563.4517822265625, 1558.0067138671875, 1566.8983154296875, 1561.26123046875, 1546.8060302734375, 1544.4693603515625, 1552.473388671875, 1535.16748046875, 1523.8970947265625, 1534.230712890625, 1530.68798828125, 1534.540771484375, 1529.852294921875, 1529.303955078125, 1528.443603515625, 1534.109130859375, 1518.6112060546875, 1505.74267578125, 1522.7435302734375, 1518.59375, 1514.01123046875, 1533.942138671875, 1517.578125, 1510.546142578125, 1499.1781005859375, 1498.190673828125, 1509.335693359375, 1493.34423828125, 1493.75, 1498.33251953125, 1497.1575927734375, 1482.077392578125, 1493.40234375, 1486.443115234375, 1472.46533203125, 1492.3917236328125, 1473.5654296875, 1498.076416015625, 1479.301513671875, 1463.1973876953125, 1477.447509765625, 1470.1822509765625, 1460.0267333984375, 1453.517333984375, 1448.2889404296875, 1449.0234375, 1455.947509765625, 1451.7633056640625, 1446.04345703125, 1463.736083984375, 1451.00634765625, 1449.3963623046875, 1444.667236328125, 1451.1121826171875, 1429.2801513671875, 1441.460693359375, 1431.195556640625, 1428.71435546875, 1440.4420166015625, 1436.2991943359375, 1435.5050048828125, 1429.5478515625, 1434.525146484375, 1425.4071044921875, 1425.7125244140625, 1428.8203125, 1419.8929443359375, 1430.637451171875, 1419.9866943359375, 1420.1746826171875, 1419.2166748046875, 1414.9822998046875, 1414.265869140625, 1417.2081298828125, 1397.22607421875, 1401.1700439453125, 1404.627197265625, 1413.3197021484375, 1396.2364501953125, 1401.3643798828125, 1408.503662109375, 1397.407958984375, 1393.2054443359375, 1400.53662109375, 1403.0760498046875, 1381.9630126953125, 1386.6749267578125, 1385.750732421875, 1381.5606689453125, 1389.55810546875, 1380.0662841796875, 1371.63427734375, 1380.3841552734375, 1381.3377685546875, 1384.656982421875, 1375.552978515625, 1371.2681884765625, 1376.3057861328125, 1365.4141845703125, 1368.980224609375, 1376.4766845703125, 1378.9586181640625, 1374.6368408203125, 1360.797607421875, 1362.593994140625, 1353.7548828125, 1343.7349853515625, 1362.5283203125, 1363.1142578125, 1359.90478515625, 1336.2042236328125, 1356.681884765625, 1346.1312255859375, 1343.8232421875, 1339.806396484375, 1337.840087890625, 1349.15380859375, 1345.4832763671875, 1343.84228515625, 1345.6346435546875, 1340.454833984375, 1349.0966796875, 1330.143798828125, 1331.1087646484375, 1327.414794921875, 1337.3819580078125, 1324.7872314453125, 1323.5323486328125, 1323.913818359375, 1312.04345703125, 1329.6513671875, 1329.5526123046875, 1308.9710693359375, 1315.7540283203125, 1314.5809326171875, 1312.356201171875, 1324.7900390625, 1315.136474609375, 1317.7869873046875, 1316.239990234375, 1304.770263671875, 1298.1004638671875, 1299.4686279296875, 1274.68408203125, 1302.7567138671875, 1312.7540283203125, 1295.4549560546875, 1293.269287109375, 1289.4560546875, 1286.7977294921875, 1291.00439453125, 1293.7708740234375, 1274.1611328125, 1282.417236328125, 1279.4031982421875, 1282.26953125, 1279.4630126953125, 1271.9970703125, 1273.573486328125, 1284.4503173828125, 1266.262451171875, 1269.509521484375, 1273.7081298828125, 1268.1951904296875, 1264.77685546875, 1256.249755859375, 1261.27197265625, 1262.69482421875, 1262.837646484375, 1255.4755859375, 1251.06640625, 1243.7032470703125, 1260.4559326171875, 1256.8116455078125, 1253.543701171875, 1248.3839111328125, 1242.5601806640625, 1244.90771484375, 1249.0723876953125, 1241.9541015625, 1235.37548828125, 1238.029052734375, 1232.4063720703125, 1243.0086669921875, 1242.394775390625, 1234.5474853515625, 1226.974853515625, 1238.7467041015625, 1242.2177734375, 1238.0985107421875, 1227.9544677734375, 1224.1414794921875, 1220.535400390625, 1222.413330078125, 1225.4521484375, 1207.7762451171875, 1225.0478515625, 1236.5203857421875, 1216.80126953125, 1223.78955078125, 1213.8905029296875, 1213.3343505859375, 1207.35546875, 1224.36572265625, 1208.9322509765625, 1204.677978515625, 1211.9910888671875, 1203.7059326171875, 1194.7725830078125, 1193.59521484375, 1208.800537109375, 1191.635986328125, 1192.6942138671875, 1192.483154296875, 1185.221923828125, 1191.848876953125, 1184.906005859375, 1197.5440673828125, 1192.6021728515625, 1190.8564453125, 1183.505126953125, 1186.2010498046875, 1177.61083984375, 1181.11865234375, 1197.3236083984375, 1177.9405517578125, 1183.6278076171875, 1183.8521728515625, 1178.6014404296875, 1177.6527099609375, 1174.2239990234375, 1178.7989501953125, 1176.391357421875, 1173.43701171875, 1173.949951171875, 1162.6419677734375, 1180.0772705078125, 1173.4669189453125, 1170.0582275390625, 1160.9844970703125, 1157.1866455078125, 1167.4039306640625, 1166.89208984375, 1160.1492919921875, 1158.2813720703125, 1152.635986328125, 1167.3944091796875, 1161.5888671875, 1154.2005615234375, 1163.145751953125, 1162.25341796875, 1163.5045166015625, 1145.3197021484375, 1159.7337646484375, 1140.4532470703125, 1156.0567626953125, 1147.906494140625, 1149.9638671875, 1148.2962646484375, 1160.5126953125, 1135.2596435546875, 1148.416259765625, 1152.793212890625, 1149.2784423828125, 1149.674560546875, 1138.369873046875, 1136.8165283203125, 1140.4986572265625, 1137.6268310546875, 1138.011474609375, 1138.0399169921875, 1133.87255859375, 1135.561767578125, 1139.8240966796875, 1128.720947265625, 1134.2935791015625, 1137.6407470703125, 1130.9190673828125, 1134.3922119140625, 1127.8489990234375, 1128.73046875, 1132.852294921875, 1123.433837890625, 1119.0577392578125, 1124.328125, 1130.79345703125, 1124.232177734375, 1113.30517578125, 1132.7406005859375, 1122.711181640625, 1124.0919189453125, 1121.4256591796875, 1125.4998779296875, 1130.3428955078125], [12992.4423828125, 12991.263671875, 12989.1943359375, 12985.66796875, 12980.6572265625, 12972.9189453125, 12961.4638671875, 12944.8271484375, 12921.220703125, 12890.205078125, 12846.587890625, 12788.7958984375, 12711.4736328125, 12611.2998046875, 12479.6748046875, 12313.888671875, 12107.59375, 11850.125, 11525.8193359375, 11159.431640625, 10730.6767578125, 10311.8193359375, 9899.255859375, 9537.619140625, 9235.318359375, 8955.2255859375, 8677.4228515625, 8367.7265625, 8034.0751953125, 7666.90087890625, 7246.57763671875, 6834.779296875, 6367.7158203125, 5931.015625, 5470.1162109375, 5017.19287109375, 4595.0126953125, 4222.0, 3949.797119140625, 3778.332763671875, 3670.004638671875, 3596.643798828125, 3526.66748046875, 3467.277099609375, 3408.928466796875, 3362.271484375, 3312.52685546875, 3269.38330078125, 3223.62548828125, 3185.5439453125, 3139.69580078125, 3108.99658203125, 3070.982177734375, 3032.1025390625, 3012.368408203125, 2975.722412109375, 2947.2705078125, 2920.064697265625, 2897.095947265625, 2870.842529296875, 2848.377197265625, 2818.219970703125, 2798.152099609375, 2768.427001953125, 2759.697265625, 2740.791015625, 2719.348876953125, 2682.213623046875, 2670.8056640625, 2655.408935546875, 2624.560791015625, 2598.964111328125, 2575.045166015625, 2575.685791015625, 2543.456787109375, 2511.794677734375, 2497.647216796875, 2483.658447265625, 2465.561279296875, 2442.261962890625, 2445.32177734375, 2424.166259765625, 2396.779052734375, 2392.628662109375, 2362.16748046875, 2358.983154296875, 2355.837890625, 2356.736572265625, 2325.335693359375, 2308.172607421875, 2300.257568359375, 2277.87109375, 2280.7880859375, 2262.347412109375, 2257.255126953125, 2239.50146484375, 2224.1142578125, 2227.467529296875, 2211.87451171875, 2204.21337890625, 2193.673828125, 2189.267333984375, 2177.133056640625, 2164.771240234375, 2151.2041015625, 2141.93701171875, 2144.95751953125, 2141.4423828125, 2127.56591796875, 2115.28564453125, 2104.27490234375, 2100.35498046875, 2083.71044921875, 2097.849365234375, 2085.968994140625, 2085.184814453125, 2068.278076171875, 2061.0537109375, 2070.811767578125, 2057.9658203125, 2061.00146484375, 2046.670166015625, 2040.05859375, 2045.49560546875, 2038.828125, 2040.9849853515625, 2025.885986328125, 2019.62353515625, 2012.663818359375, 2004.8585205078125, 2003.1876220703125, 1990.78857421875, 1993.905517578125, 1987.5697021484375, 1995.0765380859375, 1988.695068359375, 1981.6861572265625, 1975.3115234375, 1968.82373046875, 1961.2900390625, 1964.2783203125, 1955.16455078125, 1942.232666015625, 1945.2650146484375, 1952.5150146484375, 1945.2664794921875, 1933.9263916015625, 1943.78759765625, 1935.55126953125, 1927.5361328125, 1937.4200439453125, 1927.581787109375, 1919.11083984375, 1919.9798583984375, 1920.212646484375, 1915.1202392578125, 1910.54541015625, 1907.4774169921875, 1899.256103515625, 1911.7562255859375, 1903.80029296875, 1895.4266357421875, 1892.718994140625, 1887.08056640625, 1886.8724365234375, 1882.4542236328125, 1879.7679443359375, 1878.3145751953125, 1876.739013671875, 1870.340087890625, 1863.075927734375, 1863.353271484375, 1857.78857421875, 1844.34375, 1856.63623046875, 1846.70751953125, 1850.3565673828125, 1849.6807861328125, 1849.815673828125, 1833.1068115234375, 1842.2376708984375, 1838.0787353515625, 1842.0401611328125, 1833.80712890625, 1819.330322265625, 1832.5015869140625, 1828.2869873046875, 1821.224853515625, 1812.301025390625, 1820.70361328125, 1821.2523193359375, 1813.879638671875, 1812.6993408203125, 1814.28662109375, 1805.181884765625, 1808.0513916015625, 1804.134521484375, 1808.39892578125, 1808.498291015625, 1799.71826171875, 1804.3240966796875, 1803.456298828125, 1795.8734130859375, 1797.0302734375, 1796.0391845703125, 1795.0775146484375, 1782.15771484375, 1786.0037841796875, 1791.131103515625, 1787.99365234375, 1787.7249755859375, 1776.3564453125, 1784.59814453125, 1778.43603515625, 1783.13720703125, 1776.9696044921875, 1776.095947265625, 1767.3265380859375, 1766.755615234375, 1777.2928466796875, 1760.1881103515625, 1768.4090576171875, 1767.0740966796875, 1760.9490966796875, 1751.0281982421875, 1763.4530029296875, 1760.0087890625, 1747.89306640625, 1756.8704833984375, 1757.3134765625, 1756.71630859375, 1761.2908935546875, 1749.8173828125, 1745.0225830078125, 1750.526611328125, 1749.3099365234375, 1748.351806640625, 1752.1707763671875, 1742.49853515625, 1747.8565673828125, 1747.014892578125, 1735.687255859375, 1734.239990234375, 1739.6685791015625, 1746.36767578125, 1732.9306640625, 1732.902099609375, 1726.706298828125, 1728.5693359375, 1735.4241943359375, 1731.9764404296875, 1731.42626953125, 1726.0235595703125, 1724.5203857421875, 1725.3304443359375, 1722.7889404296875, 1716.3699951171875, 1718.418701171875, 1722.6181640625, 1725.512451171875, 1712.840087890625, 1707.2117919921875, 1717.266357421875, 1712.615478515625, 1702.7506103515625, 1713.0384521484375, 1711.4423828125, 1710.3070068359375, 1716.1485595703125, 1704.69580078125, 1693.69677734375, 1703.2010498046875, 1696.18310546875, 1704.9102783203125, 1702.7021484375, 1700.6622314453125, 1705.79931640625, 1692.5771484375, 1697.98583984375, 1696.3677978515625, 1696.96533203125, 1700.265380859375, 1696.1395263671875, 1693.0213623046875, 1692.8192138671875, 1684.8079833984375, 1682.646240234375, 1689.3646240234375, 1690.443115234375, 1686.0828857421875, 1693.5584716796875, 1693.6846923828125, 1681.9627685546875, 1674.4610595703125, 1685.5328369140625, 1677.672119140625, 1685.05908203125, 1681.55908203125, 1669.7227783203125, 1678.761962890625, 1672.52587890625, 1673.4832763671875, 1668.5662841796875, 1675.5260009765625, 1663.64208984375, 1667.730224609375, 1678.3531494140625, 1676.8951416015625, 1674.0634765625, 1665.9375, 1659.63232421875, 1664.357177734375, 1666.85595703125, 1658.0615234375, 1664.3145751953125, 1656.327880859375, 1667.2940673828125, 1656.6458740234375, 1663.2060546875, 1658.6649169921875, 1661.3978271484375, 1659.2572021484375, 1659.14599609375, 1660.768798828125, 1663.0423583984375, 1651.809326171875, 1660.47021484375, 1658.2559814453125, 1660.9307861328125, 1659.0321044921875, 1649.8843994140625, 1655.2918701171875, 1653.598388671875, 1653.0155029296875, 1646.4735107421875, 1651.15185546875, 1653.1585693359375, 1654.12451171875, 1638.8026123046875, 1642.7760009765625, 1636.30029296875, 1645.7728271484375, 1639.718017578125, 1643.7724609375, 1636.822509765625, 1626.2947998046875, 1637.036865234375, 1634.6622314453125, 1636.1461181640625, 1629.8360595703125, 1634.5994873046875, 1640.9898681640625, 1625.543212890625, 1636.2369384765625, 1637.7474365234375, 1641.3428955078125, 1639.1116943359375, 1634.0802001953125, 1642.8719482421875, 1643.515869140625, 1626.7423095703125, 1614.1414794921875, 1630.461181640625, 1630.2193603515625, 1626.6697998046875, 1624.55224609375, 1624.5377197265625, 1623.1080322265625, 1638.3074951171875, 1622.4268798828125, 1622.8026123046875, 1620.79833984375, 1630.3974609375, 1621.8258056640625, 1625.6776123046875, 1622.6375732421875, 1621.6934814453125, 1622.81787109375, 1625.7010498046875, 1617.148681640625, 1623.896240234375, 1621.42333984375, 1625.758544921875, 1630.21728515625, 1628.595947265625, 1627.2774658203125, 1616.2100830078125, 1616.534912109375, 1625.352294921875, 1616.057861328125, 1623.6060791015625, 1615.8021240234375, 1603.229736328125, 1624.17529296875, 1616.146240234375, 1608.2249755859375, 1623.5772705078125, 1609.164306640625, 1622.71240234375, 1628.8133544921875, 1612.949951171875, 1613.2291259765625, 1609.9510498046875, 1601.5496826171875, 1617.5887451171875, 1604.1903076171875, 1602.1807861328125, 1607.5263671875, 1613.4490966796875, 1603.7818603515625, 1608.453369140625, 1606.4853515625, 1597.3211669921875, 1608.4388427734375, 1600.8697509765625, 1605.7789306640625, 1590.4580078125, 1602.162353515625, 1589.2139892578125, 1605.1968994140625, 1601.054931640625, 1600.6204833984375, 1602.767333984375, 1607.7232666015625, 1594.9290771484375, 1603.9521484375, 1590.9381103515625, 1599.8634033203125, 1597.3935546875, 1606.2589111328125, 1596.53515625, 1595.76611328125, 1593.546142578125, 1590.1162109375, 1586.8758544921875, 1591.8807373046875, 1593.6663818359375, 1598.0731201171875, 1590.705322265625, 1595.01123046875, 1591.49072265625, 1598.17724609375, 1594.086669921875, 1590.57861328125, 1590.03125, 1589.8477783203125, 1589.2119140625, 1593.2974853515625, 1586.5330810546875, 1584.45751953125, 1591.7567138671875, 1591.167724609375, 1591.70361328125, 1585.3411865234375, 1585.95849609375, 1588.9111328125, 1586.78466796875, 1584.2789306640625, 1594.6148681640625, 1583.4150390625, 1589.703857421875, 1581.320556640625, 1585.5794677734375, 1572.960205078125, 1587.2098388671875, 1580.1192626953125, 1565.266357421875, 1572.1162109375, 1574.61279296875, 1578.5726318359375, 1575.8262939453125, 1573.8026123046875, 1577.3641357421875, 1582.0135498046875, 1587.0682373046875, 1567.6270751953125, 1578.4207763671875, 1583.5008544921875, 1571.4814453125, 1577.04443359375, 1580.1510009765625, 1579.0174560546875, 1571.9716796875, 1570.0848388671875, 1582.0025634765625, 1569.703369140625, 1571.228271484375, 1567.017822265625, 1570.22265625, 1569.2052001953125, 1564.2279052734375, 1574.676025390625, 1564.3006591796875, 1557.53466796875, 1566.758056640625, 1574.9071044921875, 1562.3408203125, 1561.5574951171875, 1575.956298828125, 1564.54345703125]]\n"
          ],
          "name": "stdout"
        }
      ]
    },
    {
      "cell_type": "code",
      "metadata": {
        "colab": {
          "base_uri": "https://localhost:8080/",
          "height": 278
        },
        "id": "UD_i-ZrD6CDE",
        "outputId": "ad7c2b27-2a6e-41b8-89e2-255cfabd5191"
      },
      "source": [
        "def smooth_curve(points, factor=0.9):\n",
        "  smoothed_points=[]\n",
        "  for point in points:\n",
        "    if smoothed_points:\n",
        "      previous=smoothed_points[-1]\n",
        "      smoothed_points.append(previous*factor + point*(1-factor))\n",
        "    else:\n",
        "      smoothed_points.append(point)\n",
        "  return smoothed_points\n",
        "smoothed_mae_history= smooth_curve(average_mae_history[10:])\n",
        "plt.plot(range(1,len(smoothed_mae_history)+1),smoothed_mae_history)\n",
        "plt.xlabel('Epochs')\n",
        "plt.ylabel('Validation MAE')\n",
        "plt.show()\n"
      ],
      "execution_count": 83,
      "outputs": [
        {
          "output_type": "display_data",
          "data": {
            "image/png": "[encoded data removed]",
            "text/plain": [
              "<Figure size 432x288 with 1 Axes>"
            ]
          },
          "metadata": {
            "tags": [],
            "needs_background": "light"
          }
        }
      ]
    },
    {
      "cell_type": "code",
      "metadata": {
        "colab": {
          "base_uri": "https://localhost:8080/"
        },
        "id": "B0gA7XtQGM1X",
        "outputId": "bbb32832-eecc-44ce-b3ec-ece4ff955124"
      },
      "source": [
        "model=build_model()\n",
        "model.fit(train_x,train_label, epochs=500, batch_size=4,verbose=0)\n",
        "test_mse_score,test_mae_score=model.evaluate(test_x,test_label)\n",
        "print(test_mae_score)"
      ],
      "execution_count": 84,
      "outputs": [
        {
          "output_type": "stream",
          "text": [
            "WARNING:tensorflow:6 out of the last 11 calls to <function Model.make_test_function.<locals>.test_function at 0x7fb3e9ccc290> triggered tf.function retracing. Tracing is expensive and the excessive number of tracings could be due to (1) creating @tf.function repeatedly in a loop, (2) passing tensors with different shapes, (3) passing Python objects instead of tensors. For (1), please define your @tf.function outside of the loop. For (2), @tf.function has experimental_relax_shapes=True option that relaxes argument shapes that can avoid unnecessary retracing. For (3), please refer to https://www.tensorflow.org/guide/function#controlling_retracing and https://www.tensorflow.org/api_docs/python/tf/function for  more details.\n",
            "2/2 [==============================] - 0s 11ms/step - loss: 10276172.0000 - mae: 2264.0054\n",
            "2264.00537109375\n"
          ],
          "name": "stdout"
        }
      ]
    },
    {
      "cell_type": "code",
      "metadata": {
        "id": "0Oc3UNHEAvNx"
      },
      "source": [
        ""
      ],
      "execution_count": null,
      "outputs": []
    }
  ]
}