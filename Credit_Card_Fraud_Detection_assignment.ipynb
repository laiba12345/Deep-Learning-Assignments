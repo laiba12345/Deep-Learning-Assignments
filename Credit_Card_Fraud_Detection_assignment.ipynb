{
  "nbformat": 4,
  "nbformat_minor": 0,
  "metadata": {
    "kernelspec": {
      "display_name": "Python 3",
      "language": "python",
      "name": "python3"
    },
    "language_info": {
      "codemirror_mode": {
        "name": "ipython",
        "version": 3
      },
      "file_extension": ".py",
      "mimetype": "text/x-python",
      "name": "python",
      "nbconvert_exporter": "python",
      "pygments_lexer": "ipython3",
      "version": "3.7.3"
    },
    "colab": {
      "name": "Credit Card Fraud Detection assignment.ipynb",
      "provenance": [],
      "collapsed_sections": []
    }
  },
  "cells": [
    {
      "cell_type": "markdown",
      "metadata": {
        "id": "YuyIs66mSNT5"
      },
      "source": [
        "# Credit Card Fraud Detection::"
      ]
    },
    {
      "cell_type": "markdown",
      "metadata": {
        "id": "_rmCxVIvSNT8"
      },
      "source": [
        "Download dataset from this link:\n",
        "\n",
        "https://www.kaggle.com/mlg-ulb/creditcardfraud"
      ]
    },
    {
      "cell_type": "markdown",
      "metadata": {
        "id": "Fe5HyT9TSNT9"
      },
      "source": [
        "# Description about dataset::"
      ]
    },
    {
      "cell_type": "markdown",
      "metadata": {
        "id": "ly9PqT4OSNT-"
      },
      "source": [
        "The datasets contains transactions made by credit cards in September 2013 by european cardholders.\n",
        "This dataset presents transactions that occurred in two days, where we have 492 frauds out of 284,807 transactions. The dataset is highly unbalanced, the positive class (frauds) account for 0.172% of all transactions.\n",
        "\n",
        "It contains only numerical input variables which are the result of a PCA transformation. Unfortunately, due to confidentiality issues, we cannot provide the original features and more background information about the data. Features V1, V2, … V28 are the principal components obtained with PCA, the only features which have not been transformed with PCA are 'Time' and 'Amount'. Feature 'Time' contains the seconds elapsed between each transaction and the first transaction in the dataset. The feature 'Amount' is the transaction Amount, this feature can be used for example-dependant cost-senstive learning. \n",
        "\n",
        "\n",
        "### Feature 'Class' is the response variable and it takes value 1 in case of fraud and 0 otherwise."
      ]
    },
    {
      "cell_type": "markdown",
      "metadata": {
        "id": "1WoamJqdSNT_"
      },
      "source": [
        "# WORKFLOW :"
      ]
    },
    {
      "cell_type": "markdown",
      "metadata": {
        "id": "VSTUgvGlSNT_"
      },
      "source": [
        "1.Load Data\n",
        "\n",
        "2.Check Missing Values ( If Exist ; Fill each record with mean of its feature )\n",
        "\n",
        "3.Standardized the Input Variables. \n",
        "\n",
        "4.Split into 50% Training(Samples,Labels) , 30% Test(Samples,Labels) and 20% Validation Data(Samples,Labels).\n",
        "\n",
        "5.Model : input Layer (No. of features ), 3 hidden layers including 10,8,6 unit & Output Layer with activation function relu/tanh (check by experiment).\n",
        "\n",
        "6.Compilation Step (Note : Its a Binary problem , select loss , metrics according to it)\n",
        "\n",
        "7.Train the Model with Epochs (100).\n",
        "\n",
        "8.If the model gets overfit tune your model by changing the units , No. of layers , epochs , add dropout layer or add Regularizer according to the need .\n",
        "\n",
        "9.Prediction should be > 92%\n",
        "10.Evaluation Step\n",
        "11Prediction\n"
      ]
    },
    {
      "cell_type": "markdown",
      "metadata": {
        "id": "9vv2i7fqSNUA"
      },
      "source": [
        "# Task::"
      ]
    },
    {
      "cell_type": "markdown",
      "metadata": {
        "id": "KBMnrIykSNUA"
      },
      "source": [
        "## Identify fraudulent credit card transactions."
      ]
    },
    {
      "cell_type": "code",
      "metadata": {
        "id": "UU8vVlywSNUB",
        "colab": {
          "base_uri": "https://localhost:8080/",
          "height": 35
        },
        "outputId": "27ae4d41-7971-4999-9a36-57bf44e130ed"
      },
      "source": [
        "import numpy as np\n",
        "import pandas as pd\n",
        "import tensorflow as tf\n",
        "tf.__version__"
      ],
      "execution_count": 1,
      "outputs": [
        {
          "output_type": "execute_result",
          "data": {
            "application/vnd.google.colaboratory.intrinsic+json": {
              "type": "string"
            },
            "text/plain": [
              "'2.4.1'"
            ]
          },
          "metadata": {
            "tags": []
          },
          "execution_count": 1
        }
      ]
    },
    {
      "cell_type": "code",
      "metadata": {
        "colab": {
          "resources": {
            "http://localhost:8080/nbextensions/google.colab/files.js": {
              "data": "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",
              "ok": true,
              "headers": [
                [
                  "content-type",
                  "application/javascript"
                ]
              ],
              "status": 200,
              "status_text": ""
            }
          },
          "base_uri": "https://localhost:8080/",
          "height": 73
        },
        "id": "j10TwgmGSNUB",
        "outputId": "a920431c-de9e-49b1-8b60-83a147b11861"
      },
      "source": [
        "import io\n",
        "from google.colab import files\n",
        "upoaded = files.upload()"
      ],
      "execution_count": 2,
      "outputs": [
        {
          "output_type": "display_data",
          "data": {
            "text/html": [
              "\n",
              "     <input type=\"file\" id=\"files-40d18964-4b25-46c8-81a3-0cd5fb8c5329\" name=\"files[]\" multiple disabled\n",
              "        style=\"border:none\" />\n",
              "     <output id=\"result-40d18964-4b25-46c8-81a3-0cd5fb8c5329\">\n",
              "      Upload widget is only available when the cell has been executed in the\n",
              "      current browser session. Please rerun this cell to enable.\n",
              "      </output>\n",
              "      <script src=\"/nbextensions/google.colab/files.js\"></script> "
            ],
            "text/plain": [
              "<IPython.core.display.HTML object>"
            ]
          },
          "metadata": {
            "tags": []
          }
        },
        {
          "output_type": "stream",
          "text": [
            "Saving creditcard.csv to creditcard (1).csv\n"
          ],
          "name": "stdout"
        }
      ]
    },
    {
      "cell_type": "code",
      "metadata": {
        "id": "fvKrLRpHSNUC",
        "colab": {
          "base_uri": "https://localhost:8080/"
        },
        "outputId": "f7af9cea-f937-4277-bf3b-0abf92a710d1"
      },
      "source": [
        "df=pd.read_csv('creditcard.csv')\n",
        "df.head"
      ],
      "execution_count": 18,
      "outputs": [
        {
          "output_type": "execute_result",
          "data": {
            "text/plain": [
              "<bound method NDFrame.head of          Time        V1        V2        V3  ...       V27       V28  Amount  Class\n",
              "0           0 -1.359807 -0.072781  2.536347  ...  0.133558 -0.021053  149.62    0.0\n",
              "1           0  1.191857  0.266151  0.166480  ... -0.008983  0.014724    2.69    0.0\n",
              "2           1 -1.358354 -1.340163  1.773209  ... -0.055353 -0.059752  378.66    0.0\n",
              "3           1 -0.966272 -0.185226  1.792993  ...  0.062723  0.061458  123.50    0.0\n",
              "4           2 -1.158233  0.877737  1.548718  ...  0.219422  0.215153   69.99    0.0\n",
              "...       ...       ...       ...       ...  ...       ...       ...     ...    ...\n",
              "110334  71777 -0.548846 -0.256284  1.099196  ... -0.104091 -0.107875   29.00    0.0\n",
              "110335  71777 -0.593114  1.195313  1.185347  ... -0.052265 -0.023921   29.00    0.0\n",
              "110336  71778  1.054948  0.009004  0.370250  ...  0.044926  0.002609   19.82    0.0\n",
              "110337  71779 -0.392247  1.041567  1.253335  ...  0.258191  0.094308    6.56    0.0\n",
              "110338  71779 -3.854371  2.953106 -0.226679  ...       NaN       NaN     NaN    NaN\n",
              "\n",
              "[110339 rows x 31 columns]>"
            ]
          },
          "metadata": {
            "tags": []
          },
          "execution_count": 18
        }
      ]
    },
    {
      "cell_type": "code",
      "metadata": {
        "colab": {
          "base_uri": "https://localhost:8080/"
        },
        "id": "AMuXhmbcMKQT",
        "outputId": "ec554cf8-c8d9-4768-ca5c-90bfa3a2afa9"
      },
      "source": [
        "df.isnull().sum()"
      ],
      "execution_count": 17,
      "outputs": [
        {
          "output_type": "execute_result",
          "data": {
            "text/plain": [
              "Time      0\n",
              "V1        0\n",
              "V2        0\n",
              "V3        0\n",
              "V4        0\n",
              "V5        0\n",
              "V6        0\n",
              "V7        0\n",
              "V8        0\n",
              "V9        0\n",
              "V10       0\n",
              "V11       0\n",
              "V12       0\n",
              "V13       0\n",
              "V14       0\n",
              "V15       0\n",
              "V16       0\n",
              "V17       0\n",
              "V18       0\n",
              "V19       0\n",
              "V20       0\n",
              "V21       0\n",
              "V22       0\n",
              "V23       0\n",
              "V24       0\n",
              "V25       0\n",
              "V26       0\n",
              "V27       0\n",
              "V28       0\n",
              "Amount    0\n",
              "Class     0\n",
              "dtype: int64"
            ]
          },
          "metadata": {
            "tags": []
          },
          "execution_count": 17
        }
      ]
    },
    {
      "cell_type": "code",
      "metadata": {
        "id": "zhsUF4np5IPs"
      },
      "source": [
        "x=df[['Time','V1','V2','V3','V4','V5','V6','V7','V8','V9','V10','V11','V12','V13','V14','V15','V16','V17','V18','V19','V20','V21','V22','V23','V23','V24','V25','V26','V27','V28','Amount']].values"
      ],
      "execution_count": 4,
      "outputs": []
    },
    {
      "cell_type": "code",
      "metadata": {
        "id": "1PfPzaT_8FS0"
      },
      "source": [
        "y=df[['Class']].values"
      ],
      "execution_count": 5,
      "outputs": []
    },
    {
      "cell_type": "code",
      "metadata": {
        "colab": {
          "base_uri": "https://localhost:8080/"
        },
        "id": "VqcspR2_L-Xm",
        "outputId": "6aca28ce-de7a-4a78-d35f-704b026bd5e2"
      },
      "source": [
        "y.astype('float32')"
      ],
      "execution_count": 10,
      "outputs": [
        {
          "output_type": "execute_result",
          "data": {
            "text/plain": [
              "array([[ 0.],\n",
              "       [ 0.],\n",
              "       [ 0.],\n",
              "       ...,\n",
              "       [ 0.],\n",
              "       [ 0.],\n",
              "       [nan]], dtype=float32)"
            ]
          },
          "metadata": {
            "tags": []
          },
          "execution_count": 10
        }
      ]
    },
    {
      "cell_type": "code",
      "metadata": {
        "colab": {
          "base_uri": "https://localhost:8080/"
        },
        "id": "5t-qiZXTLxVL",
        "outputId": "79b4efcd-f29d-4527-9e50-99165f0bceed"
      },
      "source": [
        "x.astype('float32')"
      ],
      "execution_count": 9,
      "outputs": [
        {
          "output_type": "execute_result",
          "data": {
            "text/plain": [
              "array([[ 0.0000000e+00, -1.3598071e+00, -7.2781175e-02, ...,\n",
              "         1.3355838e-01, -2.1053053e-02,  1.4962000e+02],\n",
              "       [ 0.0000000e+00,  1.1918571e+00,  2.6615071e-01, ...,\n",
              "        -8.9830989e-03,  1.4724169e-02,  2.6900001e+00],\n",
              "       [ 1.0000000e+00, -1.3583541e+00, -1.3401631e+00, ...,\n",
              "        -5.5352796e-02, -5.9751842e-02,  3.7866000e+02],\n",
              "       ...,\n",
              "       [ 7.1778000e+04,  1.0549479e+00,  9.0040006e-03, ...,\n",
              "         4.4925664e-02,  2.6086648e-03,  1.9820000e+01],\n",
              "       [ 7.1779000e+04, -3.9224675e-01,  1.0415673e+00, ...,\n",
              "         2.5819051e-01,  9.4307877e-02,  6.5599999e+00],\n",
              "       [ 7.1779000e+04, -3.8543706e+00,  2.9531062e+00, ...,\n",
              "                   nan,            nan,            nan]], dtype=float32)"
            ]
          },
          "metadata": {
            "tags": []
          },
          "execution_count": 9
        }
      ]
    },
    {
      "cell_type": "code",
      "metadata": {
        "id": "XGvOJUCnNY72"
      },
      "source": [
        "y[110338]=0"
      ],
      "execution_count": 23,
      "outputs": []
    },
    {
      "cell_type": "code",
      "metadata": {
        "colab": {
          "base_uri": "https://localhost:8080/"
        },
        "id": "ECH6k8MwN4Oj",
        "outputId": "b063a506-19d6-4f17-d271-fcd297dbe022"
      },
      "source": [
        "y"
      ],
      "execution_count": 24,
      "outputs": [
        {
          "output_type": "execute_result",
          "data": {
            "text/plain": [
              "array([[0.],\n",
              "       [0.],\n",
              "       [0.],\n",
              "       ...,\n",
              "       [0.],\n",
              "       [0.],\n",
              "       [0.]])"
            ]
          },
          "metadata": {
            "tags": []
          },
          "execution_count": 24
        }
      ]
    },
    {
      "cell_type": "code",
      "metadata": {
        "id": "4hokveUj5Izs"
      },
      "source": [
        "col_mean=np.nanmean(x,axis=0)\n",
        "index=np.where(np.isnan(x))\n",
        "x[index]=np.take(col_mean,index[1])"
      ],
      "execution_count": 34,
      "outputs": []
    },
    {
      "cell_type": "code",
      "metadata": {
        "colab": {
          "base_uri": "https://localhost:8080/"
        },
        "id": "iNEHK0UPPlU-",
        "outputId": "d0a410e0-c1eb-4a5f-ab8f-fdfe73fa3c3d"
      },
      "source": [
        "index"
      ],
      "execution_count": 35,
      "outputs": [
        {
          "output_type": "execute_result",
          "data": {
            "text/plain": [
              "(array([110338, 110338, 110338, 110338, 110338, 110338, 110338, 110338,\n",
              "        110338, 110338, 110338]),\n",
              " array([20, 21, 22, 23, 24, 25, 26, 27, 28, 29, 30]))"
            ]
          },
          "metadata": {
            "tags": []
          },
          "execution_count": 35
        }
      ]
    },
    {
      "cell_type": "code",
      "metadata": {
        "colab": {
          "base_uri": "https://localhost:8080/"
        },
        "id": "RUpz_GtcPOpC",
        "outputId": "10937347-5263-4324-bbc5-92e408e48af7"
      },
      "source": [
        "x"
      ],
      "execution_count": 36,
      "outputs": [
        {
          "output_type": "execute_result",
          "data": {
            "text/plain": [
              "array([[ 0.00000000e+00, -1.35980713e+00, -7.27811733e-02, ...,\n",
              "         1.33558377e-01, -2.10530535e-02,  1.49620000e+02],\n",
              "       [ 0.00000000e+00,  1.19185711e+00,  2.66150712e-01, ...,\n",
              "        -8.98309914e-03,  1.47241692e-02,  2.69000000e+00],\n",
              "       [ 1.00000000e+00, -1.35835406e+00, -1.34016307e+00, ...,\n",
              "        -5.53527940e-02, -5.97518406e-02,  3.78660000e+02],\n",
              "       ...,\n",
              "       [ 7.17780000e+04,  1.05494782e+00,  9.00400085e-03, ...,\n",
              "         4.49256632e-02,  2.60866470e-03,  1.98200000e+01],\n",
              "       [ 7.17790000e+04, -3.92246754e-01,  1.04156728e+00, ...,\n",
              "         2.58190502e-01,  9.43078785e-02,  6.56000000e+00],\n",
              "       [ 7.17790000e+04, -3.85437056e+00,  2.95310612e+00, ...,\n",
              "         1.45714373e-03,  1.83843325e-03,  9.57788446e+01]])"
            ]
          },
          "metadata": {
            "tags": []
          },
          "execution_count": 36
        }
      ]
    },
    {
      "cell_type": "code",
      "metadata": {
        "id": "EvwGkFRkSNUC"
      },
      "source": [
        "from sklearn.model_selection import train_test_split\n",
        "train_data, test_data, train_label, test_label = train_test_split(x, y, test_size=0.30, random_state=42,shuffle=True)"
      ],
      "execution_count": 37,
      "outputs": []
    },
    {
      "cell_type": "code",
      "metadata": {
        "id": "MLMIkFWESNUC"
      },
      "source": [
        "mean=train_data.mean(axis=0)\n",
        "train_data-=mean\n",
        "std=train_data.std(axis=0)\n",
        "train_data/=std\n",
        "test_data-=mean\n",
        "test_data/=std"
      ],
      "execution_count": 39,
      "outputs": []
    },
    {
      "cell_type": "code",
      "metadata": {
        "id": "ZJ3mar5mSNUC"
      },
      "source": [
        "from keras import models\n",
        "from keras import layers\n",
        "from keras import regularizers\n",
        "from keras import optimizers\n",
        "from keras import losses\n",
        "from keras import metrics\n",
        "model=models.Sequential()\n",
        "model.add(layers.Dense(10,kernel_regularizer=regularizers.l1_l2(l1=0.001,l2=0.001),activation='relu',input_shape=(train_data.shape[1],)))\n",
        "model.add(layers.Dense(8,kernel_regularizer=regularizers.l1_l2(l1=0.001,l2=0.001),activation='relu'))\n",
        "model.add(layers.Dense(6,kernel_regularizer=regularizers.l1_l2(l1=0.001,l2=0.001),activation='relu'))\n",
        "model.add(layers.Dense((1),activation='sigmoid'))\n",
        "model.compile(optimizer=optimizers.RMSprop(lr=0.001),loss=losses.binary_crossentropy,metrics=[metrics.binary_accuracy])"
      ],
      "execution_count": 51,
      "outputs": []
    },
    {
      "cell_type": "code",
      "metadata": {
        "colab": {
          "base_uri": "https://localhost:8080/"
        },
        "id": "k7Tvqs9fRBBv",
        "outputId": "7b259cbf-dce7-41e3-cda7-0735d9a61173"
      },
      "source": [
        "train_data.shape"
      ],
      "execution_count": 42,
      "outputs": [
        {
          "output_type": "execute_result",
          "data": {
            "text/plain": [
              "(77237, 31)"
            ]
          },
          "metadata": {
            "tags": []
          },
          "execution_count": 42
        }
      ]
    },
    {
      "cell_type": "code",
      "metadata": {
        "id": "QejRilYxLHjJ"
      },
      "source": [
        "validation_data=train_data[:15447]\n",
        "validation_label=train_label[:15447]\n",
        "partial_train_data=train_data[15448:]\n",
        "partial_train_label=train_label[15448:]"
      ],
      "execution_count": 53,
      "outputs": []
    },
    {
      "cell_type": "code",
      "metadata": {
        "colab": {
          "base_uri": "https://localhost:8080/"
        },
        "id": "7wWaijDVGPyw",
        "outputId": "39c5d86d-5630-4e44-ba61-a55af695df1b"
      },
      "source": [
        "history=model.fit(partial_train_data,partial_train_label,epochs=100,batch_size=28, validation_data=(validation_data,validation_label))\n",
        "history_dic= history.history\n",
        "history_dic.keys()\n"
      ],
      "execution_count": 64,
      "outputs": [
        {
          "output_type": "stream",
          "text": [
            "Epoch 1/100\n",
            "2207/2207 [==============================] - 3s 1ms/step - loss: 0.0178 - binary_accuracy: 0.9977 - val_loss: 0.0148 - val_binary_accuracy: 0.9980\n",
            "Epoch 2/100\n",
            "2207/2207 [==============================] - 3s 1ms/step - loss: 0.0174 - binary_accuracy: 0.9977 - val_loss: 0.0159 - val_binary_accuracy: 0.9980\n",
            "Epoch 3/100\n",
            "2207/2207 [==============================] - 3s 1ms/step - loss: 0.0175 - binary_accuracy: 0.9977 - val_loss: 0.0161 - val_binary_accuracy: 0.9980\n",
            "Epoch 4/100\n",
            "2207/2207 [==============================] - 3s 1ms/step - loss: 0.0175 - binary_accuracy: 0.9977 - val_loss: 0.0156 - val_binary_accuracy: 0.9980\n",
            "Epoch 5/100\n",
            "2207/2207 [==============================] - 3s 1ms/step - loss: 0.0179 - binary_accuracy: 0.9977 - val_loss: 0.0158 - val_binary_accuracy: 0.9980\n",
            "Epoch 6/100\n",
            "2207/2207 [==============================] - 3s 1ms/step - loss: 0.0174 - binary_accuracy: 0.9977 - val_loss: 0.0169 - val_binary_accuracy: 0.9980\n",
            "Epoch 7/100\n",
            "2207/2207 [==============================] - 3s 1ms/step - loss: 0.0178 - binary_accuracy: 0.9977 - val_loss: 0.0177 - val_binary_accuracy: 0.9980\n",
            "Epoch 8/100\n",
            "2207/2207 [==============================] - 3s 1ms/step - loss: 0.0175 - binary_accuracy: 0.9977 - val_loss: 0.0153 - val_binary_accuracy: 0.9980\n",
            "Epoch 9/100\n",
            "2207/2207 [==============================] - 3s 1ms/step - loss: 0.0173 - binary_accuracy: 0.9977 - val_loss: 0.0218 - val_binary_accuracy: 0.9980\n",
            "Epoch 10/100\n",
            "2207/2207 [==============================] - 3s 1ms/step - loss: 0.0183 - binary_accuracy: 0.9977 - val_loss: 0.0148 - val_binary_accuracy: 0.9980\n",
            "Epoch 11/100\n",
            "2207/2207 [==============================] - 3s 1ms/step - loss: 0.0178 - binary_accuracy: 0.9977 - val_loss: 0.0148 - val_binary_accuracy: 0.9980\n",
            "Epoch 12/100\n",
            "2207/2207 [==============================] - 3s 1ms/step - loss: 0.0175 - binary_accuracy: 0.9977 - val_loss: 0.0152 - val_binary_accuracy: 0.9980\n",
            "Epoch 13/100\n",
            "2207/2207 [==============================] - 3s 1ms/step - loss: 0.0177 - binary_accuracy: 0.9977 - val_loss: 0.0157 - val_binary_accuracy: 0.9980\n",
            "Epoch 14/100\n",
            "2207/2207 [==============================] - 3s 1ms/step - loss: 0.0175 - binary_accuracy: 0.9977 - val_loss: 0.0147 - val_binary_accuracy: 0.9980\n",
            "Epoch 15/100\n",
            "2207/2207 [==============================] - 3s 1ms/step - loss: 0.0177 - binary_accuracy: 0.9977 - val_loss: 0.0155 - val_binary_accuracy: 0.9980\n",
            "Epoch 16/100\n",
            "2207/2207 [==============================] - 3s 1ms/step - loss: 0.0174 - binary_accuracy: 0.9977 - val_loss: 0.0175 - val_binary_accuracy: 0.9980\n",
            "Epoch 17/100\n",
            "2207/2207 [==============================] - 3s 1ms/step - loss: 0.0176 - binary_accuracy: 0.9977 - val_loss: 0.0148 - val_binary_accuracy: 0.9980\n",
            "Epoch 18/100\n",
            "2207/2207 [==============================] - 3s 1ms/step - loss: 0.0175 - binary_accuracy: 0.9977 - val_loss: 0.0154 - val_binary_accuracy: 0.9980\n",
            "Epoch 19/100\n",
            "2207/2207 [==============================] - 3s 1ms/step - loss: 0.0177 - binary_accuracy: 0.9977 - val_loss: 0.0148 - val_binary_accuracy: 0.9980\n",
            "Epoch 20/100\n",
            "2207/2207 [==============================] - 3s 1ms/step - loss: 0.0173 - binary_accuracy: 0.9977 - val_loss: 0.0147 - val_binary_accuracy: 0.9980\n",
            "Epoch 21/100\n",
            "2207/2207 [==============================] - 3s 1ms/step - loss: 0.0175 - binary_accuracy: 0.9977 - val_loss: 0.0153 - val_binary_accuracy: 0.9980\n",
            "Epoch 22/100\n",
            "2207/2207 [==============================] - 3s 1ms/step - loss: 0.0177 - binary_accuracy: 0.9977 - val_loss: 0.0151 - val_binary_accuracy: 0.9980\n",
            "Epoch 23/100\n",
            "2207/2207 [==============================] - 3s 1ms/step - loss: 0.0175 - binary_accuracy: 0.9977 - val_loss: 0.0153 - val_binary_accuracy: 0.9980\n",
            "Epoch 24/100\n",
            "2207/2207 [==============================] - 3s 1ms/step - loss: 0.0176 - binary_accuracy: 0.9977 - val_loss: 0.0149 - val_binary_accuracy: 0.9980\n",
            "Epoch 25/100\n",
            "2207/2207 [==============================] - 3s 1ms/step - loss: 0.0173 - binary_accuracy: 0.9977 - val_loss: 0.0152 - val_binary_accuracy: 0.9980\n",
            "Epoch 26/100\n",
            "2207/2207 [==============================] - 3s 1ms/step - loss: 0.0174 - binary_accuracy: 0.9977 - val_loss: 0.0152 - val_binary_accuracy: 0.9980\n",
            "Epoch 27/100\n",
            "2207/2207 [==============================] - 3s 2ms/step - loss: 0.0176 - binary_accuracy: 0.9977 - val_loss: 0.0150 - val_binary_accuracy: 0.9980\n",
            "Epoch 28/100\n",
            "2207/2207 [==============================] - 3s 1ms/step - loss: 0.0175 - binary_accuracy: 0.9977 - val_loss: 0.0147 - val_binary_accuracy: 0.9980\n",
            "Epoch 29/100\n",
            "2207/2207 [==============================] - 3s 1ms/step - loss: 0.0174 - binary_accuracy: 0.9977 - val_loss: 0.0148 - val_binary_accuracy: 0.9980\n",
            "Epoch 30/100\n",
            "2207/2207 [==============================] - 3s 1ms/step - loss: 0.0175 - binary_accuracy: 0.9977 - val_loss: 0.0153 - val_binary_accuracy: 0.9980\n",
            "Epoch 31/100\n",
            "2207/2207 [==============================] - 3s 1ms/step - loss: 0.0173 - binary_accuracy: 0.9977 - val_loss: 0.0167 - val_binary_accuracy: 0.9980\n",
            "Epoch 32/100\n",
            "2207/2207 [==============================] - 3s 1ms/step - loss: 0.0174 - binary_accuracy: 0.9977 - val_loss: 0.0159 - val_binary_accuracy: 0.9980\n",
            "Epoch 33/100\n",
            "2207/2207 [==============================] - 3s 1ms/step - loss: 0.0174 - binary_accuracy: 0.9977 - val_loss: 0.0149 - val_binary_accuracy: 0.9980\n",
            "Epoch 34/100\n",
            "2207/2207 [==============================] - 3s 1ms/step - loss: 0.0173 - binary_accuracy: 0.9977 - val_loss: 0.0154 - val_binary_accuracy: 0.9980\n",
            "Epoch 35/100\n",
            "2207/2207 [==============================] - 3s 1ms/step - loss: 0.0174 - binary_accuracy: 0.9977 - val_loss: 0.0147 - val_binary_accuracy: 0.9980\n",
            "Epoch 36/100\n",
            "2207/2207 [==============================] - 3s 1ms/step - loss: 0.0174 - binary_accuracy: 0.9977 - val_loss: 0.0152 - val_binary_accuracy: 0.9980\n",
            "Epoch 37/100\n",
            "2207/2207 [==============================] - 3s 1ms/step - loss: 0.0177 - binary_accuracy: 0.9977 - val_loss: 0.0159 - val_binary_accuracy: 0.9980\n",
            "Epoch 38/100\n",
            "2207/2207 [==============================] - 3s 1ms/step - loss: 0.0177 - binary_accuracy: 0.9977 - val_loss: 0.0161 - val_binary_accuracy: 0.9980\n",
            "Epoch 39/100\n",
            "2207/2207 [==============================] - 3s 2ms/step - loss: 0.0177 - binary_accuracy: 0.9977 - val_loss: 0.0148 - val_binary_accuracy: 0.9980\n",
            "Epoch 40/100\n",
            "2207/2207 [==============================] - 3s 1ms/step - loss: 0.0178 - binary_accuracy: 0.9977 - val_loss: 0.0147 - val_binary_accuracy: 0.9980\n",
            "Epoch 41/100\n",
            "2207/2207 [==============================] - 3s 1ms/step - loss: 0.0176 - binary_accuracy: 0.9977 - val_loss: 0.0161 - val_binary_accuracy: 0.9980\n",
            "Epoch 42/100\n",
            "2207/2207 [==============================] - 3s 1ms/step - loss: 0.0174 - binary_accuracy: 0.9977 - val_loss: 0.0159 - val_binary_accuracy: 0.9980\n",
            "Epoch 43/100\n",
            "2207/2207 [==============================] - 3s 1ms/step - loss: 0.0175 - binary_accuracy: 0.9977 - val_loss: 0.0148 - val_binary_accuracy: 0.9980\n",
            "Epoch 44/100\n",
            "2207/2207 [==============================] - 3s 2ms/step - loss: 0.0174 - binary_accuracy: 0.9977 - val_loss: 0.0148 - val_binary_accuracy: 0.9980\n",
            "Epoch 45/100\n",
            "2207/2207 [==============================] - 3s 1ms/step - loss: 0.0177 - binary_accuracy: 0.9977 - val_loss: 0.0148 - val_binary_accuracy: 0.9980\n",
            "Epoch 46/100\n",
            "2207/2207 [==============================] - 3s 1ms/step - loss: 0.0175 - binary_accuracy: 0.9977 - val_loss: 0.0154 - val_binary_accuracy: 0.9980\n",
            "Epoch 47/100\n",
            "2207/2207 [==============================] - 3s 1ms/step - loss: 0.0177 - binary_accuracy: 0.9977 - val_loss: 0.0149 - val_binary_accuracy: 0.9980\n",
            "Epoch 48/100\n",
            "2207/2207 [==============================] - 3s 1ms/step - loss: 0.0173 - binary_accuracy: 0.9977 - val_loss: 0.0150 - val_binary_accuracy: 0.9980\n",
            "Epoch 49/100\n",
            "2207/2207 [==============================] - 3s 1ms/step - loss: 0.0174 - binary_accuracy: 0.9977 - val_loss: 0.0147 - val_binary_accuracy: 0.9980\n",
            "Epoch 50/100\n",
            "2207/2207 [==============================] - 3s 1ms/step - loss: 0.0175 - binary_accuracy: 0.9977 - val_loss: 0.0148 - val_binary_accuracy: 0.9980\n",
            "Epoch 51/100\n",
            "2207/2207 [==============================] - 3s 1ms/step - loss: 0.0175 - binary_accuracy: 0.9977 - val_loss: 0.0159 - val_binary_accuracy: 0.9980\n",
            "Epoch 52/100\n",
            "2207/2207 [==============================] - 3s 1ms/step - loss: 0.0175 - binary_accuracy: 0.9977 - val_loss: 0.0148 - val_binary_accuracy: 0.9980\n",
            "Epoch 53/100\n",
            "2207/2207 [==============================] - 3s 1ms/step - loss: 0.0173 - binary_accuracy: 0.9977 - val_loss: 0.0160 - val_binary_accuracy: 0.9980\n",
            "Epoch 54/100\n",
            "2207/2207 [==============================] - 3s 1ms/step - loss: 0.0178 - binary_accuracy: 0.9977 - val_loss: 0.0164 - val_binary_accuracy: 0.9980\n",
            "Epoch 55/100\n",
            "2207/2207 [==============================] - 3s 1ms/step - loss: 0.0177 - binary_accuracy: 0.9977 - val_loss: 0.0150 - val_binary_accuracy: 0.9980\n",
            "Epoch 56/100\n",
            "2207/2207 [==============================] - 3s 1ms/step - loss: 0.0175 - binary_accuracy: 0.9977 - val_loss: 0.0164 - val_binary_accuracy: 0.9980\n",
            "Epoch 57/100\n",
            "2207/2207 [==============================] - 3s 1ms/step - loss: 0.0174 - binary_accuracy: 0.9977 - val_loss: 0.0148 - val_binary_accuracy: 0.9980\n",
            "Epoch 58/100\n",
            "2207/2207 [==============================] - 3s 1ms/step - loss: 0.0175 - binary_accuracy: 0.9977 - val_loss: 0.0153 - val_binary_accuracy: 0.9980\n",
            "Epoch 59/100\n",
            "2207/2207 [==============================] - 3s 1ms/step - loss: 0.0175 - binary_accuracy: 0.9977 - val_loss: 0.0153 - val_binary_accuracy: 0.9980\n",
            "Epoch 60/100\n",
            "2207/2207 [==============================] - 3s 1ms/step - loss: 0.0175 - binary_accuracy: 0.9977 - val_loss: 0.0162 - val_binary_accuracy: 0.9980\n",
            "Epoch 61/100\n",
            "2207/2207 [==============================] - 3s 1ms/step - loss: 0.0174 - binary_accuracy: 0.9977 - val_loss: 0.0153 - val_binary_accuracy: 0.9980\n",
            "Epoch 62/100\n",
            "2207/2207 [==============================] - 3s 1ms/step - loss: 0.0175 - binary_accuracy: 0.9977 - val_loss: 0.0147 - val_binary_accuracy: 0.9980\n",
            "Epoch 63/100\n",
            "2207/2207 [==============================] - 3s 1ms/step - loss: 0.0173 - binary_accuracy: 0.9977 - val_loss: 0.0164 - val_binary_accuracy: 0.9980\n",
            "Epoch 64/100\n",
            "2207/2207 [==============================] - 3s 1ms/step - loss: 0.0178 - binary_accuracy: 0.9977 - val_loss: 0.0153 - val_binary_accuracy: 0.9980\n",
            "Epoch 65/100\n",
            "2207/2207 [==============================] - 3s 1ms/step - loss: 0.0174 - binary_accuracy: 0.9977 - val_loss: 0.0147 - val_binary_accuracy: 0.9980\n",
            "Epoch 66/100\n",
            "2207/2207 [==============================] - 3s 1ms/step - loss: 0.0175 - binary_accuracy: 0.9977 - val_loss: 0.0147 - val_binary_accuracy: 0.9980\n",
            "Epoch 67/100\n",
            "2207/2207 [==============================] - 3s 1ms/step - loss: 0.0177 - binary_accuracy: 0.9977 - val_loss: 0.0151 - val_binary_accuracy: 0.9980\n",
            "Epoch 68/100\n",
            "2207/2207 [==============================] - 3s 1ms/step - loss: 0.0178 - binary_accuracy: 0.9977 - val_loss: 0.0147 - val_binary_accuracy: 0.9980\n",
            "Epoch 69/100\n",
            "2207/2207 [==============================] - 3s 1ms/step - loss: 0.0174 - binary_accuracy: 0.9977 - val_loss: 0.0151 - val_binary_accuracy: 0.9980\n",
            "Epoch 70/100\n",
            "2207/2207 [==============================] - 3s 1ms/step - loss: 0.0177 - binary_accuracy: 0.9977 - val_loss: 0.0150 - val_binary_accuracy: 0.9980\n",
            "Epoch 71/100\n",
            "2207/2207 [==============================] - 3s 1ms/step - loss: 0.0179 - binary_accuracy: 0.9977 - val_loss: 0.0152 - val_binary_accuracy: 0.9980\n",
            "Epoch 72/100\n",
            "2207/2207 [==============================] - 3s 1ms/step - loss: 0.0176 - binary_accuracy: 0.9977 - val_loss: 0.0149 - val_binary_accuracy: 0.9980\n",
            "Epoch 73/100\n",
            "2207/2207 [==============================] - 3s 1ms/step - loss: 0.0173 - binary_accuracy: 0.9977 - val_loss: 0.0197 - val_binary_accuracy: 0.9980\n",
            "Epoch 74/100\n",
            "2207/2207 [==============================] - 3s 1ms/step - loss: 0.0177 - binary_accuracy: 0.9977 - val_loss: 0.0151 - val_binary_accuracy: 0.9980\n",
            "Epoch 75/100\n",
            "2207/2207 [==============================] - 3s 1ms/step - loss: 0.0178 - binary_accuracy: 0.9977 - val_loss: 0.0148 - val_binary_accuracy: 0.9980\n",
            "Epoch 76/100\n",
            "2207/2207 [==============================] - 3s 1ms/step - loss: 0.0176 - binary_accuracy: 0.9977 - val_loss: 0.0151 - val_binary_accuracy: 0.9980\n",
            "Epoch 77/100\n",
            "2207/2207 [==============================] - 3s 1ms/step - loss: 0.0175 - binary_accuracy: 0.9977 - val_loss: 0.0147 - val_binary_accuracy: 0.9980\n",
            "Epoch 78/100\n",
            "2207/2207 [==============================] - 3s 1ms/step - loss: 0.0175 - binary_accuracy: 0.9977 - val_loss: 0.0156 - val_binary_accuracy: 0.9980\n",
            "Epoch 79/100\n",
            "2207/2207 [==============================] - 3s 1ms/step - loss: 0.0174 - binary_accuracy: 0.9977 - val_loss: 0.0156 - val_binary_accuracy: 0.9980\n",
            "Epoch 80/100\n",
            "2207/2207 [==============================] - 3s 1ms/step - loss: 0.0176 - binary_accuracy: 0.9977 - val_loss: 0.0169 - val_binary_accuracy: 0.9980\n",
            "Epoch 81/100\n",
            "2207/2207 [==============================] - 3s 1ms/step - loss: 0.0174 - binary_accuracy: 0.9977 - val_loss: 0.0158 - val_binary_accuracy: 0.9980\n",
            "Epoch 82/100\n",
            "2207/2207 [==============================] - 3s 1ms/step - loss: 0.0176 - binary_accuracy: 0.9977 - val_loss: 0.0167 - val_binary_accuracy: 0.9980\n",
            "Epoch 83/100\n",
            "2207/2207 [==============================] - 3s 1ms/step - loss: 0.0177 - binary_accuracy: 0.9977 - val_loss: 0.0180 - val_binary_accuracy: 0.9980\n",
            "Epoch 84/100\n",
            "2207/2207 [==============================] - 3s 2ms/step - loss: 0.0177 - binary_accuracy: 0.9977 - val_loss: 0.0168 - val_binary_accuracy: 0.9980\n",
            "Epoch 85/100\n",
            "2207/2207 [==============================] - 3s 2ms/step - loss: 0.0174 - binary_accuracy: 0.9977 - val_loss: 0.0158 - val_binary_accuracy: 0.9980\n",
            "Epoch 86/100\n",
            "2207/2207 [==============================] - 3s 2ms/step - loss: 0.0175 - binary_accuracy: 0.9977 - val_loss: 0.0157 - val_binary_accuracy: 0.9980\n",
            "Epoch 87/100\n",
            "2207/2207 [==============================] - 3s 1ms/step - loss: 0.0177 - binary_accuracy: 0.9977 - val_loss: 0.0156 - val_binary_accuracy: 0.9980\n",
            "Epoch 88/100\n",
            "2207/2207 [==============================] - 3s 1ms/step - loss: 0.0175 - binary_accuracy: 0.9977 - val_loss: 0.0147 - val_binary_accuracy: 0.9980\n",
            "Epoch 89/100\n",
            "2207/2207 [==============================] - 3s 1ms/step - loss: 0.0174 - binary_accuracy: 0.9977 - val_loss: 0.0152 - val_binary_accuracy: 0.9980\n",
            "Epoch 90/100\n",
            "2207/2207 [==============================] - 3s 1ms/step - loss: 0.0175 - binary_accuracy: 0.9977 - val_loss: 0.0149 - val_binary_accuracy: 0.9980\n",
            "Epoch 91/100\n",
            "2207/2207 [==============================] - 3s 2ms/step - loss: 0.0176 - binary_accuracy: 0.9977 - val_loss: 0.0174 - val_binary_accuracy: 0.9980\n",
            "Epoch 92/100\n",
            "2207/2207 [==============================] - 3s 2ms/step - loss: 0.0176 - binary_accuracy: 0.9977 - val_loss: 0.0149 - val_binary_accuracy: 0.9980\n",
            "Epoch 93/100\n",
            "2207/2207 [==============================] - 3s 2ms/step - loss: 0.0174 - binary_accuracy: 0.9977 - val_loss: 0.0150 - val_binary_accuracy: 0.9980\n",
            "Epoch 94/100\n",
            "2207/2207 [==============================] - 3s 2ms/step - loss: 0.0173 - binary_accuracy: 0.9977 - val_loss: 0.0162 - val_binary_accuracy: 0.9980\n",
            "Epoch 95/100\n",
            "2207/2207 [==============================] - 3s 2ms/step - loss: 0.0175 - binary_accuracy: 0.9977 - val_loss: 0.0149 - val_binary_accuracy: 0.9980\n",
            "Epoch 96/100\n",
            "2207/2207 [==============================] - 3s 2ms/step - loss: 0.0174 - binary_accuracy: 0.9977 - val_loss: 0.0148 - val_binary_accuracy: 0.9980\n",
            "Epoch 97/100\n",
            "2207/2207 [==============================] - 3s 2ms/step - loss: 0.0174 - binary_accuracy: 0.9977 - val_loss: 0.0150 - val_binary_accuracy: 0.9980\n",
            "Epoch 98/100\n",
            "2207/2207 [==============================] - 3s 2ms/step - loss: 0.0176 - binary_accuracy: 0.9977 - val_loss: 0.0160 - val_binary_accuracy: 0.9980\n",
            "Epoch 99/100\n",
            "2207/2207 [==============================] - 3s 2ms/step - loss: 0.0173 - binary_accuracy: 0.9977 - val_loss: 0.0148 - val_binary_accuracy: 0.9980\n",
            "Epoch 100/100\n",
            "2207/2207 [==============================] - 3s 2ms/step - loss: 0.0179 - binary_accuracy: 0.9977 - val_loss: 0.0150 - val_binary_accuracy: 0.9980\n"
          ],
          "name": "stdout"
        },
        {
          "output_type": "execute_result",
          "data": {
            "text/plain": [
              "dict_keys(['loss', 'binary_accuracy', 'val_loss', 'val_binary_accuracy'])"
            ]
          },
          "metadata": {
            "tags": []
          },
          "execution_count": 64
        }
      ]
    },
    {
      "cell_type": "code",
      "metadata": {
        "colab": {
          "base_uri": "https://localhost:8080/",
          "height": 294
        },
        "id": "MgF8hs_OU6-F",
        "outputId": "d7914288-4907-468d-eb69-4a52d70c54c7"
      },
      "source": [
        "import matplotlib.pyplot as plt\n",
        "loss_values=history_dic['loss']\n",
        "acc=history_dic['binary_accuracy']\n",
        "val_loss_values=history_dic['val_loss']\n",
        "epochs=range(1,101)\n",
        "plt.plot(epochs,loss_values,'bo',label='Training loss')\n",
        "plt.plot(epochs,val_loss_values,'b',label='Validation loss')\n",
        "plt.title('Training and Validation loss')\n",
        "plt.xlabel('Epochs')\n",
        "plt.ylabel('loss')\n",
        "plt.legend()\n",
        "plt.show()"
      ],
      "execution_count": 65,
      "outputs": [
        {
          "output_type": "display_data",
          "data": {
            "image/png": "[encoded data removed]",
            "text/plain": [
              "<Figure size 432x288 with 1 Axes>"
            ]
          },
          "metadata": {
            "tags": [],
            "needs_background": "light"
          }
        }
      ]
    },
    {
      "cell_type": "code",
      "metadata": {
        "id": "K8XBHcMvSNUD",
        "colab": {
          "base_uri": "https://localhost:8080/"
        },
        "outputId": "5d4f97bb-0b8b-4a49-afa7-1bc9cd9652f8"
      },
      "source": [
        "model.fit(train_data,train_label,epochs=20,batch_size=16)\n",
        "results=model.evaluate(test_data,test_label)"
      ],
      "execution_count": 66,
      "outputs": [
        {
          "output_type": "stream",
          "text": [
            "Epoch 1/20\n",
            "4828/4828 [==============================] - 6s 1ms/step - loss: 0.0186 - binary_accuracy: 0.9978\n",
            "Epoch 2/20\n",
            "4828/4828 [==============================] - 6s 1ms/step - loss: 0.0196 - binary_accuracy: 0.9978\n",
            "Epoch 3/20\n",
            "4828/4828 [==============================] - 6s 1ms/step - loss: 0.0199 - binary_accuracy: 0.9978\n",
            "Epoch 4/20\n",
            "4828/4828 [==============================] - 6s 1ms/step - loss: 0.0188 - binary_accuracy: 0.9978\n",
            "Epoch 5/20\n",
            "4828/4828 [==============================] - 6s 1ms/step - loss: 0.0196 - binary_accuracy: 0.9978\n",
            "Epoch 6/20\n",
            "4828/4828 [==============================] - 6s 1ms/step - loss: 0.0198 - binary_accuracy: 0.9978\n",
            "Epoch 7/20\n",
            "4828/4828 [==============================] - 6s 1ms/step - loss: 0.0196 - binary_accuracy: 0.9978\n",
            "Epoch 8/20\n",
            "4828/4828 [==============================] - 6s 1ms/step - loss: 0.0192 - binary_accuracy: 0.9978\n",
            "Epoch 9/20\n",
            "4828/4828 [==============================] - 6s 1ms/step - loss: 0.0187 - binary_accuracy: 0.9978\n",
            "Epoch 10/20\n",
            "4828/4828 [==============================] - 6s 1ms/step - loss: 0.0193 - binary_accuracy: 0.9978\n",
            "Epoch 11/20\n",
            "4828/4828 [==============================] - 6s 1ms/step - loss: 0.0187 - binary_accuracy: 0.9978\n",
            "Epoch 12/20\n",
            "4828/4828 [==============================] - 6s 1ms/step - loss: 0.0186 - binary_accuracy: 0.9978\n",
            "Epoch 13/20\n",
            "4828/4828 [==============================] - 6s 1ms/step - loss: 0.0187 - binary_accuracy: 0.9978\n",
            "Epoch 14/20\n",
            "4828/4828 [==============================] - 6s 1ms/step - loss: 0.0190 - binary_accuracy: 0.9978\n",
            "Epoch 15/20\n",
            "4828/4828 [==============================] - 6s 1ms/step - loss: 0.0192 - binary_accuracy: 0.9978\n",
            "Epoch 16/20\n",
            "4828/4828 [==============================] - 6s 1ms/step - loss: 0.0191 - binary_accuracy: 0.9978\n",
            "Epoch 17/20\n",
            "4828/4828 [==============================] - 6s 1ms/step - loss: 0.0188 - binary_accuracy: 0.9978\n",
            "Epoch 18/20\n",
            "4828/4828 [==============================] - 6s 1ms/step - loss: 0.0192 - binary_accuracy: 0.9978\n",
            "Epoch 19/20\n",
            "4828/4828 [==============================] - 6s 1ms/step - loss: 0.0194 - binary_accuracy: 0.9978\n",
            "Epoch 20/20\n",
            "4828/4828 [==============================] - 6s 1ms/step - loss: 0.0198 - binary_accuracy: 0.9978\n",
            "1035/1035 [==============================] - 1s 999us/step - loss: 0.0149 - binary_accuracy: 0.9980\n"
          ],
          "name": "stdout"
        }
      ]
    },
    {
      "cell_type": "code",
      "metadata": {
        "colab": {
          "base_uri": "https://localhost:8080/"
        },
        "id": "ZAZGApYcXgYt",
        "outputId": "8286bfa1-bb40-4cf7-dd44-e4a69c1cdc4e"
      },
      "source": [
        "results"
      ],
      "execution_count": 67,
      "outputs": [
        {
          "output_type": "execute_result",
          "data": {
            "text/plain": [
              "[0.014870771206915379, 0.9980061650276184]"
            ]
          },
          "metadata": {
            "tags": []
          },
          "execution_count": 67
        }
      ]
    },
    {
      "cell_type": "code",
      "metadata": {
        "id": "JdUjF4geSNUD",
        "colab": {
          "base_uri": "https://localhost:8080/"
        },
        "outputId": "8173a09d-3c85-4bed-8dc0-c4b037e58d2f"
      },
      "source": [
        "model.predict(test_data)"
      ],
      "execution_count": 68,
      "outputs": [
        {
          "output_type": "execute_result",
          "data": {
            "text/plain": [
              "array([[0.00127769],\n",
              "       [0.00127769],\n",
              "       [0.00127769],\n",
              "       ...,\n",
              "       [0.00127769],\n",
              "       [0.00127769],\n",
              "       [0.00127769]], dtype=float32)"
            ]
          },
          "metadata": {
            "tags": []
          },
          "execution_count": 68
        }
      ]
    },
    {
      "cell_type": "code",
      "metadata": {
        "id": "FFk7EaMDSNUD",
        "colab": {
          "base_uri": "https://localhost:8080/"
        },
        "outputId": "93fa0a48-c2fc-42ba-92ee-bc34de7fafc4"
      },
      "source": [
        "test_label"
      ],
      "execution_count": 69,
      "outputs": [
        {
          "output_type": "execute_result",
          "data": {
            "text/plain": [
              "array([[0.],\n",
              "       [0.],\n",
              "       [0.],\n",
              "       ...,\n",
              "       [0.],\n",
              "       [0.],\n",
              "       [0.]])"
            ]
          },
          "metadata": {
            "tags": []
          },
          "execution_count": 69
        }
      ]
    },
    {
      "cell_type": "code",
      "metadata": {
        "id": "daU9eCbuSNUD"
      },
      "source": [
        ""
      ],
      "execution_count": null,
      "outputs": []
    },
    {
      "cell_type": "code",
      "metadata": {
        "id": "s2VwOvQbSNUE"
      },
      "source": [
        ""
      ],
      "execution_count": null,
      "outputs": []
    },
    {
      "cell_type": "code",
      "metadata": {
        "id": "fEYrcjvLSNUE"
      },
      "source": [
        ""
      ],
      "execution_count": null,
      "outputs": []
    },
    {
      "cell_type": "code",
      "metadata": {
        "id": "EOLQ1cIdSNUE"
      },
      "source": [
        ""
      ],
      "execution_count": null,
      "outputs": []
    },
    {
      "cell_type": "code",
      "metadata": {
        "id": "Z9IHXoTqSNUE"
      },
      "source": [
        ""
      ],
      "execution_count": null,
      "outputs": []
    },
    {
      "cell_type": "code",
      "metadata": {
        "id": "Pk7DvJTJSNUF"
      },
      "source": [
        ""
      ],
      "execution_count": null,
      "outputs": []
    }
  ]
}