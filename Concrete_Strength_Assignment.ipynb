{
  "nbformat": 4,
  "nbformat_minor": 0,
  "metadata": {
    "kernelspec": {
      "display_name": "Python 3",
      "language": "python",
      "name": "python3"
    },
    "language_info": {
      "codemirror_mode": {
        "name": "ipython",
        "version": 3
      },
      "file_extension": ".py",
      "mimetype": "text/x-python",
      "name": "python",
      "nbconvert_exporter": "python",
      "pygments_lexer": "ipython3",
      "version": "3.7.3"
    },
    "colab": {
      "name": "Copy of Concrete Strength Assignment.ipynb",
      "provenance": []
    }
  },
  "cells": [
    {
      "cell_type": "markdown",
      "metadata": {
        "id": "qE5P4Vt5zTFx"
      },
      "source": [
        "# Assignment: Compresive Strength Concrete Problem\n",
        "\n",
        "\n",
        "### Abstract: \n",
        "\n",
        "Concrete is the most important material in civil engineering. The concrete compressive strength (concrete strength to bear the load) is a highly nonlinear function of age and ingredients.  <br><br>\n",
        "\n",
        "<table border=\"1\"  cellpadding=\"6\" bordercolor=\"red\">\n",
        "\t<tbody>\n",
        "        <tr>\n",
        "\t\t<td bgcolor=\"#DDEEFF\"><p class=\"normal\"><b>Data Set Characteristics:&nbsp;&nbsp;</b></p></td>\n",
        "\t\t<td><p class=\"normal\">Multivariate</p></td>\n",
        "\t\t<td bgcolor=\"#DDEEFF\"><p class=\"normal\"><b>Number of Instances:</b></p></td>\n",
        "\t\t<td><p class=\"normal\">1030</p></td>\n",
        "\t\t<td bgcolor=\"#DDEEFF\"><p class=\"normal\"><b>Area:</b></p></td>\n",
        "\t\t<td><p class=\"normal\">Physical</p></td>\n",
        "        </tr>\n",
        "     </tbody>\n",
        "    </table>\n",
        "<table border=\"1\" cellpadding=\"6\">\n",
        "    <tbody>\n",
        "        <tr>\n",
        "            <td bgcolor=\"#DDEEFF\"><p class=\"normal\"><b>Attribute Characteristics:</b></p></td>\n",
        "            <td><p class=\"normal\">Real</p></td>\n",
        "            <td bgcolor=\"#DDEEFF\"><p class=\"normal\"><b>Number of Attributes:</b></p></td>\n",
        "            <td><p class=\"normal\">9</p></td>\n",
        "            <td bgcolor=\"#DDEEFF\"><p class=\"normal\"><b>Date Donated</b></p></td>\n",
        "            <td><p class=\"normal\">2007-08-03</p></td>\n",
        "        </tr>\n",
        "     </tbody>\n",
        "    </table>\n",
        "<table border=\"1\" cellpadding=\"6\">\t\n",
        "    <tbody>\n",
        "    <tr>\n",
        "\t\t<td bgcolor=\"#DDEEFF\"><p class=\"normal\"><b>Associated Tasks:</b></p></td>\n",
        "\t\t<td><p class=\"normal\">Regression</p></td>\n",
        "\t\t<td bgcolor=\"#DDEEFF\"><p class=\"normal\"><b>Missing Values?</b></p></td>\n",
        "\t\t<td><p class=\"normal\">N/A</p></td>\n",
        "\t\t<td bgcolor=\"#DDEEFF\"><p class=\"normal\"><b>Number of Web Hits:</b></p></td>\n",
        "\t\t<td><p class=\"normal\">231464</p></td>\n",
        "\t</tr>\n",
        "    </tbody>\n",
        "    </table>"
      ]
    },
    {
      "cell_type": "markdown",
      "metadata": {
        "id": "qiNylsHczTGB"
      },
      "source": [
        "###  Description:\n",
        "| Features Name | Data Type | Measurement | Description |\n",
        "| -- | -- | -- | -- |\n",
        "Cement (component 1) | quantitative | kg in a m3 mixture | Input Variable\n",
        "Blast Furnace Slag (component 2) | quantitative | kg in a m3 mixture | Input Variable\n",
        "Fly Ash (component 3) | quantitative | kg in a m3 mixture | Input Variable\n",
        "Water (component 4) | quantitative | kg in a m3 mixture | Input Variable\n",
        "Superplasticizer (component 5) | quantitative | kg in a m3 mixture | Input Variable\n",
        "Coarse Aggregate (component 6) | quantitative | kg in a m3 mixture | Input Variable\n",
        "Fine Aggregate (component 7) | quantitative | kg in a m3 mixture | Input Variable\n",
        "Age | quantitative | Day (1~365) | Input Variable\n",
        "Concrete compressive strength | quantitative | MPa | Output Variable\n",
        "\n",
        "### WORKFLOW :\n",
        "- Load Data\n",
        "- Check Missing Values ( If Exist ; Fill each record with mean of its feature )\n",
        "- Standardized the Input Variables. **Hint**: Centeralized the data\n",
        "- Split into 50% Training(Samples,Labels) , 30% Test(Samples,Labels) and 20% Validation Data(Samples,Labels).\n",
        "- Model : input Layer (No. of features ), 3 hidden layers including 10,8,6 unit & Output Layer with activation function relu/tanh (check by experiment).\n",
        "- Compilation Step (Note : Its a Regression problem , select loss , metrics according to it)\n",
        "- Train the Model with Epochs (100) and validate it\n",
        "- If the model gets overfit tune your model by changing the units , No. of layers , activation function , epochs , add dropout layer or add Regularizer according to the need .\n",
        "- Evaluation Step\n",
        "- Prediction\n"
      ]
    },
    {
      "cell_type": "markdown",
      "metadata": {
        "id": "F_ZsOLcrzTGC"
      },
      "source": [
        "# Load Data:\n",
        "[Click Here to Download DataSet](https://github.com/ramsha275/ML_Datasets/blob/main/compresive_strength_concrete.csv)"
      ]
    },
    {
      "cell_type": "code",
      "metadata": {
        "colab": {
          "base_uri": "https://localhost:8080/",
          "height": 35
        },
        "id": "opBwMucizTGD",
        "outputId": "67a57184-ee54-4e0d-b3aa-a7704910fc0c"
      },
      "source": [
        "import numpy as np\n",
        "import pandas as pd\n",
        "import tensorflow as tf\n",
        "tf.__version__"
      ],
      "execution_count": null,
      "outputs": [
        {
          "output_type": "execute_result",
          "data": {
            "application/vnd.google.colaboratory.intrinsic+json": {
              "type": "string"
            },
            "text/plain": [
              "'2.4.1'"
            ]
          },
          "metadata": {
            "tags": []
          },
          "execution_count": 1
        }
      ]
    },
    {
      "cell_type": "code",
      "metadata": {
        "colab": {
          "resources": {
            "http://localhost:8080/nbextensions/google.colab/files.js": {
              "data": "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",
              "ok": true,
              "headers": [
                [
                  "content-type",
                  "application/javascript"
                ]
              ],
              "status": 200,
              "status_text": ""
            }
          },
          "base_uri": "https://localhost:8080/",
          "height": 73
        },
        "id": "UKt2uDmPzpqb",
        "outputId": "722dd190-2836-423b-c1ac-e70a961c979e"
      },
      "source": [
        "import io\n",
        "from google.colab import files\n",
        "upoaded = files.upload()"
      ],
      "execution_count": null,
      "outputs": [
        {
          "output_type": "display_data",
          "data": {
            "text/html": [
              "\n",
              "     <input type=\"file\" id=\"files-3132e1cc-edd2-45cf-87b5-d49546d9e132\" name=\"files[]\" multiple disabled\n",
              "        style=\"border:none\" />\n",
              "     <output id=\"result-3132e1cc-edd2-45cf-87b5-d49546d9e132\">\n",
              "      Upload widget is only available when the cell has been executed in the\n",
              "      current browser session. Please rerun this cell to enable.\n",
              "      </output>\n",
              "      <script src=\"/nbextensions/google.colab/files.js\"></script> "
            ],
            "text/plain": [
              "<IPython.core.display.HTML object>"
            ]
          },
          "metadata": {
            "tags": []
          }
        },
        {
          "output_type": "stream",
          "text": [
            "Saving compresive_strength_concrete.csv to compresive_strength_concrete.csv\n"
          ],
          "name": "stdout"
        }
      ]
    },
    {
      "cell_type": "code",
      "metadata": {
        "colab": {
          "base_uri": "https://localhost:8080/"
        },
        "id": "MV-w8Ehczp6K",
        "outputId": "53f4db05-8da0-437a-d87a-86d1ec3959a6"
      },
      "source": [
        "df=pd.read_csv('compresive_strength_concrete.csv')\n",
        "df.head"
      ],
      "execution_count": null,
      "outputs": [
        {
          "output_type": "execute_result",
          "data": {
            "text/plain": [
              "<bound method NDFrame.head of       Cement (component 1)(kg in a m^3 mixture)  ...  Concrete compressive strength(MPa, megapascals) \n",
              "0                                         540.0  ...                                             79.99\n",
              "1                                         540.0  ...                                             61.89\n",
              "2                                         332.5  ...                                             40.27\n",
              "3                                         332.5  ...                                             41.05\n",
              "4                                         198.6  ...                                             44.30\n",
              "...                                         ...  ...                                               ...\n",
              "1025                                      276.4  ...                                             44.28\n",
              "1026                                      322.2  ...                                             31.18\n",
              "1027                                      148.5  ...                                             23.70\n",
              "1028                                      159.1  ...                                             32.77\n",
              "1029                                      260.9  ...                                             32.40\n",
              "\n",
              "[1030 rows x 9 columns]>"
            ]
          },
          "metadata": {
            "tags": []
          },
          "execution_count": 3
        }
      ]
    },
    {
      "cell_type": "code",
      "metadata": {
        "colab": {
          "base_uri": "https://localhost:8080/"
        },
        "id": "4_-Wp_Jw0Ac_",
        "outputId": "aebb9611-6df5-4875-c216-408af9821434"
      },
      "source": [
        "df.isnull().sum()"
      ],
      "execution_count": null,
      "outputs": [
        {
          "output_type": "execute_result",
          "data": {
            "text/plain": [
              "Cement (component 1)(kg in a m^3 mixture)                0\n",
              "Blast Furnace Slag (component 2)(kg in a m^3 mixture)    0\n",
              "Fly Ash (component 3)(kg in a m^3 mixture)               0\n",
              "Water  (component 4)(kg in a m^3 mixture)                0\n",
              "Superplasticizer (component 5)(kg in a m^3 mixture)      0\n",
              "Coarse Aggregate  (component 6)(kg in a m^3 mixture)     0\n",
              "Fine Aggregate (component 7)(kg in a m^3 mixture)        0\n",
              "Age (day)                                                0\n",
              "Concrete compressive strength(MPa, megapascals)          0\n",
              "dtype: int64"
            ]
          },
          "metadata": {
            "tags": []
          },
          "execution_count": 4
        }
      ]
    },
    {
      "cell_type": "code",
      "metadata": {
        "colab": {
          "base_uri": "https://localhost:8080/"
        },
        "id": "gobLZS400KD9",
        "outputId": "f2f4ea06-14de-463c-bd01-539150e124f6"
      },
      "source": [
        "df.dtypes"
      ],
      "execution_count": null,
      "outputs": [
        {
          "output_type": "execute_result",
          "data": {
            "text/plain": [
              "Cement (component 1)(kg in a m^3 mixture)                float64\n",
              "Blast Furnace Slag (component 2)(kg in a m^3 mixture)    float64\n",
              "Fly Ash (component 3)(kg in a m^3 mixture)               float64\n",
              "Water  (component 4)(kg in a m^3 mixture)                float64\n",
              "Superplasticizer (component 5)(kg in a m^3 mixture)      float64\n",
              "Coarse Aggregate  (component 6)(kg in a m^3 mixture)     float64\n",
              "Fine Aggregate (component 7)(kg in a m^3 mixture)        float64\n",
              "Age (day)                                                  int64\n",
              "Concrete compressive strength(MPa, megapascals)          float64\n",
              "dtype: object"
            ]
          },
          "metadata": {
            "tags": []
          },
          "execution_count": 5
        }
      ]
    },
    {
      "cell_type": "code",
      "metadata": {
        "id": "4y9fq2KZ0NAE"
      },
      "source": [
        "x = df[['Cement (component 1)(kg in a m^3 mixture)','Blast Furnace Slag (component 2)(kg in a m^3 mixture)','Fly Ash (component 3)(kg in a m^3 mixture)','Water  (component 4)(kg in a m^3 mixture)','Superplasticizer (component 5)(kg in a m^3 mixture)','Coarse Aggregate  (component 6)(kg in a m^3 mixture)','Fine Aggregate (component 7)(kg in a m^3 mixture)','Age (day)']].values"
      ],
      "execution_count": null,
      "outputs": []
    },
    {
      "cell_type": "code",
      "metadata": {
        "id": "Whs3HYsH14me"
      },
      "source": [
        "y= df[['Concrete compressive strength(MPa, megapascals) ']].values"
      ],
      "execution_count": null,
      "outputs": []
    },
    {
      "cell_type": "code",
      "metadata": {
        "colab": {
          "base_uri": "https://localhost:8080/"
        },
        "id": "XyP7t5_t23Fh",
        "outputId": "496b18a5-ede9-4c37-e190-108d9170d096"
      },
      "source": [
        "x.shape"
      ],
      "execution_count": null,
      "outputs": [
        {
          "output_type": "execute_result",
          "data": {
            "text/plain": [
              "(1030, 8)"
            ]
          },
          "metadata": {
            "tags": []
          },
          "execution_count": 17
        }
      ]
    },
    {
      "cell_type": "code",
      "metadata": {
        "colab": {
          "base_uri": "https://localhost:8080/"
        },
        "id": "bztrnCW23FFj",
        "outputId": "9aaa37bf-79a3-48d3-ca2f-edb41342693c"
      },
      "source": [
        "y.shape"
      ],
      "execution_count": null,
      "outputs": [
        {
          "output_type": "execute_result",
          "data": {
            "text/plain": [
              "(1030, 1)"
            ]
          },
          "metadata": {
            "tags": []
          },
          "execution_count": 18
        }
      ]
    },
    {
      "cell_type": "code",
      "metadata": {
        "id": "WyDuSbA03FLR"
      },
      "source": [
        "from sklearn.model_selection import train_test_split\n",
        "train_x, test_x, train_label, test_label = train_test_split(x, y, test_size=0.30, random_state=42)"
      ],
      "execution_count": null,
      "outputs": []
    },
    {
      "cell_type": "code",
      "metadata": {
        "id": "5PU9PcCI3FQn"
      },
      "source": [
        "mean=train_x.mean(axis=0)\n",
        "train_x-=mean\n",
        "std=train_x.std(axis=0)\n",
        "train_x/=std\n",
        "test_x-=mean\n",
        "test_x/=std"
      ],
      "execution_count": null,
      "outputs": []
    },
    {
      "cell_type": "code",
      "metadata": {
        "id": "9z3-MYdB3FT2"
      },
      "source": [
        "from keras import models\n",
        "from keras import layers\n",
        "def build_model():\n",
        "  model=models.Sequential()\n",
        "  model.add(layers.Dense(10,activation='relu',input_shape=(train_x.shape[1],)))\n",
        "  model.add(layers.Dense(8,activation='relu'))\n",
        "  model.add(layers.Dense(6,activation='relu'))\n",
        "  model.add(layers.Dense(1))\n",
        "  model.compile(optimizer='rmsprop',loss='mse',metrics=['mae'])\n",
        "  return model"
      ],
      "execution_count": null,
      "outputs": []
    },
    {
      "cell_type": "code",
      "metadata": {
        "colab": {
          "base_uri": "https://localhost:8080/"
        },
        "id": "IHWEWPUx3FXA",
        "outputId": "297a366b-a06b-4e09-a42f-370f03feeff6"
      },
      "source": [
        "k=4\n",
        "samples=len(train_x)//k\n",
        "num_epochs=500\n",
        "all_scores=[]\n",
        "all_mae_history=[]\n",
        "for i in range (k):\n",
        "  print('proccessing fold #',i)\n",
        "  validation_x=train_x[i*samples:(i+1)*samples]\n",
        "  validation_label=train_label[i*samples:(i+1)*samples]\n",
        "  partial_train_x=np.concatenate([train_x[:i*samples],train_x[(i+1)*samples:]],axis=0)\n",
        "  partial_train_label=np.concatenate([train_label[:i*samples],train_label[(i+1)*samples:]],axis=0)\n",
        "  model= build_model()\n",
        "  history=model.fit(partial_train_x, partial_train_label, epochs=num_epochs, batch_size=1,verbose=0)\n",
        "  validation_mse, validation_mae=model.evaluate(validation_x,validation_label,verbose=0)\n",
        "  all_scores.append(validation_mae)\n",
        "  mae_history=history.history['mae']\n",
        "  all_mae_history.append(mae_history)"
      ],
      "execution_count": null,
      "outputs": [
        {
          "output_type": "stream",
          "text": [
            "proccessing fold # 0\n",
            "proccessing fold # 1\n",
            "proccessing fold # 2\n",
            "proccessing fold # 3\n"
          ],
          "name": "stdout"
        }
      ]
    },
    {
      "cell_type": "code",
      "metadata": {
        "colab": {
          "base_uri": "https://localhost:8080/"
        },
        "id": "5R4HG5emALbH",
        "outputId": "af83f6be-26a6-463b-dc36-289e4b1e4d8b"
      },
      "source": [
        "average_mae_history=[np.mean([x[i] for x in all_mae_history]) for i in range(num_epochs)]\n",
        "print('All fold validation Errors:', all_scores)\n",
        "print('Mean of all fold Validation Errors:', np.mean(all_scores))\n",
        "print('Average_mae_histories: ', all_mae_history)"
      ],
      "execution_count": null,
      "outputs": [
        {
          "output_type": "stream",
          "text": [
            "All fold validation Errors: [5.510146617889404, 4.820169925689697, 5.667217254638672, 5.436256408691406]\n",
            "Mean of all fold Validation Errors: 5.358447551727295\n",
            "Average_mae_histories:  [[35.15935134887695, 28.340986251831055, 14.718647956848145, 10.889187812805176, 9.924062728881836, 9.469943046569824, 9.088001251220703, 8.840189933776855, 8.667064666748047, 8.506978034973145, 8.437639236450195, 8.317161560058594, 8.293318748474121, 8.237095832824707, 8.203965187072754, 8.12760066986084, 8.093036651611328, 8.113468170166016, 8.055266380310059, 7.99275541305542, 8.04442310333252, 8.022317886352539, 8.025774955749512, 7.968790531158447, 7.949490547180176, 7.898070335388184, 7.866966247558594, 7.802319049835205, 7.744492530822754, 7.840054988861084, 7.764244079589844, 7.779314994812012, 7.696966171264648, 7.673675537109375, 7.614015102386475, 7.661105632781982, 7.638876914978027, 7.5278239250183105, 7.501359939575195, 7.4952874183654785, 7.4485673904418945, 7.427161693572998, 7.350630283355713, 7.280718803405762, 7.189105033874512, 7.108715057373047, 7.062256336212158, 6.970219612121582, 7.018869400024414, 6.904576301574707, 6.839953422546387, 6.7472028732299805, 6.738631248474121, 6.6386566162109375, 6.629668712615967, 6.55350923538208, 6.468123435974121, 6.403442859649658, 6.352710247039795, 6.332489490509033, 6.202029228210449, 6.173375606536865, 6.140963554382324, 6.0544257164001465, 5.979575157165527, 5.915469646453857, 5.873020172119141, 5.826786994934082, 5.731359481811523, 5.734899520874023, 5.657965660095215, 5.6331706047058105, 5.587478160858154, 5.572592735290527, 5.452615261077881, 5.433515548706055, 5.389515399932861, 5.340863227844238, 5.305584907531738, 5.251121997833252, 5.203960418701172, 5.156180381774902, 5.176947116851807, 5.062819957733154, 5.036078453063965, 4.922350883483887, 4.937861919403076, 4.870666980743408, 4.762018203735352, 4.8080058097839355, 4.786890029907227, 4.678501129150391, 4.690566062927246, 4.700389862060547, 4.594998359680176, 4.610605239868164, 4.614799976348877, 4.563640117645264, 4.5568389892578125, 4.498291969299316, 4.499972343444824, 4.450310707092285, 4.461543083190918, 4.4163737297058105, 4.367883682250977, 4.401105880737305, 4.366754531860352, 4.363877773284912, 4.31808614730835, 4.295350074768066, 4.248825550079346, 4.322038173675537, 4.242164611816406, 4.262994766235352, 4.223340034484863, 4.250021457672119, 4.237713813781738, 4.193663597106934, 4.258111476898193, 4.195333480834961, 4.14518928527832, 4.1468329429626465, 4.128805637359619, 4.177742958068848, 4.129417419433594, 4.126484394073486, 4.1328606605529785, 4.1144280433654785, 4.1352691650390625, 4.072404384613037, 4.089877605438232, 4.162776947021484, 4.1149702072143555, 4.0661301612854, 4.079105854034424, 4.054178714752197, 4.068203926086426, 4.07354211807251, 4.0445556640625, 4.0360918045043945, 4.073453903198242, 4.048236846923828, 4.0130438804626465, 4.0539445877075195, 4.047945976257324, 4.022744655609131, 4.018161773681641, 4.043352127075195, 4.054925441741943, 4.024825572967529, 4.05318546295166, 4.0061421394348145, 3.983293294906616, 4.036542892456055, 4.058566093444824, 4.023397922515869, 4.052199363708496, 4.015231132507324, 3.986161708831787, 4.011416435241699, 4.028165340423584, 3.9051663875579834, 3.970792055130005, 4.009479999542236, 3.974228858947754, 3.994203805923462, 3.9715709686279297, 3.974331855773926, 3.9922971725463867, 3.999539613723755, 3.923602819442749, 3.9581034183502197, 3.9784841537475586, 3.959602117538452, 3.9833903312683105, 3.9904496669769287, 3.871047258377075, 3.8920302391052246, 3.9270434379577637, 3.931718349456787, 3.930320978164673, 3.9604547023773193, 3.924652099609375, 3.8753433227539062, 3.969752788543701, 3.9505021572113037, 3.930577516555786, 3.9337141513824463, 3.947432041168213, 3.971113443374634, 3.934295415878296, 3.8847458362579346, 3.987605333328247, 3.9222490787506104, 3.8925347328186035, 3.9980995655059814, 3.902238130569458, 3.921236038208008, 3.9547951221466064, 3.914562940597534, 3.8816170692443848, 3.9368529319763184, 3.9624311923980713, 3.9490883350372314, 3.9196510314941406, 3.8798940181732178, 3.900404691696167, 3.8383982181549072, 3.861687421798706, 3.9147889614105225, 3.8940157890319824, 3.902749538421631, 3.9256792068481445, 3.9383385181427, 3.9319570064544678, 3.896111249923706, 3.905473470687866, 3.913723945617676, 3.9025251865386963, 3.9020802974700928, 3.905683994293213, 3.894986152648926, 3.8498101234436035, 3.886854648590088, 3.8296303749084473, 3.901867628097534, 3.915992498397827, 3.9052956104278564, 3.862051486968994, 3.8999037742614746, 3.9000675678253174, 3.858804941177368, 3.8563239574432373, 3.7771828174591064, 3.8950862884521484, 3.886524200439453, 3.8266701698303223, 3.8255319595336914, 3.8231613636016846, 3.8390986919403076, 3.8544650077819824, 3.787260055541992, 3.8231441974639893, 3.7971677780151367, 3.8349099159240723, 3.8403213024139404, 3.817681074142456, 3.830488681793213, 3.824587345123291, 3.832584857940674, 3.8381903171539307, 3.865278959274292, 3.823103666305542, 3.8082423210144043, 3.811267614364624, 3.85418438911438, 3.7716734409332275, 3.8140037059783936, 3.82026743888855, 3.7947888374328613, 3.840552806854248, 3.8242764472961426, 3.8165135383605957, 3.8513829708099365, 3.823962926864624, 3.8095526695251465, 3.852111339569092, 3.818776845932007, 3.7781448364257812, 3.797060489654541, 3.8420486450195312, 3.8190174102783203, 3.79172420501709, 3.8028042316436768, 3.8297924995422363, 3.8325555324554443, 3.822357177734375, 3.828401565551758, 3.89385986328125, 3.837535858154297, 3.79441237449646, 3.8242335319519043, 3.763251543045044, 3.817608118057251, 3.7782623767852783, 3.8245694637298584, 3.822467803955078, 3.8210806846618652, 3.8186869621276855, 3.833205461502075, 3.7440452575683594, 3.813441753387451, 3.796487331390381, 3.7422447204589844, 3.7516067028045654, 3.8331761360168457, 3.7512500286102295, 3.821558952331543, 3.7886505126953125, 3.809321165084839, 3.750800132751465, 3.81363582611084, 3.749732732772827, 3.8103387355804443, 3.7983877658843994, 3.7841901779174805, 3.7810111045837402, 3.8054637908935547, 3.7819902896881104, 3.8035824298858643, 3.831859827041626, 3.761859655380249, 3.754650592803955, 3.758540153503418, 3.7435786724090576, 3.7637224197387695, 3.7420897483825684, 3.7539010047912598, 3.779991388320923, 3.751188039779663, 3.7234880924224854, 3.7817819118499756, 3.7398080825805664, 3.743104934692383, 3.7178397178649902, 3.829806089401245, 3.7421698570251465, 3.8121745586395264, 3.7912158966064453, 3.7787868976593018, 3.7865231037139893, 3.7447426319122314, 3.783473253250122, 3.8098628520965576, 3.788057565689087, 3.7380430698394775, 3.7740554809570312, 3.8225982189178467, 3.791869878768921, 3.7819983959198, 3.8079686164855957, 3.814791679382324, 3.740036964416504, 3.8232123851776123, 3.8223071098327637, 3.80027174949646, 3.784513473510742, 3.793436288833618, 3.8346810340881348, 3.755162239074707, 3.7971701622009277, 3.799386739730835, 3.7568483352661133, 3.8108839988708496, 3.7772114276885986, 3.7831876277923584, 3.825333833694458, 3.7900538444519043, 3.7939696311950684, 3.7915897369384766, 3.7975668907165527, 3.8244850635528564, 3.762273073196411, 3.7898929119110107, 3.831583023071289, 3.788602590560913, 3.8129477500915527, 3.793447971343994, 3.8039727210998535, 3.785844087600708, 3.853727340698242, 3.767043352127075, 3.827298641204834, 3.725031852722168, 3.7836153507232666, 3.7585325241088867, 3.8142030239105225, 3.788184881210327, 3.8177719116210938, 3.817885160446167, 3.8241307735443115, 3.766193151473999, 3.823989152908325, 3.808265209197998, 3.785492420196533, 3.804351806640625, 3.7865898609161377, 3.810499906539917, 3.8479225635528564, 3.8285577297210693, 3.772313117980957, 3.7850735187530518, 3.8079850673675537, 3.8141024112701416, 3.812581777572632, 3.750728130340576, 3.804558038711548, 3.7613675594329834, 3.7522034645080566, 3.7605700492858887, 3.815443754196167, 3.8223774433135986, 3.852287769317627, 3.8087196350097656, 3.74420428276062, 3.755197525024414, 3.7652833461761475, 3.7783727645874023, 3.854854106903076, 3.7727627754211426, 3.793672800064087, 3.812086582183838, 3.759112596511841, 3.7608158588409424, 3.762763023376465, 3.731157064437866, 3.7745087146759033, 3.7473561763763428, 3.7379064559936523, 3.791529655456543, 3.6863489151000977, 3.7376549243927, 3.8035452365875244, 3.7702152729034424, 3.799166202545166, 3.771559953689575, 3.7313342094421387, 3.7502689361572266, 3.681748867034912, 3.771592140197754, 3.70937180519104, 3.724904775619507, 3.757974863052368, 3.754770517349243, 3.743342399597168, 3.723839282989502, 3.7353782653808594, 3.762906074523926, 3.7621030807495117, 3.674038887023926, 3.710212230682373, 3.726994752883911, 3.743696928024292, 3.6924915313720703, 3.742227554321289, 3.660829544067383, 3.7263596057891846, 3.709642171859741, 3.7189910411834717, 3.7513132095336914, 3.716306447982788, 3.7097816467285156, 3.7288148403167725, 3.696948289871216, 3.752786636352539, 3.6936514377593994, 3.740175247192383, 3.662534475326538, 3.691777467727661, 3.703430652618408, 3.705437183380127, 3.6665515899658203, 3.79971981048584, 3.6507720947265625, 3.7112910747528076, 3.6827681064605713, 3.699568510055542, 3.728471040725708, 3.6881654262542725, 3.746259927749634, 3.7826454639434814, 3.762108564376831, 3.7628419399261475, 3.7260804176330566, 3.6836366653442383, 3.737037420272827, 3.746384382247925, 3.744011640548706, 3.743919610977173, 3.714564085006714, 3.739873170852661, 3.713474988937378, 3.6593265533447266, 3.713440418243408, 3.701702833175659, 3.740133285522461, 3.791193962097168, 3.7451188564300537, 3.7408525943756104, 3.6926920413970947, 3.7464699745178223, 3.7991178035736084, 3.6839208602905273, 3.6680338382720947, 3.6778266429901123, 3.7730631828308105, 3.746427536010742, 3.7677817344665527, 3.7136807441711426, 3.717978000640869], [31.481306076049805, 14.297730445861816, 11.209260940551758, 10.441988945007324, 10.119124412536621, 9.820895195007324, 9.657740592956543, 9.484010696411133, 9.348149299621582, 9.11256217956543, 9.046957015991211, 8.974849700927734, 8.882925033569336, 8.805807113647461, 8.726491928100586, 8.609962463378906, 8.588202476501465, 8.687007904052734, 8.502645492553711, 8.543194770812988, 8.431002616882324, 8.393181800842285, 8.404118537902832, 8.286727905273438, 8.255725860595703, 8.180334091186523, 8.095239639282227, 8.073562622070312, 7.967227458953857, 7.906729221343994, 7.8335347175598145, 7.758735656738281, 7.6961798667907715, 7.5026373863220215, 7.58444356918335, 7.522970676422119, 7.415507793426514, 7.34672212600708, 7.264471530914307, 7.252542018890381, 7.201323986053467, 7.151064395904541, 7.063576698303223, 7.0725884437561035, 6.940859317779541, 7.0204854011535645, 6.87490701675415, 6.830983638763428, 6.802291393280029, 6.782915115356445, 6.714249134063721, 6.701751232147217, 6.68393087387085, 6.638809680938721, 6.607738494873047, 6.57588005065918, 6.512197017669678, 6.557215690612793, 6.478907108306885, 6.5378546714782715, 6.441915512084961, 6.436576843261719, 6.440572261810303, 6.414017677307129, 6.322433948516846, 6.320775985717773, 6.38494873046875, 6.238386631011963, 6.262906551361084, 6.154714584350586, 6.187251091003418, 6.143120765686035, 6.080409049987793, 6.098712921142578, 6.073338508605957, 6.016624450683594, 5.954936981201172, 5.941140651702881, 5.850694179534912, 5.85423469543457, 5.8692626953125, 5.776730060577393, 5.746464729309082, 5.760544776916504, 5.711520671844482, 5.641595363616943, 5.537266254425049, 5.338950157165527, 5.130712032318115, 4.953752040863037, 4.872736930847168, 4.692166805267334, 4.786684989929199, 4.739439010620117, 4.735109329223633, 4.647831439971924, 4.6769490242004395, 4.684976100921631, 4.66096305847168, 4.5614166259765625, 4.600156307220459, 4.520869255065918, 4.516502857208252, 4.56707763671875, 4.502374172210693, 4.519412517547607, 4.525224208831787, 4.4269490242004395, 4.498028755187988, 4.428399085998535, 4.516796588897705, 4.376048564910889, 4.471138954162598, 4.393214702606201, 4.4249444007873535, 4.406131744384766, 4.338747501373291, 4.425355434417725, 4.388556957244873, 4.3881096839904785, 4.385453701019287, 4.426443576812744, 4.421258449554443, 4.377023696899414, 4.392492294311523, 4.333263397216797, 4.257787704467773, 4.353915691375732, 4.331099033355713, 4.301888465881348, 4.318974494934082, 4.277648448944092, 4.30885648727417, 4.341899871826172, 4.304129600524902, 4.307849407196045, 4.286386966705322, 4.28076696395874, 4.301908493041992, 4.224776268005371, 4.234249591827393, 4.174308776855469, 4.264616966247559, 4.245350360870361, 4.254761219024658, 4.256507873535156, 4.27707052230835, 4.208887577056885, 4.288358688354492, 4.198126792907715, 4.20103645324707, 4.178465843200684, 4.27678108215332, 4.194396018981934, 4.2061309814453125, 4.206277370452881, 4.15847635269165, 4.213233470916748, 4.1778669357299805, 4.272274971008301, 4.099723815917969, 4.123868465423584, 4.163351535797119, 4.157639980316162, 4.226852893829346, 4.162999629974365, 4.2093825340271, 4.196145534515381, 4.130156517028809, 4.18582820892334, 4.138278961181641, 4.106868267059326, 4.2019219398498535, 4.188497543334961, 4.1717729568481445, 4.124507427215576, 4.209081172943115, 4.159733772277832, 4.1471357345581055, 4.093459606170654, 4.1179914474487305, 4.146365642547607, 4.174043655395508, 4.129030704498291, 4.1708855628967285, 4.077765464782715, 4.166903018951416, 4.1308465003967285, 4.095328330993652, 4.070443153381348, 4.088332653045654, 4.130959510803223, 4.061233043670654, 4.143777370452881, 4.061888217926025, 4.059385299682617, 4.09326696395874, 4.0245041847229, 4.1814093589782715, 4.075840473175049, 4.132237434387207, 4.058142185211182, 4.086540222167969, 4.043466567993164, 4.076792240142822, 4.150628566741943, 4.076078414916992, 4.1085357666015625, 4.126899719238281, 4.079719066619873, 4.130331039428711, 4.0543212890625, 4.123481273651123, 4.119689464569092, 4.109288692474365, 4.133606910705566, 4.129520893096924, 4.060111045837402, 4.068188667297363, 4.076107501983643, 4.079547882080078, 4.061361312866211, 4.043587684631348, 3.994966983795166, 4.1200852394104, 4.080678462982178, 4.103912353515625, 4.0819315910339355, 4.085820198059082, 4.03481388092041, 4.084631443023682, 4.089823246002197, 4.095435619354248, 4.0440993309021, 4.024678707122803, 4.041291236877441, 4.085665702819824, 4.089199542999268, 4.089908123016357, 4.010439395904541, 4.093069553375244, 3.9917542934417725, 3.994384765625, 4.093349933624268, 4.017469882965088, 4.060492515563965, 4.073040008544922, 4.069634437561035, 4.037734508514404, 4.069852352142334, 4.023514270782471, 4.020597457885742, 4.070079803466797, 4.005451202392578, 4.020754814147949, 4.025485992431641, 4.056924819946289, 4.035802364349365, 3.973600387573242, 4.093935489654541, 4.0834479331970215, 4.065965175628662, 4.018950462341309, 4.062942028045654, 4.084779262542725, 4.023338794708252, 4.050774574279785, 3.9977846145629883, 4.020880699157715, 4.069404125213623, 3.9950692653656006, 4.030043125152588, 4.0381951332092285, 3.932541847229004, 4.0141472816467285, 3.9804019927978516, 4.0269365310668945, 3.9963910579681396, 4.006656169891357, 3.9846014976501465, 4.001885890960693, 4.033695697784424, 4.009396553039551, 3.981168746948242, 4.0344953536987305, 3.9626777172088623, 3.9826998710632324, 3.9844493865966797, 4.0038838386535645, 3.949939012527466, 3.9944655895233154, 4.022363185882568, 3.9995861053466797, 3.8931493759155273, 3.9873147010803223, 3.986595630645752, 3.975565195083618, 3.924006938934326, 3.9493865966796875, 3.9759387969970703, 3.932432174682617, 3.9389283657073975, 3.9541637897491455, 3.96317458152771, 3.932785987854004, 3.9099888801574707, 4.0377583503723145, 3.9713990688323975, 3.953026533126831, 3.9041755199432373, 3.942993402481079, 3.9713714122772217, 3.8959596157073975, 3.9236066341400146, 3.951939582824707, 3.952681303024292, 3.936293363571167, 3.8827478885650635, 3.853087902069092, 3.9321768283843994, 3.9645440578460693, 3.919377565383911, 3.8909223079681396, 3.853053092956543, 3.8813233375549316, 3.93039870262146, 3.886363983154297, 3.8808741569519043, 3.901481866836548, 3.8663125038146973, 3.887295961380005, 3.9223577976226807, 3.851996660232544, 3.97564959526062, 3.9164681434631348, 3.9013075828552246, 3.8575451374053955, 3.9292736053466797, 3.9178202152252197, 3.8836116790771484, 3.9474077224731445, 3.8995981216430664, 3.931967258453369, 3.8229849338531494, 3.9558494091033936, 3.8471932411193848, 3.912463665008545, 3.8786635398864746, 3.868084192276001, 3.901491403579712, 3.866647720336914, 3.946160078048706, 3.859743595123291, 3.8577306270599365, 3.9360270500183105, 3.871980905532837, 3.9412572383880615, 3.8369786739349365, 3.9065117835998535, 3.8284761905670166, 3.8656933307647705, 3.891528367996216, 3.949606418609619, 3.8814799785614014, 3.8846473693847656, 3.894826889038086, 3.8618648052215576, 3.870473623275757, 3.82499361038208, 3.8516697883605957, 3.821753978729248, 3.89746356010437, 3.855238199234009, 3.8851001262664795, 3.8889012336730957, 3.8818466663360596, 3.8377203941345215, 3.8262245655059814, 3.8589837551116943, 3.8792293071746826, 3.7654478549957275, 3.891688585281372, 3.8677163124084473, 3.89497971534729, 3.8532516956329346, 3.8806982040405273, 3.867546796798706, 3.8320930004119873, 3.8717761039733887, 3.828253984451294, 3.8638134002685547, 3.8606183528900146, 3.830089807510376, 3.853081464767456, 3.8478543758392334, 3.83005428314209, 3.8192408084869385, 3.8729639053344727, 3.882042169570923, 3.8388009071350098, 3.866098642349243, 3.8461484909057617, 3.787160873413086, 3.851404905319214, 3.803454637527466, 3.8471860885620117, 3.8151941299438477, 3.8080689907073975, 3.8874011039733887, 3.8503549098968506, 3.8344039916992188, 3.8498141765594482, 3.7927443981170654, 3.8601431846618652, 3.8682985305786133, 3.7846930027008057, 3.8597328662872314, 3.813124179840088, 3.8872218132019043, 3.8787546157836914, 3.8745102882385254, 3.8900249004364014, 3.8681952953338623, 3.901439905166626, 3.8476481437683105, 3.880183696746826, 3.860944986343384, 3.874999523162842, 3.8188819885253906, 3.9030609130859375, 3.8482396602630615, 3.881788492202759, 3.838911771774292, 3.8491125106811523, 3.809232234954834, 3.7905819416046143, 3.8646111488342285, 3.842111825942993, 3.8294403553009033, 3.8370931148529053, 3.7967238426208496, 3.8338394165039062, 3.872668743133545, 3.8381872177124023, 3.8568437099456787, 3.83225679397583, 3.804733991622925, 3.80666184425354, 3.8110411167144775, 3.809174060821533, 3.814774513244629, 3.873528003692627, 3.8211519718170166, 3.7846946716308594, 3.7740800380706787, 3.8481318950653076, 3.855863094329834, 3.7796761989593506, 3.8292460441589355, 3.7868213653564453, 3.8199524879455566, 3.812182664871216, 3.791362762451172, 3.782963275909424, 3.7566282749176025, 3.758878231048584, 3.834197759628296, 3.8565216064453125, 3.850207805633545, 3.8131439685821533, 3.809969663619995, 3.811211109161377, 3.8372082710266113, 3.7790021896362305, 3.8141729831695557, 3.844651699066162, 3.8257229328155518, 3.801607608795166, 3.8157811164855957, 3.8134355545043945, 3.8229434490203857, 3.8314075469970703, 3.7921392917633057, 3.8107802867889404, 3.8357696533203125, 3.8591277599334717, 3.7840967178344727, 3.7731587886810303, 3.784395217895508, 3.7274577617645264, 3.800748825073242, 3.8138489723205566, 3.8203396797180176, 3.741076946258545, 3.772231101989746, 3.7388246059417725, 3.7411997318267822, 3.8141028881073, 3.7721946239471436, 3.793102264404297], [31.1884708404541, 13.582447052001953, 11.674947738647461, 10.967971801757812, 10.599186897277832, 10.266231536865234, 10.089996337890625, 9.999637603759766, 9.839004516601562, 9.756612777709961, 9.66622257232666, 9.590706825256348, 9.426368713378906, 9.377202033996582, 9.244486808776855, 9.197136878967285, 9.182846069335938, 8.921982765197754, 9.05318546295166, 9.040514945983887, 8.815549850463867, 8.908675193786621, 8.823322296142578, 8.843433380126953, 8.807250022888184, 8.769508361816406, 8.668152809143066, 8.637975692749023, 8.550542831420898, 8.62016773223877, 8.497339248657227, 8.495219230651855, 8.41224193572998, 8.372952461242676, 8.310120582580566, 8.21960735321045, 8.208711624145508, 8.017207145690918, 8.046573638916016, 7.980716228485107, 7.9036173820495605, 7.811626434326172, 7.790481090545654, 7.724879264831543, 7.702714443206787, 7.578201770782471, 7.537909984588623, 7.477084159851074, 7.403616905212402, 7.312575817108154, 7.263251304626465, 7.198174953460693, 7.151066303253174, 7.065334320068359, 7.104264736175537, 6.961859226226807, 6.8877363204956055, 6.898281097412109, 6.788490295410156, 6.73411226272583, 6.621359348297119, 6.605106830596924, 6.553667068481445, 6.471629619598389, 6.376882076263428, 6.3194732666015625, 6.1316022872924805, 6.181695461273193, 6.0586652755737305, 6.032228946685791, 5.903619289398193, 5.886635780334473, 5.812504291534424, 5.7050323486328125, 5.626792907714844, 5.603000640869141, 5.5553765296936035, 5.398184776306152, 5.416095733642578, 5.344624042510986, 5.382495880126953, 5.245994567871094, 5.163221836090088, 5.106801986694336, 5.135039329528809, 5.054636478424072, 5.083860397338867, 4.924552917480469, 4.988270282745361, 4.926770210266113, 4.8890700340271, 4.922182559967041, 4.83812141418457, 4.865306854248047, 4.847925186157227, 4.7920355796813965, 4.806861400604248, 4.791999340057373, 4.841467380523682, 4.810914993286133, 4.732291221618652, 4.810909748077393, 4.756301403045654, 4.763626575469971, 4.741060733795166, 4.706211090087891, 4.690985202789307, 4.717557907104492, 4.659839153289795, 4.646841526031494, 4.70168399810791, 4.675686359405518, 4.658044815063477, 4.659453392028809, 4.6125688552856445, 4.729554653167725, 4.64154052734375, 4.709605693817139, 4.669933319091797, 4.613955974578857, 4.5557684898376465, 4.615392208099365, 4.604030132293701, 4.644981861114502, 4.653675556182861, 4.628150463104248, 4.565979480743408, 4.56406307220459, 4.602932453155518, 4.569714546203613, 4.632378578186035, 4.63869571685791, 4.615663528442383, 4.494901657104492, 4.554241180419922, 4.537353038787842, 4.510284900665283, 4.573320388793945, 4.5196967124938965, 4.600314617156982, 4.5871758460998535, 4.547874927520752, 4.547301292419434, 4.585008144378662, 4.449204444885254, 4.446199417114258, 4.561193466186523, 4.499758243560791, 4.525787353515625, 4.544113636016846, 4.533268451690674, 4.503054618835449, 4.483338356018066, 4.4705681800842285, 4.496426105499268, 4.559789657592773, 4.491987705230713, 4.538376331329346, 4.468099117279053, 4.432376861572266, 4.484328746795654, 4.419849872589111, 4.490708827972412, 4.492824554443359, 4.5392937660217285, 4.460106372833252, 4.390962600708008, 4.500067234039307, 4.476269245147705, 4.3765645027160645, 4.453248977661133, 4.408220291137695, 4.386618614196777, 4.4497971534729, 4.333507061004639, 4.381394863128662, 4.367647647857666, 4.384352207183838, 4.464864730834961, 4.338249683380127, 4.410218715667725, 4.327885150909424, 4.335334300994873, 4.356921195983887, 4.345412254333496, 4.317490577697754, 4.383591175079346, 4.326401710510254, 4.304059028625488, 4.284023761749268, 4.320523262023926, 4.258003234863281, 4.3606486320495605, 4.287370204925537, 4.350143909454346, 4.289083480834961, 4.304134845733643, 4.272204399108887, 4.365228176116943, 4.271323204040527, 4.2478203773498535, 4.234432220458984, 4.263978481292725, 4.325794696807861, 4.262112617492676, 4.379558563232422, 4.281161785125732, 4.16901969909668, 4.258962631225586, 4.2500104904174805, 4.271985054016113, 4.2417097091674805, 4.244460105895996, 4.191206932067871, 4.21708869934082, 4.205967903137207, 4.222211837768555, 4.2143025398254395, 4.214005470275879, 4.2353129386901855, 4.267178535461426, 4.156784534454346, 4.196060657501221, 4.182855606079102, 4.237902641296387, 4.235774040222168, 4.228398323059082, 4.236868858337402, 4.1756792068481445, 4.220815658569336, 4.117846965789795, 4.153903484344482, 4.168961048126221, 4.130451202392578, 4.192081451416016, 4.130456924438477, 4.149643421173096, 4.163450717926025, 4.204710483551025, 4.149898529052734, 4.185348033905029, 4.175922870635986, 4.170644283294678, 4.118149757385254, 4.136395454406738, 4.077504634857178, 4.170088768005371, 4.151363372802734, 4.113651752471924, 4.131313800811768, 4.054864883422852, 4.0961503982543945, 4.0878520011901855, 4.079495906829834, 4.103917121887207, 4.115116119384766, 4.134620666503906, 4.127966403961182, 4.166652202606201, 4.064115047454834, 4.1156005859375, 4.117254734039307, 4.119843482971191, 4.154032230377197, 3.9972472190856934, 4.102997779846191, 4.126681804656982, 4.107560157775879, 4.027343273162842, 4.120145320892334, 4.118693828582764, 4.097660541534424, 4.077551364898682, 4.077967166900635, 4.0219550132751465, 4.08505392074585, 4.086565017700195, 4.064700126647949, 4.089908123016357, 4.050588607788086, 4.025188446044922, 4.0830206871032715, 4.0585551261901855, 4.081601142883301, 4.066614151000977, 4.08557653427124, 4.086193561553955, 4.052014350891113, 4.053713321685791, 3.9816060066223145, 4.004001617431641, 4.06854248046875, 4.021957874298096, 4.048080921173096, 4.001368045806885, 4.031000137329102, 4.050768852233887, 4.003791332244873, 4.0132269859313965, 4.035295486450195, 3.9824323654174805, 4.002285480499268, 3.987144947052002, 3.939286231994629, 3.974738359451294, 3.982969284057617, 3.9822864532470703, 4.017979621887207, 4.008290767669678, 3.965747117996216, 4.000848770141602, 3.9720304012298584, 3.96821928024292, 3.9467520713806152, 3.9284141063690186, 3.9119207859039307, 3.9392590522766113, 3.9576852321624756, 4.013350486755371, 3.9784717559814453, 3.9397573471069336, 4.017447471618652, 3.94466495513916, 3.9336392879486084, 3.9002480506896973, 3.9905765056610107, 3.8789689540863037, 3.972013235092163, 3.9687206745147705, 3.9281725883483887, 3.96280574798584, 3.9442033767700195, 3.9142258167266846, 4.040149688720703, 3.928743362426758, 3.902848243713379, 3.9890480041503906, 3.9802377223968506, 3.9632222652435303, 3.980076551437378, 3.9420218467712402, 3.988013982772827, 3.9714577198028564, 3.9259297847747803, 3.913492441177368, 3.982412815093994, 3.9752655029296875, 3.9592392444610596, 3.9408109188079834, 3.931314468383789, 4.005056858062744, 3.9073235988616943, 3.947089195251465, 3.964437961578369, 3.9807779788970947, 3.9631564617156982, 3.9256250858306885, 3.9881644248962402, 3.881802558898926, 3.9168217182159424, 3.9265570640563965, 3.9492359161376953, 3.9566521644592285, 3.9461216926574707, 3.9263291358947754, 3.9080448150634766, 3.947406530380249, 3.9774248600006104, 3.934385299682617, 3.9790635108947754, 3.922095775604248, 4.013853549957275, 4.026605129241943, 3.943092107772827, 3.954174280166626, 3.874340295791626, 3.855062961578369, 4.037543773651123, 3.923524856567383, 3.9245808124542236, 3.947530508041382, 3.970956325531006, 3.949232339859009, 3.960977554321289, 3.9233546257019043, 3.8829758167266846, 3.937174081802368, 3.912775993347168, 3.9771907329559326, 3.9155197143554688, 3.920553207397461, 3.961195707321167, 3.92213773727417, 3.911278009414673, 3.950129508972168, 3.8867671489715576, 3.970688581466675, 3.8799076080322266, 3.8598809242248535, 3.9186015129089355, 3.939495086669922, 3.870807647705078, 3.9534237384796143, 3.901414155960083, 3.9392459392547607, 3.9336884021759033, 3.9364707469940186, 3.9007210731506348, 3.873582124710083, 3.8899738788604736, 3.9407596588134766, 3.8801462650299072, 3.940624713897705, 3.8854920864105225, 3.9114506244659424, 3.9054300785064697, 3.9325332641601562, 3.8923633098602295, 3.9241385459899902, 3.829925060272217, 3.93942928314209, 3.9893453121185303, 3.9060757160186768, 3.9227712154388428, 3.936102867126465, 3.869252920150757, 3.8668038845062256, 3.8887901306152344, 3.8513667583465576, 3.8658382892608643, 3.924522638320923, 3.8871655464172363, 3.9349989891052246, 3.820685625076294, 3.937145709991455, 3.853029251098633, 3.869962453842163, 3.948258876800537, 3.891846179962158, 3.9273946285247803, 3.894477605819702, 3.8724958896636963, 3.8809664249420166, 3.9037129878997803, 3.812183141708374, 3.9074349403381348, 3.8994975090026855, 3.9158453941345215, 3.8335506916046143, 3.84621262550354, 3.882124185562134, 3.9099607467651367, 3.8920252323150635, 3.9181385040283203, 3.8544507026672363, 3.8711442947387695, 3.869290828704834, 3.810126304626465, 3.8779959678649902, 3.806999444961548, 3.878920793533325, 3.891918897628784, 3.871856927871704, 3.854421854019165, 3.8510100841522217, 3.851773738861084, 3.759345054626465, 3.8508923053741455, 3.9177651405334473, 3.850538492202759, 3.8770856857299805, 3.8706045150756836, 3.851268768310547, 3.855945348739624, 3.8234550952911377, 3.854965925216675, 3.8450496196746826, 3.8733294010162354, 3.869072437286377, 3.9481072425842285, 3.7432661056518555, 3.8187005519866943, 3.8138880729675293, 3.8039257526397705, 3.8577256202697754, 3.7870566844940186, 3.7957522869110107, 3.8798177242279053, 3.731700897216797, 3.8157031536102295, 3.7919633388519287, 3.828620433807373, 3.8604373931884766, 3.867729425430298, 3.7949304580688477, 3.8047285079956055, 3.770036220550537, 3.852447986602783, 3.7875070571899414, 3.798128604888916], [31.854616165161133, 17.832029342651367, 12.501378059387207, 10.887009620666504, 10.495101928710938, 10.28116512298584, 10.15825080871582, 10.032343864440918, 9.903014183044434, 9.768179893493652, 9.751240730285645, 9.595032691955566, 9.496149063110352, 9.468605995178223, 9.359795570373535, 9.349677085876465, 9.298942565917969, 9.179039001464844, 9.112072944641113, 9.106647491455078, 9.03426456451416, 8.968132972717285, 8.900388717651367, 8.875958442687988, 8.821083068847656, 8.77153205871582, 8.696029663085938, 8.648523330688477, 8.574675559997559, 8.574028968811035, 8.474839210510254, 8.409727096557617, 8.359957695007324, 8.300982475280762, 8.276307106018066, 8.175113677978516, 8.03133487701416, 8.092981338500977, 8.005768775939941, 7.893265724182129, 7.9108991622924805, 7.78839111328125, 7.795137405395508, 7.6386871337890625, 7.6503167152404785, 7.5081586837768555, 7.516054630279541, 7.407686710357666, 7.328941345214844, 7.290042400360107, 7.240140914916992, 7.107490539550781, 7.014726161956787, 7.008556365966797, 6.9264702796936035, 6.831815719604492, 6.82021427154541, 6.796432018280029, 6.665380001068115, 6.672677040100098, 6.613177299499512, 6.507099151611328, 6.518032073974609, 6.449133396148682, 6.286413669586182, 6.329029083251953, 6.2366437911987305, 6.270602226257324, 6.240279674530029, 6.120523929595947, 6.167989730834961, 6.175282001495361, 6.051419734954834, 6.0459699630737305, 6.047359943389893, 5.977869033813477, 5.941078186035156, 5.900786399841309, 5.855931282043457, 5.829721450805664, 5.739028453826904, 5.706109046936035, 5.654433250427246, 5.526548385620117, 5.467918872833252, 5.440334320068359, 5.448581695556641, 5.266523361206055, 5.289426803588867, 5.182417392730713, 5.18359899520874, 5.224697589874268, 5.106870174407959, 5.088820934295654, 5.106710433959961, 5.019627571105957, 4.985550403594971, 4.995567321777344, 4.849888801574707, 4.8729329109191895, 4.934563636779785, 4.825718402862549, 4.920433044433594, 4.881646156311035, 4.846624374389648, 4.782711029052734, 4.777574062347412, 4.811069965362549, 4.765908718109131, 4.736342906951904, 4.674028396606445, 4.682798385620117, 4.761075019836426, 4.652789115905762, 4.735201358795166, 4.660998821258545, 4.632984161376953, 4.6088104248046875, 4.582886219024658, 4.5813517570495605, 4.555991172790527, 4.639785289764404, 4.584592819213867, 4.594568729400635, 4.573177337646484, 4.606840133666992, 4.520062446594238, 4.537989616394043, 4.4960222244262695, 4.485467433929443, 4.473057746887207, 4.4630513191223145, 4.464162349700928, 4.491288661956787, 4.384740352630615, 4.435652256011963, 4.445382595062256, 4.455015182495117, 4.401113986968994, 4.530704975128174, 4.372402667999268, 4.384228706359863, 4.2938408851623535, 4.424724578857422, 4.361858367919922, 4.355723857879639, 4.395709991455078, 4.41048002243042, 4.283562660217285, 4.366238594055176, 4.30275297164917, 4.303661346435547, 4.335695266723633, 4.270059108734131, 4.335503578186035, 4.350615501403809, 4.2588605880737305, 4.266816139221191, 4.2277936935424805, 4.311224460601807, 4.2730793952941895, 4.293124675750732, 4.299622535705566, 4.189248561859131, 4.196581840515137, 4.263343334197998, 4.245090007781982, 4.209329128265381, 4.170989990234375, 4.2633056640625, 4.213375091552734, 4.154837131500244, 4.1760573387146, 4.204797267913818, 4.248166084289551, 4.202576160430908, 4.180121898651123, 4.213734149932861, 4.256800651550293, 4.214256286621094, 4.164992809295654, 4.138162612915039, 4.1799116134643555, 4.133111000061035, 4.132130146026611, 4.139192581176758, 4.219175815582275, 4.215714454650879, 4.2039995193481445, 4.228503227233887, 4.193857669830322, 4.220130920410156, 4.1093430519104, 4.1561808586120605, 4.113525867462158, 4.152278423309326, 4.150125503540039, 4.093247413635254, 4.146427154541016, 4.1419525146484375, 4.144279956817627, 4.118892669677734, 4.028652191162109, 4.144193649291992, 4.116844177246094, 4.1100897789001465, 4.076414108276367, 4.0673699378967285, 4.12567663192749, 4.147670745849609, 4.059106349945068, 4.103269577026367, 4.090041637420654, 4.087974548339844, 4.114373683929443, 4.1347174644470215, 4.134208679199219, 4.066042900085449, 4.095560073852539, 4.029531002044678, 4.137443542480469, 4.098760604858398, 4.118640422821045, 4.072509765625, 4.095621109008789, 4.079543590545654, 4.041511535644531, 4.047253608703613, 4.026655197143555, 4.060127258300781, 4.020537853240967, 4.116893768310547, 4.078019618988037, 4.056369304656982, 4.0547027587890625, 4.085423469543457, 3.971663475036621, 4.02760648727417, 4.035690784454346, 4.071261405944824, 3.9844305515289307, 3.9815125465393066, 4.084614276885986, 4.018033981323242, 4.068225383758545, 4.033569812774658, 4.028140068054199, 4.014097690582275, 3.9629194736480713, 3.9872689247131348, 3.9800937175750732, 3.9856255054473877, 4.014011383056641, 3.9868431091308594, 4.046599388122559, 3.998502731323242, 4.029343605041504, 4.022947311401367, 3.978576183319092, 4.018404483795166, 4.033024311065674, 4.038146495819092, 4.027286529541016, 4.042907238006592, 3.955629587173462, 3.9572339057922363, 3.9664900302886963, 3.948244333267212, 3.916233539581299, 3.9634153842926025, 3.920639753341675, 3.973323345184326, 3.9823343753814697, 3.9704296588897705, 3.8645660877227783, 3.9956717491149902, 3.984076738357544, 3.9347007274627686, 3.871903419494629, 3.966331958770752, 3.9734463691711426, 3.9735448360443115, 4.001165866851807, 3.9331510066986084, 3.9594619274139404, 3.9231953620910645, 3.94992733001709, 3.9590489864349365, 3.9115052223205566, 3.953232765197754, 3.93241810798645, 3.938282012939453, 3.923827648162842, 3.934252977371216, 3.979654312133789, 3.9524192810058594, 3.971266746520996, 3.964423179626465, 3.9244937896728516, 3.935731887817383, 3.9521877765655518, 3.9418041706085205, 3.9207170009613037, 3.914240837097168, 3.952731132507324, 3.8633196353912354, 3.8914504051208496, 3.9250426292419434, 3.892333507537842, 3.8487586975097656, 3.9575917720794678, 3.9482548236846924, 3.9653117656707764, 3.9296631813049316, 3.95780611038208, 3.994450569152832, 3.924877882003784, 3.9370930194854736, 3.9540226459503174, 3.916999340057373, 3.837632417678833, 3.960021495819092, 3.9355666637420654, 3.9106087684631348, 3.923727512359619, 3.879343032836914, 3.870177745819092, 3.939059257507324, 3.8702030181884766, 3.948050022125244, 3.9720911979675293, 3.9349124431610107, 3.9376285076141357, 3.9833171367645264, 3.8897171020507812, 3.878591775894165, 3.93064284324646, 3.998417854309082, 3.933838367462158, 3.889683246612549, 3.888406991958618, 3.8943989276885986, 3.9284353256225586, 3.8988358974456787, 3.862252712249756, 3.9258551597595215, 3.9312191009521484, 3.9025392532348633, 3.9908342361450195, 3.9304001331329346, 3.9104275703430176, 3.8662989139556885, 3.870896577835083, 3.9153220653533936, 3.9138193130493164, 3.913961887359619, 3.964054822921753, 3.9006288051605225, 3.939089059829712, 3.873975992202759, 3.9182233810424805, 3.9675445556640625, 3.9245078563690186, 3.9106273651123047, 3.954678773880005, 3.955833673477173, 3.9324827194213867, 3.893721103668213, 3.954741954803467, 3.9244320392608643, 3.9246349334716797, 3.856877088546753, 3.868879795074463, 3.881256580352783, 3.9233551025390625, 3.88849139213562, 3.923372268676758, 3.8927276134490967, 3.918131113052368, 3.894101142883301, 3.805975914001465, 3.824033737182617, 3.8941431045532227, 3.9317755699157715, 3.872762680053711, 3.796438694000244, 3.896188259124756, 3.848708152770996, 3.883344888687134, 3.819476842880249, 3.8811960220336914, 3.876987934112549, 3.8799126148223877, 3.8555378913879395, 3.8850173950195312, 3.86694598197937, 3.9067649841308594, 3.937735080718994, 3.8622522354125977, 3.9291162490844727, 3.853635549545288, 3.9095051288604736, 3.88187837600708, 3.8985278606414795, 3.834104299545288, 3.934807777404785, 3.847618818283081, 3.8567955493927, 3.9102163314819336, 3.9313535690307617, 3.911957263946533, 3.93969988822937, 3.9190783500671387, 3.8828887939453125, 3.9292330741882324, 3.8331711292266846, 3.9437243938446045, 3.906982898712158, 3.8478219509124756, 3.8624730110168457, 3.8114142417907715, 3.9156219959259033, 3.883204698562622, 3.9585061073303223, 3.7742178440093994, 3.8483033180236816, 3.8574066162109375, 3.8177926540374756, 3.826416015625, 3.861154794692993, 3.890354633331299, 3.849544048309326, 3.8600590229034424, 3.8367578983306885, 3.88618803024292, 3.854116201400757, 3.987133741378784, 3.8277060985565186, 3.875398874282837, 3.9321465492248535, 3.805290460586548, 3.90962290763855, 3.8994827270507812, 3.921086072921753, 3.8494839668273926, 3.8831541538238525, 3.8017351627349854, 3.921396255493164, 3.819467306137085, 3.808655023574829, 3.8714494705200195, 3.8165791034698486, 3.8685078620910645, 3.8173933029174805, 3.838677167892456, 3.8697619438171387, 3.951664686203003, 3.7692606449127197, 3.8461008071899414, 3.816168785095215, 3.89422607421875, 3.8076045513153076, 3.9116156101226807, 3.800422430038452, 3.8678693771362305, 3.8162758350372314, 3.7768330574035645, 3.855853796005249, 3.8249738216400146, 3.86258864402771, 3.8489816188812256, 3.861600160598755, 3.889864683151245, 3.8648133277893066, 3.872572660446167, 3.8512110710144043, 3.8429336547851562, 3.815673828125, 3.8420915603637695, 3.818793535232544, 3.836794376373291, 3.83518648147583, 3.8096632957458496, 3.853363513946533, 3.8553857803344727, 3.8598108291625977, 3.806033134460449, 3.7513179779052734, 3.87961745262146, 3.7775793075561523, 3.854848623275757, 3.8671677112579346, 3.74631929397583, 3.833120107650757, 3.7626779079437256, 3.8296828269958496, 3.8200323581695557, 3.8664000034332275, 3.779581069946289, 3.7825822830200195]]\n"
          ],
          "name": "stdout"
        }
      ]
    },
    {
      "cell_type": "code",
      "metadata": {
        "id": "ZdPFBiwyEPja"
      },
      "source": [
        "%matplotlib inline\n",
        "import matplotlib.pyplot as plt"
      ],
      "execution_count": null,
      "outputs": []
    },
    {
      "cell_type": "code",
      "metadata": {
        "colab": {
          "base_uri": "https://localhost:8080/",
          "height": 278
        },
        "id": "YTwtJjVkAP06",
        "outputId": "87698523-f5ef-4e92-fd33-6bcdbd0e2a2b"
      },
      "source": [
        "def smooth_curve(points, factor=0.9):\n",
        "  smoothed_points=[]\n",
        "  for point in points:\n",
        "    if smoothed_points:\n",
        "      previous=smoothed_points[-1]\n",
        "      smoothed_points.append(previous*factor + point*(1-factor))\n",
        "    else:\n",
        "      smoothed_points.append(point)\n",
        "  return smoothed_points\n",
        "smoothed_mae_history= smooth_curve(average_mae_history[10:])\n",
        "plt.plot(range(1,len(smoothed_mae_history)+1),smoothed_mae_history)\n",
        "plt.xlabel('Epochs')\n",
        "plt.ylabel('Validation MAE')\n",
        "plt.show()\n"
      ],
      "execution_count": null,
      "outputs": [
        {
          "output_type": "display_data",
          "data": {
            "image/png": "[encoded data removed]",
            "text/plain": [
              "<Figure size 432x288 with 1 Axes>"
            ]
          },
          "metadata": {
            "tags": [],
            "needs_background": "light"
          }
        }
      ]
    },
    {
      "cell_type": "code",
      "metadata": {
        "colab": {
          "base_uri": "https://localhost:8080/"
        },
        "id": "9vt3aPid3FaI",
        "outputId": "17a17699-d868-4e7d-8f3b-025979efea24"
      },
      "source": [
        "model=build_model()\n",
        "model.fit(train_x,train_label, epochs=500, batch_size=4,verbose=0)\n",
        "test_mse_score,test_mae_score=model.evaluate(test_x,test_label)\n",
        "print(test_mae_score)"
      ],
      "execution_count": null,
      "outputs": [
        {
          "output_type": "stream",
          "text": [
            "10/10 [==============================] - 0s 2ms/step - loss: 38.0560 - mae: 4.6716\n",
            "4.671586036682129\n"
          ],
          "name": "stdout"
        }
      ]
    },
    {
      "cell_type": "code",
      "metadata": {
        "id": "aO59uBGx3Fbm"
      },
      "source": [
        ""
      ],
      "execution_count": null,
      "outputs": []
    }
  ]
}
