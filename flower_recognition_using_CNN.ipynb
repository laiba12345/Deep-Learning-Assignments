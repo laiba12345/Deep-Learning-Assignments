{
  "nbformat": 4,
  "nbformat_minor": 0,
  "metadata": {
    "colab": {
      "name": "flower recognition using CNN",
      "provenance": []
    },
    "kernelspec": {
      "name": "python3",
      "display_name": "Python 3"
    },
    "language_info": {
      "name": "python"
    }
  },
  "cells": [
    {
      "cell_type": "markdown",
      "source": [
        "Assignment: Flowers Recognition\n",
        "Dataset Description:\n",
        "\n",
        "This dataset contains 4242 images of flowers.\n",
        "The data collection is based on the data flicr, google images, yandex images.\n",
        "You can use this datastet to recognize plants from the photo.\n",
        "\n",
        "Attribute Information:\n",
        "The pictures are divided into five classes: chamomile, tulip, rose, sunflower, dandelion.\n",
        "For each class there are about 800 photos. Photos are not high resolution, about 320x240 pixels.\n",
        "Also explore how to resize images in tensorflow and then resize all the images to a same size.\n",
        "This is a Multiclass Classification Problem.\n",
        "\n",
        "\n",
        "Data :\n",
        "https://drive.google.com/file/d/1-OX6wn5gA-bJpjPNfSyaYQLz-A-AB_uj/view?usp=sharing"
      ],
      "metadata": {
        "id": "nPLbeFHPgM_n"
      }
    },
    {
      "cell_type": "code",
      "source": [
        "import numpy as np\n",
        "import pandas as pd\n",
        "import tensorflow as tf\n",
        "tf.__version__"
      ],
      "metadata": {
        "colab": {
          "base_uri": "https://localhost:8080/",
          "height": 36
        },
        "id": "2yoJSntmrAVJ",
        "outputId": "1cdd1af5-db63-430e-9872-5139d948a57a"
      },
      "execution_count": 1,
      "outputs": [
        {
          "output_type": "execute_result",
          "data": {
            "text/plain": [
              "'2.8.2'"
            ],
            "application/vnd.google.colaboratory.intrinsic+json": {
              "type": "string"
            }
          },
          "metadata": {},
          "execution_count": 1
        }
      ]
    },
    {
      "cell_type": "code",
      "source": [
        "!ls -ahl"
      ],
      "metadata": {
        "colab": {
          "base_uri": "https://localhost:8080/"
        },
        "id": "ojJTG5LwFvFI",
        "outputId": "fce24909-fff2-46e0-9cdc-653c10443733"
      },
      "execution_count": 2,
      "outputs": [
        {
          "output_type": "stream",
          "name": "stdout",
          "text": [
            "total 20K\n",
            "drwxr-xr-x 1 root root 4.0K Aug  5 12:19 .\n",
            "drwxr-xr-x 1 root root 4.0K Aug  5 12:18 ..\n",
            "drwxr-xr-x 4 root root 4.0K Aug  3 20:20 .config\n",
            "drwx------ 5 root root 4.0K Aug  5 12:19 drive\n",
            "drwxr-xr-x 1 root root 4.0K Aug  3 20:21 sample_data\n"
          ]
        }
      ]
    },
    {
      "cell_type": "code",
      "source": [
        "from google.colab import drive\n",
        "drive.mount(\"/content/drive\")"
      ],
      "metadata": {
        "colab": {
          "base_uri": "https://localhost:8080/"
        },
        "id": "FGnF21h3rGv1",
        "outputId": "9e7ddd19-614d-4cd3-ebb2-6d0c8f4bd08c"
      },
      "execution_count": 3,
      "outputs": [
        {
          "output_type": "stream",
          "name": "stdout",
          "text": [
            "Drive already mounted at /content/drive; to attempt to forcibly remount, call drive.mount(\"/content/drive\", force_remount=True).\n"
          ]
        }
      ]
    },
    {
      "cell_type": "code",
      "source": [
        "!rm -Rf flowers\n",
        "!unzip '/content/drive/MyDrive/New/archive.zip'"
      ],
      "metadata": {
        "id": "_rkvUh2LFui-"
      },
      "execution_count": null,
      "outputs": []
    },
    {
      "cell_type": "code",
      "source": [
        "!ls flowers\n",
        "!rm -Rf flowers/flowers\n",
        "!rm -Rf data"
      ],
      "metadata": {
        "id": "vI9NTd4lG_M8",
        "colab": {
          "base_uri": "https://localhost:8080/"
        },
        "outputId": "ca103a80-c68c-418d-af10-7c4231bd84c3"
      },
      "execution_count": 5,
      "outputs": [
        {
          "output_type": "stream",
          "name": "stdout",
          "text": [
            "daisy  dandelion  flowers  rose  sunflower  tulip\n"
          ]
        }
      ]
    },
    {
      "cell_type": "code",
      "source": [
        "!pip install split-folders"
      ],
      "metadata": {
        "id": "dA0i7yaEHAAA",
        "colab": {
          "base_uri": "https://localhost:8080/"
        },
        "outputId": "46969a67-1269-4d86-a4fc-52e98310af66"
      },
      "execution_count": 6,
      "outputs": [
        {
          "output_type": "stream",
          "name": "stdout",
          "text": [
            "Looking in indexes: https://pypi.org/simple, https://us-python.pkg.dev/colab-wheels/public/simple/\n",
            "Collecting split-folders\n",
            "  Downloading split_folders-0.5.1-py3-none-any.whl (8.4 kB)\n",
            "Installing collected packages: split-folders\n",
            "Successfully installed split-folders-0.5.1\n"
          ]
        }
      ]
    },
    {
      "cell_type": "code",
      "source": [
        "import splitfolders\n",
        "splitfolders.ratio('flowers', output=\"data\", seed=1337, ratio=(0.7,0.2,0.1))\n"
      ],
      "metadata": {
        "id": "yGDQmLnEHACz",
        "colab": {
          "base_uri": "https://localhost:8080/"
        },
        "outputId": "8e568d80-26d7-4030-ca81-d301fa6bc338"
      },
      "execution_count": 7,
      "outputs": [
        {
          "output_type": "stream",
          "name": "stderr",
          "text": [
            "Copying files: 4326 files [00:01, 3926.63 files/s]\n"
          ]
        }
      ]
    },
    {
      "cell_type": "code",
      "source": [
        "import os\n",
        "def files_count(base_dir):\n",
        "  path=os.walk(base_dir,topdown=True)\n",
        "  for root, directories, files in path:\n",
        "   total=0\n",
        "   for directory in directories:\n",
        "    full_path=os.path.join(base_dir,directory)\n",
        "    ln=len(os.listdir(full_path))\n",
        "    print(full_path, ln)\n",
        "    total=total+ln\n",
        "    print(\"total\", root, total)\n",
        "files_count('flowers')\n",
        "files_count('data/train')\n",
        "files_count('data/val')\n",
        "files_count('data/test')"
      ],
      "metadata": {
        "id": "PfuqBDBjHAF5"
      },
      "execution_count": null,
      "outputs": []
    },
    {
      "cell_type": "code",
      "source": [
        "from keras.preprocessing.image import ImageDataGenerator\n",
        "train_datagen=ImageDataGenerator(rescale=1./225)\n",
        "validation_datagen=ImageDataGenerator(rescale=1./225)"
      ],
      "metadata": {
        "id": "mhh1F96LYKmD"
      },
      "execution_count": 9,
      "outputs": []
    },
    {
      "cell_type": "code",
      "source": [
        "train_dir='data/train'\n",
        "validation_dir='data/val'\n",
        "test_dir='data/test'\n",
        "batch_size=100\n",
        "train_generator=train_datagen.flow_from_directory(\n",
        "        'data/train',\n",
        "        target_size=(150, 150),\n",
        "        batch_size=batch_size,\n",
        "        class_mode='categorical')\n",
        "validation_generator = validation_datagen.flow_from_directory(\n",
        "        'data/val',\n",
        "        target_size=(150, 150),\n",
        "        batch_size=batch_size,\n",
        "        class_mode='categorical')"
      ],
      "metadata": {
        "id": "Qyi4GYfirAcx",
        "colab": {
          "base_uri": "https://localhost:8080/"
        },
        "outputId": "b787a734-cddd-4de6-9c83-d58db56706a8"
      },
      "execution_count": 23,
      "outputs": [
        {
          "output_type": "stream",
          "name": "stdout",
          "text": [
            "Found 3022 images belonging to 5 classes.\n",
            "Found 862 images belonging to 5 classes.\n"
          ]
        }
      ]
    },
    {
      "cell_type": "code",
      "source": [
        "for data_batch, labels_batch in train_generator:\n",
        "   print('data batch shape:', data_batch.shape)\n",
        "   print('labels batch shape:', labels_batch.shape)\n",
        "   break"
      ],
      "metadata": {
        "colab": {
          "base_uri": "https://localhost:8080/"
        },
        "id": "5zLpd3jQ8_bA",
        "outputId": "1d06d401-e1fe-4e68-bb09-e82f6a1f9598"
      },
      "execution_count": 13,
      "outputs": [
        {
          "output_type": "stream",
          "name": "stdout",
          "text": [
            "data batch shape: (20, 150, 150, 3)\n",
            "labels batch shape: (20, 5)\n"
          ]
        }
      ]
    },
    {
      "cell_type": "code",
      "source": [
        "from keras import models\n",
        "from keras import layers\n",
        "from keras import regularizers\n",
        "from keras import optimizers\n",
        "from keras import layers\n",
        "from keras import models\n",
        "model = models.Sequential()\n",
        "model.add(layers.Conv2D(34, (3, 3), activation='relu',\n",
        "input_shape=(150, 150, 3)))\n",
        "model.add(layers.MaxPooling2D((2, 2)))\n",
        "model.add(layers.Conv2D(64, (3, 3), activation='relu'))\n",
        "model.add(layers.MaxPooling2D((2, 2)))\n",
        "model.add(layers.Conv2D(64, (3, 3), activation='relu'))\n",
        "model.add(layers.MaxPooling2D((2, 2)))\n",
        "model.add(layers.Conv2D(128, (3, 3), activation='relu'))\n",
        "model.add(layers.MaxPooling2D((2, 2)))\n",
        "model.add(layers.Flatten())\n",
        "model.add(layers.Dense(512, activation='relu'))\n",
        "model.add(layers.Dense(5, activation='softmax'))\n",
        "model.compile(optimizer='rmsprop',loss='categorical_crossentropy',metrics=['accuracy'])"
      ],
      "metadata": {
        "id": "Zh8_qmcUhx5U"
      },
      "execution_count": 42,
      "outputs": []
    },
    {
      "cell_type": "code",
      "source": [
        "\n",
        "steps_per_epoch=3025//batch_size\n",
        "validation_steps=862//batch_size\n",
        "print(steps_per_epoch, validation_steps)\n",
        "history=model.fit(train_generator,steps_per_epoch=steps_per_epoch,epochs=5\n",
        "                  ,validation_data=validation_generator, validation_steps=validation_steps)"
      ],
      "metadata": {
        "colab": {
          "base_uri": "https://localhost:8080/"
        },
        "id": "XcphJ5bOhyAw",
        "outputId": "04a5d629-fb69-42a8-e5f1-42473004760d"
      },
      "execution_count": 44,
      "outputs": [
        {
          "output_type": "stream",
          "name": "stdout",
          "text": [
            "30 8\n",
            "Epoch 1/5\n",
            "30/30 [==============================] - 147s 5s/step - loss: 1.1684 - accuracy: 0.5257 - val_loss: 1.3760 - val_accuracy: 0.4150\n",
            "Epoch 2/5\n",
            "30/30 [==============================] - 154s 5s/step - loss: 1.0611 - accuracy: 0.5784 - val_loss: 1.1141 - val_accuracy: 0.5288\n",
            "Epoch 3/5\n",
            "30/30 [==============================] - 144s 5s/step - loss: 0.9905 - accuracy: 0.6126 - val_loss: 1.0539 - val_accuracy: 0.5975\n",
            "Epoch 4/5\n",
            "30/30 [==============================] - 145s 5s/step - loss: 0.9108 - accuracy: 0.6441 - val_loss: 1.1415 - val_accuracy: 0.5562\n",
            "Epoch 5/5\n",
            "30/30 [==============================] - 151s 5s/step - loss: 0.8692 - accuracy: 0.6708 - val_loss: 0.8733 - val_accuracy: 0.6687\n"
          ]
        }
      ]
    },
    {
      "cell_type": "code",
      "source": [
        "import matplotlib.pyplot as plt\n",
        "acc = history.history['accuracy']\n",
        "val_acc = history.history['val_accuracy']\n",
        "loss = history.history['loss']\n",
        "val_loss = history.history['val_loss']\n",
        "epochs = range(1, len(acc) + 1)\n",
        "plt.plot(epochs, acc, 'bo', label='Training acc')\n",
        "plt.plot(epochs, val_acc, 'b', label='Validation acc')\n",
        "plt.title('Training and validation accuracy')\n",
        "plt.legend()\n",
        "plt.figure()\n",
        "plt.plot(epochs, loss, 'bo', label='Training loss')\n",
        "plt.plot(epochs, val_loss, 'b', label='Validation loss')\n",
        "plt.title('Training and validation loss')\n",
        "plt.legend()\n",
        "plt.show()"
      ],
      "metadata": {
        "colab": {
          "base_uri": "https://localhost:8080/",
          "height": 545
        },
        "id": "kQFWPFnV98Kc",
        "outputId": "8004f9c5-4639-4338-aca1-036a6c5dd641"
      },
      "execution_count": 45,
      "outputs": [
        {
          "output_type": "display_data",
          "data": {
            "text/plain": [
              "<Figure size 432x288 with 1 Axes>"
            ],
            "image/png": "[encoded data removed]"
          },
          "metadata": {
            "needs_background": "light"
          }
        },
        {
          "output_type": "display_data",
          "data": {
            "text/plain": [
              "<Figure size 432x288 with 1 Axes>"
            ],
            "image/png": "[encoded data removed]"
          },
          "metadata": {
            "needs_background": "light"
          }
        }
      ]
    },
    {
      "cell_type": "code",
      "source": [
        "test_generator = validation_datagen.flow_from_directory(\n",
        "        'data/test',\n",
        "        target_size=(150, 150),\n",
        "        batch_size=batch_size,\n",
        "        class_mode='categorical')"
      ],
      "metadata": {
        "id": "pT_5M-7nhyFN",
        "colab": {
          "base_uri": "https://localhost:8080/"
        },
        "outputId": "a86ce518-482b-4c84-dd20-17572c54edb8"
      },
      "execution_count": 46,
      "outputs": [
        {
          "output_type": "stream",
          "name": "stdout",
          "text": [
            "Found 439 images belonging to 5 classes.\n"
          ]
        }
      ]
    },
    {
      "cell_type": "code",
      "source": [
        "testing_steps=439// batch_size\n",
        "testing=model.evaluate(test_generator,steps=testing_steps)"
      ],
      "metadata": {
        "id": "PyjP6qdEhyK9",
        "colab": {
          "base_uri": "https://localhost:8080/"
        },
        "outputId": "125f611d-f810-4d61-fa59-6f795d99661a"
      },
      "execution_count": 47,
      "outputs": [
        {
          "output_type": "stream",
          "name": "stdout",
          "text": [
            "4/4 [==============================] - 6s 1s/step - loss: 0.8406 - accuracy: 0.7000\n"
          ]
        }
      ]
    },
    {
      "cell_type": "code",
      "source": [
        ""
      ],
      "metadata": {
        "id": "tz48LM37rAfn"
      },
      "execution_count": null,
      "outputs": []
    },
    {
      "cell_type": "code",
      "source": [
        ""
      ],
      "metadata": {
        "id": "8qNRajHcrAh9"
      },
      "execution_count": null,
      "outputs": []
    }
  ]
}